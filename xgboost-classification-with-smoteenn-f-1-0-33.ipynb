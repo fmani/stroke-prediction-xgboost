{
 "cells": [
  {
   "cell_type": "code",
   "execution_count": 1,
   "id": "adult-brief",
   "metadata": {
    "_cell_guid": "b1076dfc-b9ad-4769-8c92-a6c4dae69d19",
    "_kg_hide-input": true,
    "_uuid": "8f2839f25d086af736a60e9eeb907d3b93b6e0e5",
    "execution": {
     "iopub.execute_input": "2021-04-12T12:23:07.747668Z",
     "iopub.status.busy": "2021-04-12T12:23:07.746905Z",
     "iopub.status.idle": "2021-04-12T12:23:07.763887Z",
     "shell.execute_reply": "2021-04-12T12:23:07.763038Z"
    },
    "papermill": {
     "duration": 0.063074,
     "end_time": "2021-04-12T12:23:07.764072",
     "exception": false,
     "start_time": "2021-04-12T12:23:07.700998",
     "status": "completed"
    },
    "tags": []
   },
   "outputs": [
    {
     "name": "stdout",
     "output_type": "stream",
     "text": [
      "/kaggle/input/stroke-prediction-dataset/healthcare-dataset-stroke-data.csv\n"
     ]
    }
   ],
   "source": [
    "# This Python 3 environment comes with many helpful analytics libraries installed\n",
    "# It is defined by the kaggle/python Docker image: https://github.com/kaggle/docker-python\n",
    "# For example, here's several helpful packages to load\n",
    "\n",
    "import numpy as np # linear algebra\n",
    "import pandas as pd # data processing, CSV file I/O (e.g. pd.read_csv)\n",
    "\n",
    "# Input data files are available in the read-only \"../input/\" directory\n",
    "# For example, running this (by clicking run or pressing Shift+Enter) will list all files under the input directory\n",
    "\n",
    "import os\n",
    "for dirname, _, filenames in os.walk('/kaggle/input'):\n",
    "    for filename in filenames:\n",
    "        print(os.path.join(dirname, filename))\n",
    "\n",
    "# You can write up to 20GB to the current directory (/kaggle/working/) that gets preserved as output when you create a version using \"Save & Run All\" \n",
    "# You can also write temporary files to /kaggle/temp/, but they won't be saved outside of the current session"
   ]
  },
  {
   "cell_type": "code",
   "execution_count": 2,
   "id": "numeric-christmas",
   "metadata": {
    "_kg_hide-input": true,
    "execution": {
     "iopub.execute_input": "2021-04-12T12:23:07.850249Z",
     "iopub.status.busy": "2021-04-12T12:23:07.849442Z",
     "iopub.status.idle": "2021-04-12T12:23:09.968498Z",
     "shell.execute_reply": "2021-04-12T12:23:09.967775Z"
    },
    "papermill": {
     "duration": 2.164777,
     "end_time": "2021-04-12T12:23:09.968648",
     "exception": false,
     "start_time": "2021-04-12T12:23:07.803871",
     "status": "completed"
    },
    "tags": []
   },
   "outputs": [],
   "source": [
    "import matplotlib.pyplot as plt\n",
    "import seaborn as sns \n",
    "sns.set(style=\"ticks\", color_codes=True)\n",
    "from sklearn.model_selection import train_test_split\n",
    "import xgboost as xgb\n",
    "from sklearn.metrics import confusion_matrix\n",
    "from sklearn.metrics import accuracy_score\n",
    "from sklearn.metrics import f1_score, recall_score, precision_score, roc_auc_score\n",
    "from imblearn.over_sampling import SMOTE\n",
    "from imblearn.under_sampling import RandomUnderSampler\n",
    "from imblearn.combine import SMOTEENN\n",
    "from imblearn.combine import SMOTETomek\n",
    "from imblearn.over_sampling import RandomOverSampler\n",
    "from sklearn.model_selection import GridSearchCV\n",
    "from sklearn.gaussian_process.kernels import RBF\n",
    "from sklearn.gaussian_process import GaussianProcessClassifier\n",
    "from sklearn.feature_selection import SelectKBest\n",
    "from sklearn.feature_selection import chi2, f_classif\n",
    "from sklearn.preprocessing import OrdinalEncoder,OneHotEncoder\n",
    "from sklearn.feature_selection import RFE\n",
    "from sklearn.ensemble import RandomForestClassifier\n",
    "from sklearn.decomposition import PCA\n",
    "from sklearn.preprocessing import MinMaxScaler"
   ]
  },
  {
   "cell_type": "markdown",
   "id": "becoming-adrian",
   "metadata": {
    "papermill": {
     "duration": 0.036549,
     "end_time": "2021-04-12T12:23:10.041400",
     "exception": false,
     "start_time": "2021-04-12T12:23:10.004851",
     "status": "completed"
    },
    "tags": []
   },
   "source": [
    "## Introduction\n",
    "\n",
    "***\n",
    "\n",
    "In what follows, I will analyze the [Stroke Prediction Dataset](https://www.kaggle.com/fedesoriano/stroke-prediction-dataset) containing relevant information about ~5k patients. The aim of this study is to check whether, given a set of features describing the health status of the patient, it is possible to predict a stroke event.   \n",
    "\n",
    "The complete list of attributes includes 12 features which are listed below:\n",
    "\n",
    "1. id: unique identifier\n",
    "2. gender: \"Male\", \"Female\" or \"Other\"\n",
    "3. age: age of the patient\n",
    "4. hypertension: 0 if the patient doesn't have hypertension, 1 if the patient has hypertension\n",
    "5. heart_disease: 0 if the patient doesn't have any heart diseases, 1 if the patient has a heart disease\n",
    "6. ever_married: \"No\" or \"Yes\"\n",
    "7. work_type: \"children\", \"Govt_jov\", \"Never_worked\", \"Private\" or \"Self-employed\"\n",
    "8. Residence_type: \"Rural\" or \"Urban\"\n",
    "9. avg_glucose_level: average glucose level in blood\n",
    "10. bmi: body mass index\n",
    "11. smoking_status: \"formerly smoked\", \"never smoked\", \"smokes\" or \"Unknown\"*\n",
    "12. stroke: 1 if the patient had a stroke or 0 if not\n",
    "\n",
    "***\n",
    "\n",
    "## Index\n",
    "\n",
    "The notebook has been structured as follows:\n",
    "\n",
    "1. [Read the dataset and get familiar with the data](#1.-Read-the-dataset-and-get-familiar-with-the-data)\n",
    "    1. [Feature engineering](#1.A-Feature-engineering)\n",
    "2. [Data visualization](#2.-Data-visualization)\n",
    "    1. [Distributions](#2.1-Distributions)\n",
    "    2. [Study of the correlation matrix](#2.2-Study-of-the-correlation-matrix)\n",
    "3. [Testing resampling techniques with XGBoost binary classifier](#3.-Testing-resampling-techniques-with-XGBoost-binary-classifier)\n",
    "    1. [Hyperparameters tuning with GridSearchCV](#3.1-Hyperparameters-tuning-with-GridSearchCV)\n",
    "4. [Dimensionality reduction](#4.-Dimensionality-reduction)\n",
    "    1. [Univariate analysis](#4.A-Univariate-analysis)\n",
    "    2. <a href=\"#4.B-Recursive-feature-elimination-(RFE)-with-random-forestt\">Recursive feature elimination (RFE) with random forest</a>\n",
    "    3. <a href=\"#4.C-RFE-with-Cross-Validation-(RFECV)-with-random-forest\">RFE with Cross Validation (RFECV) with xgboost</a>\n",
    "    4. <a href=\"#4.D-Principle-component-analysis-(PCA)-for-feature-extraction\">Principle component analysis (PCA) for feature extraction</a>"
   ]
  },
  {
   "cell_type": "markdown",
   "id": "further-branch",
   "metadata": {
    "papermill": {
     "duration": 0.03666,
     "end_time": "2021-04-12T12:23:10.114365",
     "exception": false,
     "start_time": "2021-04-12T12:23:10.077705",
     "status": "completed"
    },
    "tags": []
   },
   "source": [
    "## 1. Read the dataset and get familiar with the data\n",
    "### 1.A Feature engineering\n",
    "The dataset includes the data for 5110 patients, each one being associated with a unique ID which is not a relevant feature for the analysis presented here. There are 8 categorical features:   `gender`,`hypertension`,`heart_disease`,`ever_married`,`work_type`,`residence_type`,`smoking status`,`stroke`,  \n",
    "and 3 non-categorical (discrete or continuous) features  \n",
    "`age`,`avg_glucose_level` and `bmi`.\n",
    "\n",
    "The `stroke` feature will be the target variable we aim to predict. "
   ]
  },
  {
   "cell_type": "code",
   "execution_count": 3,
   "id": "mental-brass",
   "metadata": {
    "execution": {
     "iopub.execute_input": "2021-04-12T12:23:10.192600Z",
     "iopub.status.busy": "2021-04-12T12:23:10.191828Z",
     "iopub.status.idle": "2021-04-12T12:23:10.256000Z",
     "shell.execute_reply": "2021-04-12T12:23:10.255323Z"
    },
    "papermill": {
     "duration": 0.105662,
     "end_time": "2021-04-12T12:23:10.256143",
     "exception": false,
     "start_time": "2021-04-12T12:23:10.150481",
     "status": "completed"
    },
    "tags": []
   },
   "outputs": [
    {
     "data": {
      "text/html": [
       "<div>\n",
       "<style scoped>\n",
       "    .dataframe tbody tr th:only-of-type {\n",
       "        vertical-align: middle;\n",
       "    }\n",
       "\n",
       "    .dataframe tbody tr th {\n",
       "        vertical-align: top;\n",
       "    }\n",
       "\n",
       "    .dataframe thead th {\n",
       "        text-align: right;\n",
       "    }\n",
       "</style>\n",
       "<table border=\"1\" class=\"dataframe\">\n",
       "  <thead>\n",
       "    <tr style=\"text-align: right;\">\n",
       "      <th></th>\n",
       "      <th>id</th>\n",
       "      <th>gender</th>\n",
       "      <th>age</th>\n",
       "      <th>hypertension</th>\n",
       "      <th>heart_disease</th>\n",
       "      <th>ever_married</th>\n",
       "      <th>work_type</th>\n",
       "      <th>Residence_type</th>\n",
       "      <th>avg_glucose_level</th>\n",
       "      <th>bmi</th>\n",
       "      <th>smoking_status</th>\n",
       "      <th>stroke</th>\n",
       "    </tr>\n",
       "  </thead>\n",
       "  <tbody>\n",
       "    <tr>\n",
       "      <th>0</th>\n",
       "      <td>9046</td>\n",
       "      <td>Male</td>\n",
       "      <td>67.0</td>\n",
       "      <td>0</td>\n",
       "      <td>1</td>\n",
       "      <td>Yes</td>\n",
       "      <td>Private</td>\n",
       "      <td>Urban</td>\n",
       "      <td>228.69</td>\n",
       "      <td>36.6</td>\n",
       "      <td>formerly smoked</td>\n",
       "      <td>1</td>\n",
       "    </tr>\n",
       "    <tr>\n",
       "      <th>1</th>\n",
       "      <td>51676</td>\n",
       "      <td>Female</td>\n",
       "      <td>61.0</td>\n",
       "      <td>0</td>\n",
       "      <td>0</td>\n",
       "      <td>Yes</td>\n",
       "      <td>Self-employed</td>\n",
       "      <td>Rural</td>\n",
       "      <td>202.21</td>\n",
       "      <td>NaN</td>\n",
       "      <td>never smoked</td>\n",
       "      <td>1</td>\n",
       "    </tr>\n",
       "    <tr>\n",
       "      <th>2</th>\n",
       "      <td>31112</td>\n",
       "      <td>Male</td>\n",
       "      <td>80.0</td>\n",
       "      <td>0</td>\n",
       "      <td>1</td>\n",
       "      <td>Yes</td>\n",
       "      <td>Private</td>\n",
       "      <td>Rural</td>\n",
       "      <td>105.92</td>\n",
       "      <td>32.5</td>\n",
       "      <td>never smoked</td>\n",
       "      <td>1</td>\n",
       "    </tr>\n",
       "    <tr>\n",
       "      <th>3</th>\n",
       "      <td>60182</td>\n",
       "      <td>Female</td>\n",
       "      <td>49.0</td>\n",
       "      <td>0</td>\n",
       "      <td>0</td>\n",
       "      <td>Yes</td>\n",
       "      <td>Private</td>\n",
       "      <td>Urban</td>\n",
       "      <td>171.23</td>\n",
       "      <td>34.4</td>\n",
       "      <td>smokes</td>\n",
       "      <td>1</td>\n",
       "    </tr>\n",
       "    <tr>\n",
       "      <th>4</th>\n",
       "      <td>1665</td>\n",
       "      <td>Female</td>\n",
       "      <td>79.0</td>\n",
       "      <td>1</td>\n",
       "      <td>0</td>\n",
       "      <td>Yes</td>\n",
       "      <td>Self-employed</td>\n",
       "      <td>Rural</td>\n",
       "      <td>174.12</td>\n",
       "      <td>24.0</td>\n",
       "      <td>never smoked</td>\n",
       "      <td>1</td>\n",
       "    </tr>\n",
       "  </tbody>\n",
       "</table>\n",
       "</div>"
      ],
      "text/plain": [
       "      id  gender   age  hypertension  heart_disease ever_married  \\\n",
       "0   9046    Male  67.0             0              1          Yes   \n",
       "1  51676  Female  61.0             0              0          Yes   \n",
       "2  31112    Male  80.0             0              1          Yes   \n",
       "3  60182  Female  49.0             0              0          Yes   \n",
       "4   1665  Female  79.0             1              0          Yes   \n",
       "\n",
       "       work_type Residence_type  avg_glucose_level   bmi   smoking_status  \\\n",
       "0        Private          Urban             228.69  36.6  formerly smoked   \n",
       "1  Self-employed          Rural             202.21   NaN     never smoked   \n",
       "2        Private          Rural             105.92  32.5     never smoked   \n",
       "3        Private          Urban             171.23  34.4           smokes   \n",
       "4  Self-employed          Rural             174.12  24.0     never smoked   \n",
       "\n",
       "   stroke  \n",
       "0       1  \n",
       "1       1  \n",
       "2       1  \n",
       "3       1  \n",
       "4       1  "
      ]
     },
     "execution_count": 3,
     "metadata": {},
     "output_type": "execute_result"
    }
   ],
   "source": [
    "df = pd.read_csv('/kaggle/input/stroke-prediction-dataset/healthcare-dataset-stroke-data.csv')\n",
    "df.head()"
   ]
  },
  {
   "cell_type": "code",
   "execution_count": 4,
   "id": "tutorial-finish",
   "metadata": {
    "_kg_hide-input": true,
    "execution": {
     "iopub.execute_input": "2021-04-12T12:23:10.369230Z",
     "iopub.status.busy": "2021-04-12T12:23:10.368111Z",
     "iopub.status.idle": "2021-04-12T12:23:10.374966Z",
     "shell.execute_reply": "2021-04-12T12:23:10.374118Z"
    },
    "papermill": {
     "duration": 0.067745,
     "end_time": "2021-04-12T12:23:10.375190",
     "exception": false,
     "start_time": "2021-04-12T12:23:10.307445",
     "status": "completed"
    },
    "tags": []
   },
   "outputs": [],
   "source": [
    "#The gender section can take three different values: 'Male', 'Female' and 'Other'. \n",
    "#However, in the next line I check that there is just one patient in the category 'Other'. For this reson, since there is not a sufficiently high number of representatives in this category to perform a statistical analysis, \n",
    "#I will drop the corresponding line. Sorry for that :)\n",
    "df.drop(df[df['gender']=='Other'].index,inplace=True)\n",
    "df.drop(['id'],axis=1,inplace=True)"
   ]
  },
  {
   "cell_type": "code",
   "execution_count": 5,
   "id": "existing-conditioning",
   "metadata": {
    "execution": {
     "iopub.execute_input": "2021-04-12T12:23:10.466264Z",
     "iopub.status.busy": "2021-04-12T12:23:10.465546Z",
     "iopub.status.idle": "2021-04-12T12:23:10.469947Z",
     "shell.execute_reply": "2021-04-12T12:23:10.469366Z"
    },
    "papermill": {
     "duration": 0.052736,
     "end_time": "2021-04-12T12:23:10.470098",
     "exception": false,
     "start_time": "2021-04-12T12:23:10.417362",
     "status": "completed"
    },
    "tags": []
   },
   "outputs": [
    {
     "data": {
      "text/plain": [
       "gender                 0\n",
       "age                    0\n",
       "hypertension           0\n",
       "heart_disease          0\n",
       "ever_married           0\n",
       "work_type              0\n",
       "Residence_type         0\n",
       "avg_glucose_level      0\n",
       "bmi                  201\n",
       "smoking_status         0\n",
       "stroke                 0\n",
       "dtype: int64"
      ]
     },
     "execution_count": 5,
     "metadata": {},
     "output_type": "execute_result"
    }
   ],
   "source": [
    "df.isnull().sum()"
   ]
  },
  {
   "cell_type": "markdown",
   "id": "amber-bahrain",
   "metadata": {
    "papermill": {
     "duration": 0.03721,
     "end_time": "2021-04-12T12:23:10.544837",
     "exception": false,
     "start_time": "2021-04-12T12:23:10.507627",
     "status": "completed"
    },
    "tags": []
   },
   "source": [
    "There are 201 NaNs values in the bmi field, for this reason I will employ the [nearest neighbors](https://scikit-learn.org/stable/modules/generated/sklearn.impute.KNNImputer.html#sklearn.impute.KNNImputer) imputation provided by the scikit-learn library."
   ]
  },
  {
   "cell_type": "code",
   "execution_count": 6,
   "id": "chicken-stomach",
   "metadata": {
    "execution": {
     "iopub.execute_input": "2021-04-12T12:23:10.622943Z",
     "iopub.status.busy": "2021-04-12T12:23:10.622331Z",
     "iopub.status.idle": "2021-04-12T12:23:10.714727Z",
     "shell.execute_reply": "2021-04-12T12:23:10.715831Z"
    },
    "papermill": {
     "duration": 0.133974,
     "end_time": "2021-04-12T12:23:10.716144",
     "exception": false,
     "start_time": "2021-04-12T12:23:10.582170",
     "status": "completed"
    },
    "tags": []
   },
   "outputs": [],
   "source": [
    "from sklearn.impute import KNNImputer\n",
    "imp = KNNImputer(missing_values=np.NaN)\n",
    "df.bmi = imp.fit_transform(df['bmi'].values.reshape(-1,1))[:,0]"
   ]
  },
  {
   "cell_type": "markdown",
   "id": "broke-ensemble",
   "metadata": {
    "papermill": {
     "duration": 0.037587,
     "end_time": "2021-04-12T12:23:10.818486",
     "exception": false,
     "start_time": "2021-04-12T12:23:10.780899",
     "status": "completed"
    },
    "tags": []
   },
   "source": [
    "Encoding the categorical variables with the [sklearn ordinal encoder](https://scikit-learn.org/stable/modules/generated/sklearn.preprocessing.OrdinalEncoder.html#sklearn.preprocessing.OrdinalEncoder) for computing the correlation between features. However, given that there is no intrinsic order among the categories in each feature, [one-hot encoding](https://scikit-learn.org/stable/modules/generated/sklearn.preprocessing.OneHotEncoder.html#sklearn.preprocessing.OneHotEncoder) is more suitable for this task.\n",
    "\n",
    "Many other algorithms can be tested. In particular, there is [a very interesting package](http://contrib.scikit-learn.org/category_encoders/index.html#) including many encoding algorithms.\n"
   ]
  },
  {
   "cell_type": "code",
   "execution_count": 7,
   "id": "subjective-criminal",
   "metadata": {
    "execution": {
     "iopub.execute_input": "2021-04-12T12:23:10.917471Z",
     "iopub.status.busy": "2021-04-12T12:23:10.916041Z",
     "iopub.status.idle": "2021-04-12T12:23:10.950527Z",
     "shell.execute_reply": "2021-04-12T12:23:10.949863Z"
    },
    "papermill": {
     "duration": 0.094631,
     "end_time": "2021-04-12T12:23:10.950684",
     "exception": false,
     "start_time": "2021-04-12T12:23:10.856053",
     "status": "completed"
    },
    "tags": []
   },
   "outputs": [],
   "source": [
    "categ_feat = ['gender','Residence_type','work_type','ever_married','smoking_status']\n",
    "encoder = OrdinalEncoder()\n",
    "result = encoder.fit_transform(df[categ_feat])\n",
    "df_ordinal = df.copy()\n",
    "df_ordinal[categ_feat] = result\n",
    "\n",
    "\n",
    "dummies = pd.get_dummies(df[categ_feat],drop_first=True )\n",
    "df_tmp = df.drop(categ_feat, axis = 1)\n",
    "df_one_hot = pd.concat([df_tmp,dummies],axis=1)"
   ]
  },
  {
   "cell_type": "code",
   "execution_count": 8,
   "id": "written-portland",
   "metadata": {
    "execution": {
     "iopub.execute_input": "2021-04-12T12:23:11.045291Z",
     "iopub.status.busy": "2021-04-12T12:23:11.043498Z",
     "iopub.status.idle": "2021-04-12T12:23:11.049137Z",
     "shell.execute_reply": "2021-04-12T12:23:11.049649Z"
    },
    "papermill": {
     "duration": 0.060659,
     "end_time": "2021-04-12T12:23:11.049819",
     "exception": false,
     "start_time": "2021-04-12T12:23:10.989160",
     "status": "completed"
    },
    "tags": []
   },
   "outputs": [
    {
     "data": {
      "text/html": [
       "<div>\n",
       "<style scoped>\n",
       "    .dataframe tbody tr th:only-of-type {\n",
       "        vertical-align: middle;\n",
       "    }\n",
       "\n",
       "    .dataframe tbody tr th {\n",
       "        vertical-align: top;\n",
       "    }\n",
       "\n",
       "    .dataframe thead th {\n",
       "        text-align: right;\n",
       "    }\n",
       "</style>\n",
       "<table border=\"1\" class=\"dataframe\">\n",
       "  <thead>\n",
       "    <tr style=\"text-align: right;\">\n",
       "      <th></th>\n",
       "      <th>age</th>\n",
       "      <th>hypertension</th>\n",
       "      <th>heart_disease</th>\n",
       "      <th>avg_glucose_level</th>\n",
       "      <th>bmi</th>\n",
       "      <th>stroke</th>\n",
       "      <th>gender_Male</th>\n",
       "      <th>Residence_type_Urban</th>\n",
       "      <th>work_type_Never_worked</th>\n",
       "      <th>work_type_Private</th>\n",
       "      <th>work_type_Self-employed</th>\n",
       "      <th>work_type_children</th>\n",
       "      <th>ever_married_Yes</th>\n",
       "      <th>smoking_status_formerly smoked</th>\n",
       "      <th>smoking_status_never smoked</th>\n",
       "      <th>smoking_status_smokes</th>\n",
       "    </tr>\n",
       "  </thead>\n",
       "  <tbody>\n",
       "    <tr>\n",
       "      <th>0</th>\n",
       "      <td>67.0</td>\n",
       "      <td>0</td>\n",
       "      <td>1</td>\n",
       "      <td>228.69</td>\n",
       "      <td>36.60000</td>\n",
       "      <td>1</td>\n",
       "      <td>1</td>\n",
       "      <td>1</td>\n",
       "      <td>0</td>\n",
       "      <td>1</td>\n",
       "      <td>0</td>\n",
       "      <td>0</td>\n",
       "      <td>1</td>\n",
       "      <td>1</td>\n",
       "      <td>0</td>\n",
       "      <td>0</td>\n",
       "    </tr>\n",
       "    <tr>\n",
       "      <th>1</th>\n",
       "      <td>61.0</td>\n",
       "      <td>0</td>\n",
       "      <td>0</td>\n",
       "      <td>202.21</td>\n",
       "      <td>28.89456</td>\n",
       "      <td>1</td>\n",
       "      <td>0</td>\n",
       "      <td>0</td>\n",
       "      <td>0</td>\n",
       "      <td>0</td>\n",
       "      <td>1</td>\n",
       "      <td>0</td>\n",
       "      <td>1</td>\n",
       "      <td>0</td>\n",
       "      <td>1</td>\n",
       "      <td>0</td>\n",
       "    </tr>\n",
       "    <tr>\n",
       "      <th>2</th>\n",
       "      <td>80.0</td>\n",
       "      <td>0</td>\n",
       "      <td>1</td>\n",
       "      <td>105.92</td>\n",
       "      <td>32.50000</td>\n",
       "      <td>1</td>\n",
       "      <td>1</td>\n",
       "      <td>0</td>\n",
       "      <td>0</td>\n",
       "      <td>1</td>\n",
       "      <td>0</td>\n",
       "      <td>0</td>\n",
       "      <td>1</td>\n",
       "      <td>0</td>\n",
       "      <td>1</td>\n",
       "      <td>0</td>\n",
       "    </tr>\n",
       "    <tr>\n",
       "      <th>3</th>\n",
       "      <td>49.0</td>\n",
       "      <td>0</td>\n",
       "      <td>0</td>\n",
       "      <td>171.23</td>\n",
       "      <td>34.40000</td>\n",
       "      <td>1</td>\n",
       "      <td>0</td>\n",
       "      <td>1</td>\n",
       "      <td>0</td>\n",
       "      <td>1</td>\n",
       "      <td>0</td>\n",
       "      <td>0</td>\n",
       "      <td>1</td>\n",
       "      <td>0</td>\n",
       "      <td>0</td>\n",
       "      <td>1</td>\n",
       "    </tr>\n",
       "    <tr>\n",
       "      <th>4</th>\n",
       "      <td>79.0</td>\n",
       "      <td>1</td>\n",
       "      <td>0</td>\n",
       "      <td>174.12</td>\n",
       "      <td>24.00000</td>\n",
       "      <td>1</td>\n",
       "      <td>0</td>\n",
       "      <td>0</td>\n",
       "      <td>0</td>\n",
       "      <td>0</td>\n",
       "      <td>1</td>\n",
       "      <td>0</td>\n",
       "      <td>1</td>\n",
       "      <td>0</td>\n",
       "      <td>1</td>\n",
       "      <td>0</td>\n",
       "    </tr>\n",
       "  </tbody>\n",
       "</table>\n",
       "</div>"
      ],
      "text/plain": [
       "    age  hypertension  heart_disease  avg_glucose_level       bmi  stroke  \\\n",
       "0  67.0             0              1             228.69  36.60000       1   \n",
       "1  61.0             0              0             202.21  28.89456       1   \n",
       "2  80.0             0              1             105.92  32.50000       1   \n",
       "3  49.0             0              0             171.23  34.40000       1   \n",
       "4  79.0             1              0             174.12  24.00000       1   \n",
       "\n",
       "   gender_Male  Residence_type_Urban  work_type_Never_worked  \\\n",
       "0            1                     1                       0   \n",
       "1            0                     0                       0   \n",
       "2            1                     0                       0   \n",
       "3            0                     1                       0   \n",
       "4            0                     0                       0   \n",
       "\n",
       "   work_type_Private  work_type_Self-employed  work_type_children  \\\n",
       "0                  1                        0                   0   \n",
       "1                  0                        1                   0   \n",
       "2                  1                        0                   0   \n",
       "3                  1                        0                   0   \n",
       "4                  0                        1                   0   \n",
       "\n",
       "   ever_married_Yes  smoking_status_formerly smoked  \\\n",
       "0                 1                               1   \n",
       "1                 1                               0   \n",
       "2                 1                               0   \n",
       "3                 1                               0   \n",
       "4                 1                               0   \n",
       "\n",
       "   smoking_status_never smoked  smoking_status_smokes  \n",
       "0                            0                      0  \n",
       "1                            1                      0  \n",
       "2                            1                      0  \n",
       "3                            0                      1  \n",
       "4                            1                      0  "
      ]
     },
     "execution_count": 8,
     "metadata": {},
     "output_type": "execute_result"
    }
   ],
   "source": [
    "df_one_hot.head()"
   ]
  },
  {
   "cell_type": "code",
   "execution_count": 9,
   "id": "numerical-conditioning",
   "metadata": {
    "_kg_hide-input": true,
    "execution": {
     "iopub.execute_input": "2021-04-12T12:23:11.132753Z",
     "iopub.status.busy": "2021-04-12T12:23:11.131943Z",
     "iopub.status.idle": "2021-04-12T12:23:11.135083Z",
     "shell.execute_reply": "2021-04-12T12:23:11.134559Z"
    },
    "papermill": {
     "duration": 0.04682,
     "end_time": "2021-04-12T12:23:11.135284",
     "exception": false,
     "start_time": "2021-04-12T12:23:11.088464",
     "status": "completed"
    },
    "tags": []
   },
   "outputs": [],
   "source": [
    "# df_cols = df_one_hot.columns\n",
    "\n",
    "# scaler = MinMaxScaler()\n",
    "# df_one_hot = pd.DataFrame(scaler.fit_transform(df_one_hot),columns=df_cols)\n",
    "# df_one_hot.head()"
   ]
  },
  {
   "cell_type": "markdown",
   "id": "marked-spencer",
   "metadata": {
    "papermill": {
     "duration": 0.039214,
     "end_time": "2021-04-12T12:23:11.213127",
     "exception": false,
     "start_time": "2021-04-12T12:23:11.173913",
     "status": "completed"
    },
    "tags": []
   },
   "source": [
    "## 2. Data visualization\n",
    "### 2.1 Distributions\n",
    "In this section, I will compare the distribution of the variables in the two subsets 'Stroke' and \"No Stroke'. If the distribution of a given feature matches in the two sets within statistical uncertainties, then we can conclude that the selected feature is not correlated with the target. The results obtained in this section will be compared in Sec. 4 with the findings of the dimensionality reduction."
   ]
  },
  {
   "cell_type": "markdown",
   "id": "transsexual-species",
   "metadata": {
    "papermill": {
     "duration": 0.038895,
     "end_time": "2021-04-12T12:23:11.290845",
     "exception": false,
     "start_time": "2021-04-12T12:23:11.251950",
     "status": "completed"
    },
    "tags": []
   },
   "source": [
    "Findings:\n",
    "1. From the plot below it is clear that age is one of the most important features in the dataset, being the distribution among patients who were subjected to stroke shifted towards higher values. In particular, the distribution of the subset 'Stroke' is strongly peaked around 80 years. \n",
    "2. **BMI** may have an impact on the probability to be subjected to stroke since the distribution of the subset 'Stroke' shows a smaller variance compared to the 'No Stroke' one.\n",
    "3. The distributions of the **average glucose level** show similar qualitative behavior in the two datasets. However, among the patients subjected to stroke is more common to have higher glucose levels (i.e. ~200).\n",
    "4. **Gender** seems not to be a predominant feature here, since no significant differences between the two distributions have been observed.\n",
    "5. **Hypertension** is a relevant feature, which is statistically more present among patients subjected to stroke.\n",
    "6. **Heart disease**, like hypertension, can be relevant.\n",
    "7. The feature **ever_married** shows a correlation with the target 'Stroke'. However, this can be explained from the correlation of this feature with the age, which we know is an important variable in this analysis. \n",
    "8. The **work type** shows a correlation with the target, which is however due to the presence of children in the sample. Thus, this feature is expected to be correlated with age.\n",
    "9. The distributions of the **residence type** show a mild asymmetry between the two datasets. However, this can be due to statistical fluctuations.\n",
    "10. Finally, the **smoking status** is correlated with the target. Indeed, there are fewer patients with 'unknown' smoking status in the dataset 'Stroke' in favor of the status 'formerly smoked'. \n"
   ]
  },
  {
   "cell_type": "code",
   "execution_count": 10,
   "id": "developed-produce",
   "metadata": {
    "_kg_hide-input": true,
    "execution": {
     "iopub.execute_input": "2021-04-12T12:23:11.407276Z",
     "iopub.status.busy": "2021-04-12T12:23:11.406138Z",
     "iopub.status.idle": "2021-04-12T12:23:14.130463Z",
     "shell.execute_reply": "2021-04-12T12:23:14.130954Z"
    },
    "papermill": {
     "duration": 2.801442,
     "end_time": "2021-04-12T12:23:14.131126",
     "exception": false,
     "start_time": "2021-04-12T12:23:11.329684",
     "status": "completed"
    },
    "tags": []
   },
   "outputs": [
    {
     "data": {
      "image/png": "[encoded data removed]",
      "text/plain": [
       "<Figure size 864x936 with 10 Axes>"
      ]
     },
     "metadata": {},
     "output_type": "display_data"
    }
   ],
   "source": [
    "sns.set_context(\"notebook\", font_scale=1.2, rc={\"lines.linewidth\": 2.5})\n",
    "fig = plt.figure(figsize=(12,13))\n",
    "gs = fig.add_gridspec(5, 2)\n",
    "gs.update(wspace=0.1, hspace=0.65)\n",
    "axes = []\n",
    "for j in range(10):\n",
    "    axes.append(fig.add_subplot(gs[int(j/2),j%2]))\n",
    "    \n",
    "#Feature 1: age\n",
    "sns.kdeplot(data=df, x=\"age\", hue=\"stroke\",\n",
    "   fill=True, common_norm=False, palette=\"rocket\",\n",
    "   alpha=.5, linewidth=0,ax=axes[0],cut=0,legend=False)\n",
    "axes[0].legend(loc='upper left',title='Stroke', labels = ['Yes','No'])\n",
    "\n",
    "\n",
    "#Feature 2: bmi\n",
    "sns.kdeplot(data=df, x=\"bmi\", hue=\"stroke\",\n",
    "   fill=True, common_norm=False, palette=\"rocket\",\n",
    "   alpha=.5, linewidth=0,ax=axes[1],legend=False,cut=0)\n",
    "\n",
    "\n",
    "\n",
    "\n",
    "#Feature 3: bmi\n",
    "sns.kdeplot(data=df, x=\"avg_glucose_level\", hue=\"stroke\",\n",
    "   fill=True, common_norm=False, palette=\"rocket\",\n",
    "   alpha=.5, linewidth=0,ax=axes[2],legend=False,cut=0)\n",
    "\n",
    "\n",
    "#Feature 4:gender\n",
    "sns.histplot(y='gender', hue=\"stroke\",\n",
    "            palette=\"rocket\",\n",
    "            data=df, ax=axes[3],stat='density',\n",
    "            common_norm=False,legend=False)\n",
    "\n",
    "#Feature 5:hypertension\n",
    "tmp_df = df.copy()\n",
    "tmp_df['hypertension'] = tmp_df['hypertension'].map(lambda x: {0:'No',1:'Yes'}[x])\n",
    "\n",
    "sns.histplot(y='hypertension', hue=\"stroke\",\n",
    "            palette=\"rocket\",\n",
    "            data=tmp_df, ax=axes[4],stat='density',\n",
    "            common_norm=False,legend=False)\n",
    "\n",
    "\n",
    "#Feature 6:heart_disease\n",
    "tmp_df = df.copy()\n",
    "tmp_df['heart_disease'] = tmp_df['heart_disease'].map(lambda x: {0:'No',1:'Yes'}[x])\n",
    "\n",
    "sns.histplot(y='heart_disease', hue=\"stroke\",\n",
    "            palette=\"rocket\",\n",
    "            data=tmp_df, ax=axes[5],stat='density',\n",
    "            common_norm=False,legend=False)\n",
    "\n",
    "for j,feat in enumerate(['ever_married','work_type','Residence_type','smoking_status']):\n",
    "    sns.histplot(y=feat, hue=\"stroke\",\n",
    "            palette=\"rocket\",\n",
    "            data=df, ax=axes[6+j],stat='density',\n",
    "            common_norm=False,legend=False)\n",
    "\n",
    "\n",
    "for j in range(10):\n",
    "    which_ax = ['bottom','right'] if j%2==0 else ['bottom','left']\n",
    "    for s in which_ax:\n",
    "        axes[j].spines[s].set_visible(False)\n",
    "    if(j%2==1):\n",
    "        axes[j].yaxis.tick_right()\n",
    "        axes[j].yaxis.set_label_position(\"right\")\n",
    "    axes[j].xaxis.tick_top()\n",
    "    axes[j].xaxis.set_label_position(\"top\")"
   ]
  },
  {
   "cell_type": "markdown",
   "id": "proper-victoria",
   "metadata": {
    "papermill": {
     "duration": 0.041228,
     "end_time": "2021-04-12T12:23:14.214471",
     "exception": false,
     "start_time": "2021-04-12T12:23:14.173243",
     "status": "completed"
    },
    "tags": []
   },
   "source": [
    "### 2.2 Study of the correlation matrix\n",
    "Below I show the correlation matrix between the features. \n",
    "* In the first place, the 'stroke' feature is correlated (in reverse order of importance) with age, hypertension, heart disease, average glucose level, marital status, smoking status, work type, BMI, residence type and gender. \n",
    "* However, as mentioned in [Sec. 2.1](#2.1-Distributions), the correlation with gender is negligible, as well as the one with the residence type. \n",
    "* Among the variables correlated with the target, many of them are strongly correlated with age. In particular the marital status, the work type, the bmi and smoking status have correlation coefficient greater than 0.3 with the age. For this reason it will be important to reduce the number of features."
   ]
  },
  {
   "cell_type": "code",
   "execution_count": 11,
   "id": "ancient-simple",
   "metadata": {
    "_kg_hide-input": true,
    "execution": {
     "iopub.execute_input": "2021-04-12T12:23:14.301166Z",
     "iopub.status.busy": "2021-04-12T12:23:14.300538Z",
     "iopub.status.idle": "2021-04-12T12:23:14.940457Z",
     "shell.execute_reply": "2021-04-12T12:23:14.940991Z"
    },
    "papermill": {
     "duration": 0.685179,
     "end_time": "2021-04-12T12:23:14.941172",
     "exception": false,
     "start_time": "2021-04-12T12:23:14.255993",
     "status": "completed"
    },
    "tags": []
   },
   "outputs": [
    {
     "data": {
      "image/png": "[encoded data removed]",
      "text/plain": [
       "<Figure size 864x720 with 2 Axes>"
      ]
     },
     "metadata": {},
     "output_type": "display_data"
    }
   ],
   "source": [
    "f,ax = plt.subplots(figsize=(12, 10))\n",
    "mask = np.triu(np.ones_like(df_ordinal.corr(), dtype=bool))\n",
    "sns.heatmap(df_ordinal.corr(),mask=mask, annot=True, linewidths=.5, fmt= '.2f',ax=ax)\n",
    "plt.show()"
   ]
  },
  {
   "cell_type": "markdown",
   "id": "polished-ceremony",
   "metadata": {
    "papermill": {
     "duration": 0.044724,
     "end_time": "2021-04-12T12:23:15.030700",
     "exception": false,
     "start_time": "2021-04-12T12:23:14.985976",
     "status": "completed"
    },
    "tags": []
   },
   "source": [
    "## 3. Testing resampling techniques with XGBoost binary classifier\n",
    "The dataset is strongly imbalanced, just 5% of the patients were subjected to a stroke. For this reason, it is necessary to employ a **resampling** technique. All the algorithms employed here to tackle the issue are present in the [imblearn](https://imbalanced-learn.org/stable/) library. \n",
    "* In particular, I will employ some oversampling techniques (i.e. *SMOTE, Random oversampling*), one undersampling technique (i.e. Random undersampling) and some mixed algorithms (i.e. *SMOTE + ENN* and *SMOTE + Tomek links*).\n",
    "* The resampling algorithms will be tested with the XGBoost binary classifier.\n",
    "* All the resampling techniques will be employed **on the training set only**."
   ]
  },
  {
   "cell_type": "code",
   "execution_count": 12,
   "id": "statutory-closer",
   "metadata": {
    "_kg_hide-input": true,
    "execution": {
     "iopub.execute_input": "2021-04-12T12:23:15.131755Z",
     "iopub.status.busy": "2021-04-12T12:23:15.129731Z",
     "iopub.status.idle": "2021-04-12T12:23:15.135076Z",
     "shell.execute_reply": "2021-04-12T12:23:15.134439Z"
    },
    "papermill": {
     "duration": 0.05918,
     "end_time": "2021-04-12T12:23:15.135255",
     "exception": false,
     "start_time": "2021-04-12T12:23:15.076075",
     "status": "completed"
    },
    "tags": []
   },
   "outputs": [],
   "source": [
    "def compute_score(y_train,y_test,y_train_p,y_test_p):\n",
    "    test_ac = accuracy_score(y_test,y_test_p)\n",
    "    train_ac = accuracy_score(y_train,y_train_p)\n",
    "    test_f1 = f1_score(y_test,y_test_p)\n",
    "    train_f1 = f1_score(y_train,y_train_p)\n",
    "\n",
    "    cmte = confusion_matrix(y_test,y_test_p)\n",
    "    \n",
    "    cmtr = confusion_matrix(y_train,y_train_p)\n",
    "        \n",
    "    d = {'Dataset':['Test','Train'],'F1':[test_f1,train_f1]}\n",
    "    d['Accuracy'] = [test_ac,train_ac]\n",
    "    d['Recall'] = [recall_score(y_test,y_test_p),recall_score(y_train,y_train_p)]\n",
    "    d['Precision'] = [precision_score(y_test,y_test_p),precision_score(y_train,y_train_p)]\n",
    "    d['ROC AUC'] = [roc_auc_score(y_test,y_test_p),roc_auc_score(y_train,y_train_p)]\n",
    "    d['False Positives (T-I)'] = [cmte[0,1],cmtr[0,1]]\n",
    "    d['False Negatives (T-II)'] = [cmte[1,0],cmtr[1,0]]\n",
    "    d['True Positives'] = [cmte[1,1],cmtr[1,1]]\n",
    "    d['True Negatives'] = [cmte[0,0],cmtr[0,0]]\n",
    "    \n",
    "    \n",
    "    \n",
    "    display(pd.DataFrame(d).head(2))"
   ]
  },
  {
   "cell_type": "code",
   "execution_count": 13,
   "id": "beginning-combining",
   "metadata": {
    "_kg_hide-input": true,
    "execution": {
     "iopub.execute_input": "2021-04-12T12:23:15.237605Z",
     "iopub.status.busy": "2021-04-12T12:23:15.234952Z",
     "iopub.status.idle": "2021-04-12T12:23:15.240867Z",
     "shell.execute_reply": "2021-04-12T12:23:15.240295Z"
    },
    "papermill": {
     "duration": 0.059912,
     "end_time": "2021-04-12T12:23:15.241006",
     "exception": false,
     "start_time": "2021-04-12T12:23:15.181094",
     "status": "completed"
    },
    "tags": []
   },
   "outputs": [],
   "source": [
    "def plot_res(results):\n",
    "    epochs = len(results['validation_0']['error'])\n",
    "    x_axis = range(0, epochs)\n",
    "    fig = plt.figure(figsize=(6,4))\n",
    "    gs = fig.add_gridspec(1, 1)\n",
    "    gs.update(wspace=0.1, hspace=0.65)\n",
    "    ax = []\n",
    "    ax.append(fig.add_subplot(gs[0,0]))\n",
    "#     ax.append(fig.add_subplot(gs[0,1]))\n",
    "#     ax[0].plot(x_axis, results['validation_0']['f1'], label='Train',color='red')\n",
    "#     ax[0].plot(x_axis, results['validation_1']['f1'], label='Test',color='purple')\n",
    "    \n",
    "#     ax[0].legend()\n",
    "#     ax[0].set_ylabel(r'$F_1$ score')\n",
    "#     ax[0].set_title(r'XGBoost $F_1$')\n",
    "    \n",
    "    \n",
    "    ax[0].plot(x_axis, results['validation_0']['error'], label='Train',color='red')\n",
    "    ax[0].plot(x_axis, results['validation_1']['error'], label='Test',color='purple')\n",
    "    ax[0].set_ylabel('Error')\n",
    "    ax[0].set_title('XGBoost Error')\n",
    "    \n",
    "    ax[0].spines['right'].set_visible(False)\n",
    "    ax[0].spines['top'].set_visible(False)\n",
    "#     ax[1].spines['left'].set_visible(False)\n",
    "#     ax[1].spines['top'].set_visible(False)\n",
    "    \n",
    "#     ax[1].yaxis.tick_right()\n",
    "#     ax[1].yaxis.set_label_position(\"right\")\n",
    "    \n",
    "    plt.show()\n",
    "\n",
    "\n",
    "def f1_metric(predt: np.ndarray, dtrain: xgb.DMatrix, threshold=0.5):\n",
    "    '''F_1 score.'''\n",
    "    y = dtrain.get_label()\n",
    "    y_p = (predt > threshold).astype(int)\n",
    "    return 'f1', f1_score(y,y_p)"
   ]
  },
  {
   "cell_type": "code",
   "execution_count": 14,
   "id": "incomplete-coverage",
   "metadata": {
    "execution": {
     "iopub.execute_input": "2021-04-12T12:23:15.335505Z",
     "iopub.status.busy": "2021-04-12T12:23:15.334724Z",
     "iopub.status.idle": "2021-04-12T12:23:15.351093Z",
     "shell.execute_reply": "2021-04-12T12:23:15.350499Z"
    },
    "papermill": {
     "duration": 0.064915,
     "end_time": "2021-04-12T12:23:15.351407",
     "exception": false,
     "start_time": "2021-04-12T12:23:15.286492",
     "status": "completed"
    },
    "tags": []
   },
   "outputs": [],
   "source": [
    "df_cols = list(df_one_hot.columns)\n",
    "df_cols.remove('stroke')\n",
    "\n",
    "x_train, x_test, y_train, y_test = train_test_split(df_one_hot.drop(['stroke'],axis=1)[df_cols], df['stroke'], \n",
    "                                                    test_size=0.25, random_state=42)\n",
    "\n",
    "pars_xgb = {'objective':'binary:logistic',\n",
    "            'random_state':7,\n",
    "            'scale_pos_weight':1,\n",
    "            'use_label_encoder':False,\n",
    "            'eval_metric':'error',\n",
    "            'learning_rate':0.01,\n",
    "            'colsample_bytree': 0.05,\n",
    "            'subsample': 0.8,\n",
    "            'n_estimators':2000, \n",
    "            'reg_alpha': 0.3,\n",
    "            'n_jobs':1,\n",
    "            'max_depth':10, \n",
    "            'gamma':10\n",
    "           }\n",
    "\n",
    "\n",
    "\n",
    "def test_resampling(resampling,x_train, x_test, y_train, y_test, cols = df_cols):\n",
    "    x_tmp, y_tmp = resampling.fit_resample(x_train, y_train)\n",
    "    x_train_tmp = pd.DataFrame(x_tmp,columns=cols)\n",
    "    y_train_tmp = pd.Series(y_tmp)\n",
    "    \n",
    "    clf_rf = xgb.XGBClassifier(**pars_xgb)\n",
    "    eval_set = [(x_train_tmp,y_train_tmp),(x_test,y_test)]\n",
    "    clr_rf = clf_rf.fit(x_train_tmp,y_train_tmp,eval_metric=f1_metric, \n",
    "                        eval_set=eval_set, verbose=False)\n",
    "\n",
    "\n",
    "    compute_score(y_train_tmp,y_test,clr_rf.predict(x_train_tmp),clr_rf.predict(x_test))\n",
    "\n",
    "    results = clr_rf.evals_result()\n",
    "    \n",
    "    plot_res(results)"
   ]
  },
  {
   "cell_type": "markdown",
   "id": "dietary-correspondence",
   "metadata": {
    "papermill": {
     "duration": 0.045494,
     "end_time": "2021-04-12T12:23:15.443069",
     "exception": false,
     "start_time": "2021-04-12T12:23:15.397575",
     "status": "completed"
    },
    "tags": []
   },
   "source": [
    "#### SMOTE"
   ]
  },
  {
   "cell_type": "code",
   "execution_count": 15,
   "id": "banner-albert",
   "metadata": {
    "execution": {
     "iopub.execute_input": "2021-04-12T12:23:15.540902Z",
     "iopub.status.busy": "2021-04-12T12:23:15.540132Z",
     "iopub.status.idle": "2021-04-12T12:23:31.948917Z",
     "shell.execute_reply": "2021-04-12T12:23:31.949759Z"
    },
    "papermill": {
     "duration": 16.461072,
     "end_time": "2021-04-12T12:23:31.950002",
     "exception": false,
     "start_time": "2021-04-12T12:23:15.488930",
     "status": "completed"
    },
    "tags": []
   },
   "outputs": [
    {
     "data": {
      "text/html": [
       "<div>\n",
       "<style scoped>\n",
       "    .dataframe tbody tr th:only-of-type {\n",
       "        vertical-align: middle;\n",
       "    }\n",
       "\n",
       "    .dataframe tbody tr th {\n",
       "        vertical-align: top;\n",
       "    }\n",
       "\n",
       "    .dataframe thead th {\n",
       "        text-align: right;\n",
       "    }\n",
       "</style>\n",
       "<table border=\"1\" class=\"dataframe\">\n",
       "  <thead>\n",
       "    <tr style=\"text-align: right;\">\n",
       "      <th></th>\n",
       "      <th>Dataset</th>\n",
       "      <th>F1</th>\n",
       "      <th>Accuracy</th>\n",
       "      <th>Recall</th>\n",
       "      <th>Precision</th>\n",
       "      <th>ROC AUC</th>\n",
       "      <th>False Positives (T-I)</th>\n",
       "      <th>False Negatives (T-II)</th>\n",
       "      <th>True Positives</th>\n",
       "      <th>True Negatives</th>\n",
       "    </tr>\n",
       "  </thead>\n",
       "  <tbody>\n",
       "    <tr>\n",
       "      <th>0</th>\n",
       "      <td>Test</td>\n",
       "      <td>0.206186</td>\n",
       "      <td>0.879499</td>\n",
       "      <td>0.250000</td>\n",
       "      <td>0.175439</td>\n",
       "      <td>0.585768</td>\n",
       "      <td>94</td>\n",
       "      <td>60</td>\n",
       "      <td>20</td>\n",
       "      <td>1104</td>\n",
       "    </tr>\n",
       "    <tr>\n",
       "      <th>1</th>\n",
       "      <td>Train</td>\n",
       "      <td>0.936176</td>\n",
       "      <td>0.936237</td>\n",
       "      <td>0.935281</td>\n",
       "      <td>0.937073</td>\n",
       "      <td>0.936237</td>\n",
       "      <td>230</td>\n",
       "      <td>237</td>\n",
       "      <td>3425</td>\n",
       "      <td>3432</td>\n",
       "    </tr>\n",
       "  </tbody>\n",
       "</table>\n",
       "</div>"
      ],
      "text/plain": [
       "  Dataset        F1  Accuracy    Recall  Precision   ROC AUC  \\\n",
       "0    Test  0.206186  0.879499  0.250000   0.175439  0.585768   \n",
       "1   Train  0.936176  0.936237  0.935281   0.937073  0.936237   \n",
       "\n",
       "   False Positives (T-I)  False Negatives (T-II)  True Positives  \\\n",
       "0                     94                      60              20   \n",
       "1                    230                     237            3425   \n",
       "\n",
       "   True Negatives  \n",
       "0            1104  \n",
       "1            3432  "
      ]
     },
     "metadata": {},
     "output_type": "display_data"
    },
    {
     "data": {
      "image/png": "[encoded data removed]",
      "text/plain": [
       "<Figure size 432x288 with 1 Axes>"
      ]
     },
     "metadata": {},
     "output_type": "display_data"
    }
   ],
   "source": [
    "resampling = SMOTE(random_state=18)\n",
    "test_resampling(resampling,x_train, x_test, y_train, y_test)"
   ]
  },
  {
   "cell_type": "markdown",
   "id": "final-danger",
   "metadata": {
    "papermill": {
     "duration": 0.04644,
     "end_time": "2021-04-12T12:23:32.047682",
     "exception": false,
     "start_time": "2021-04-12T12:23:32.001242",
     "status": "completed"
    },
    "tags": []
   },
   "source": [
    "#### SMOTE + ENN"
   ]
  },
  {
   "cell_type": "code",
   "execution_count": 16,
   "id": "presidential-distance",
   "metadata": {
    "execution": {
     "iopub.execute_input": "2021-04-12T12:23:32.150414Z",
     "iopub.status.busy": "2021-04-12T12:23:32.147859Z",
     "iopub.status.idle": "2021-04-12T12:23:46.811484Z",
     "shell.execute_reply": "2021-04-12T12:23:46.810938Z"
    },
    "papermill": {
     "duration": 14.717148,
     "end_time": "2021-04-12T12:23:46.811637",
     "exception": false,
     "start_time": "2021-04-12T12:23:32.094489",
     "status": "completed"
    },
    "tags": []
   },
   "outputs": [
    {
     "data": {
      "text/html": [
       "<div>\n",
       "<style scoped>\n",
       "    .dataframe tbody tr th:only-of-type {\n",
       "        vertical-align: middle;\n",
       "    }\n",
       "\n",
       "    .dataframe tbody tr th {\n",
       "        vertical-align: top;\n",
       "    }\n",
       "\n",
       "    .dataframe thead th {\n",
       "        text-align: right;\n",
       "    }\n",
       "</style>\n",
       "<table border=\"1\" class=\"dataframe\">\n",
       "  <thead>\n",
       "    <tr style=\"text-align: right;\">\n",
       "      <th></th>\n",
       "      <th>Dataset</th>\n",
       "      <th>F1</th>\n",
       "      <th>Accuracy</th>\n",
       "      <th>Recall</th>\n",
       "      <th>Precision</th>\n",
       "      <th>ROC AUC</th>\n",
       "      <th>False Positives (T-I)</th>\n",
       "      <th>False Negatives (T-II)</th>\n",
       "      <th>True Positives</th>\n",
       "      <th>True Negatives</th>\n",
       "    </tr>\n",
       "  </thead>\n",
       "  <tbody>\n",
       "    <tr>\n",
       "      <th>0</th>\n",
       "      <td>Test</td>\n",
       "      <td>0.301639</td>\n",
       "      <td>0.833333</td>\n",
       "      <td>0.575000</td>\n",
       "      <td>0.204444</td>\n",
       "      <td>0.712792</td>\n",
       "      <td>179</td>\n",
       "      <td>34</td>\n",
       "      <td>46</td>\n",
       "      <td>1019</td>\n",
       "    </tr>\n",
       "    <tr>\n",
       "      <th>1</th>\n",
       "      <td>Train</td>\n",
       "      <td>0.953204</td>\n",
       "      <td>0.947816</td>\n",
       "      <td>0.965296</td>\n",
       "      <td>0.941411</td>\n",
       "      <td>0.945849</td>\n",
       "      <td>206</td>\n",
       "      <td>119</td>\n",
       "      <td>3310</td>\n",
       "      <td>2593</td>\n",
       "    </tr>\n",
       "  </tbody>\n",
       "</table>\n",
       "</div>"
      ],
      "text/plain": [
       "  Dataset        F1  Accuracy    Recall  Precision   ROC AUC  \\\n",
       "0    Test  0.301639  0.833333  0.575000   0.204444  0.712792   \n",
       "1   Train  0.953204  0.947816  0.965296   0.941411  0.945849   \n",
       "\n",
       "   False Positives (T-I)  False Negatives (T-II)  True Positives  \\\n",
       "0                    179                      34              46   \n",
       "1                    206                     119            3310   \n",
       "\n",
       "   True Negatives  \n",
       "0            1019  \n",
       "1            2593  "
      ]
     },
     "metadata": {},
     "output_type": "display_data"
    },
    {
     "data": {
      "image/png": "[encoded data removed]",
      "text/plain": [
       "<Figure size 432x288 with 1 Axes>"
      ]
     },
     "metadata": {},
     "output_type": "display_data"
    }
   ],
   "source": [
    "resampling = SMOTEENN(random_state=7)\n",
    "test_resampling(resampling,x_train, x_test, y_train, y_test)"
   ]
  },
  {
   "cell_type": "markdown",
   "id": "extreme-champagne",
   "metadata": {
    "papermill": {
     "duration": 0.048615,
     "end_time": "2021-04-12T12:23:46.908696",
     "exception": false,
     "start_time": "2021-04-12T12:23:46.860081",
     "status": "completed"
    },
    "tags": []
   },
   "source": [
    "#### SMOTE + Tomek links"
   ]
  },
  {
   "cell_type": "code",
   "execution_count": 17,
   "id": "noble-outline",
   "metadata": {
    "execution": {
     "iopub.execute_input": "2021-04-12T12:23:47.015429Z",
     "iopub.status.busy": "2021-04-12T12:23:47.013092Z",
     "iopub.status.idle": "2021-04-12T12:24:03.243101Z",
     "shell.execute_reply": "2021-04-12T12:24:03.242454Z"
    },
    "papermill": {
     "duration": 16.285043,
     "end_time": "2021-04-12T12:24:03.243280",
     "exception": false,
     "start_time": "2021-04-12T12:23:46.958237",
     "status": "completed"
    },
    "tags": []
   },
   "outputs": [
    {
     "data": {
      "text/html": [
       "<div>\n",
       "<style scoped>\n",
       "    .dataframe tbody tr th:only-of-type {\n",
       "        vertical-align: middle;\n",
       "    }\n",
       "\n",
       "    .dataframe tbody tr th {\n",
       "        vertical-align: top;\n",
       "    }\n",
       "\n",
       "    .dataframe thead th {\n",
       "        text-align: right;\n",
       "    }\n",
       "</style>\n",
       "<table border=\"1\" class=\"dataframe\">\n",
       "  <thead>\n",
       "    <tr style=\"text-align: right;\">\n",
       "      <th></th>\n",
       "      <th>Dataset</th>\n",
       "      <th>F1</th>\n",
       "      <th>Accuracy</th>\n",
       "      <th>Recall</th>\n",
       "      <th>Precision</th>\n",
       "      <th>ROC AUC</th>\n",
       "      <th>False Positives (T-I)</th>\n",
       "      <th>False Negatives (T-II)</th>\n",
       "      <th>True Positives</th>\n",
       "      <th>True Negatives</th>\n",
       "    </tr>\n",
       "  </thead>\n",
       "  <tbody>\n",
       "    <tr>\n",
       "      <th>0</th>\n",
       "      <td>Test</td>\n",
       "      <td>0.209302</td>\n",
       "      <td>0.893584</td>\n",
       "      <td>0.225000</td>\n",
       "      <td>0.195652</td>\n",
       "      <td>0.581615</td>\n",
       "      <td>74</td>\n",
       "      <td>62</td>\n",
       "      <td>18</td>\n",
       "      <td>1124</td>\n",
       "    </tr>\n",
       "    <tr>\n",
       "      <th>1</th>\n",
       "      <td>Train</td>\n",
       "      <td>0.935787</td>\n",
       "      <td>0.936035</td>\n",
       "      <td>0.932175</td>\n",
       "      <td>0.939428</td>\n",
       "      <td>0.936035</td>\n",
       "      <td>218</td>\n",
       "      <td>246</td>\n",
       "      <td>3381</td>\n",
       "      <td>3409</td>\n",
       "    </tr>\n",
       "  </tbody>\n",
       "</table>\n",
       "</div>"
      ],
      "text/plain": [
       "  Dataset        F1  Accuracy    Recall  Precision   ROC AUC  \\\n",
       "0    Test  0.209302  0.893584  0.225000   0.195652  0.581615   \n",
       "1   Train  0.935787  0.936035  0.932175   0.939428  0.936035   \n",
       "\n",
       "   False Positives (T-I)  False Negatives (T-II)  True Positives  \\\n",
       "0                     74                      62              18   \n",
       "1                    218                     246            3381   \n",
       "\n",
       "   True Negatives  \n",
       "0            1124  \n",
       "1            3409  "
      ]
     },
     "metadata": {},
     "output_type": "display_data"
    },
    {
     "data": {
      "image/png": "[encoded data removed]",
      "text/plain": [
       "<Figure size 432x288 with 1 Axes>"
      ]
     },
     "metadata": {},
     "output_type": "display_data"
    }
   ],
   "source": [
    "resampling = SMOTETomek(random_state=7)\n",
    "test_resampling(resampling,x_train, x_test, y_train, y_test)"
   ]
  },
  {
   "cell_type": "markdown",
   "id": "alone-citizen",
   "metadata": {
    "papermill": {
     "duration": 0.050303,
     "end_time": "2021-04-12T12:24:03.345744",
     "exception": false,
     "start_time": "2021-04-12T12:24:03.295441",
     "status": "completed"
    },
    "tags": []
   },
   "source": [
    "#### Random oversampler"
   ]
  },
  {
   "cell_type": "code",
   "execution_count": 18,
   "id": "fossil-photographer",
   "metadata": {
    "execution": {
     "iopub.execute_input": "2021-04-12T12:24:03.452255Z",
     "iopub.status.busy": "2021-04-12T12:24:03.451249Z",
     "iopub.status.idle": "2021-04-12T12:24:19.828312Z",
     "shell.execute_reply": "2021-04-12T12:24:19.828909Z"
    },
    "papermill": {
     "duration": 16.432205,
     "end_time": "2021-04-12T12:24:19.829119",
     "exception": false,
     "start_time": "2021-04-12T12:24:03.396914",
     "status": "completed"
    },
    "tags": []
   },
   "outputs": [
    {
     "data": {
      "text/html": [
       "<div>\n",
       "<style scoped>\n",
       "    .dataframe tbody tr th:only-of-type {\n",
       "        vertical-align: middle;\n",
       "    }\n",
       "\n",
       "    .dataframe tbody tr th {\n",
       "        vertical-align: top;\n",
       "    }\n",
       "\n",
       "    .dataframe thead th {\n",
       "        text-align: right;\n",
       "    }\n",
       "</style>\n",
       "<table border=\"1\" class=\"dataframe\">\n",
       "  <thead>\n",
       "    <tr style=\"text-align: right;\">\n",
       "      <th></th>\n",
       "      <th>Dataset</th>\n",
       "      <th>F1</th>\n",
       "      <th>Accuracy</th>\n",
       "      <th>Recall</th>\n",
       "      <th>Precision</th>\n",
       "      <th>ROC AUC</th>\n",
       "      <th>False Positives (T-I)</th>\n",
       "      <th>False Negatives (T-II)</th>\n",
       "      <th>True Positives</th>\n",
       "      <th>True Negatives</th>\n",
       "    </tr>\n",
       "  </thead>\n",
       "  <tbody>\n",
       "    <tr>\n",
       "      <th>0</th>\n",
       "      <td>Test</td>\n",
       "      <td>0.249221</td>\n",
       "      <td>0.811424</td>\n",
       "      <td>0.5</td>\n",
       "      <td>0.165975</td>\n",
       "      <td>0.666110</td>\n",
       "      <td>201</td>\n",
       "      <td>40</td>\n",
       "      <td>40</td>\n",
       "      <td>997</td>\n",
       "    </tr>\n",
       "    <tr>\n",
       "      <th>1</th>\n",
       "      <td>Train</td>\n",
       "      <td>0.928499</td>\n",
       "      <td>0.922993</td>\n",
       "      <td>1.0</td>\n",
       "      <td>0.866540</td>\n",
       "      <td>0.922993</td>\n",
       "      <td>564</td>\n",
       "      <td>0</td>\n",
       "      <td>3662</td>\n",
       "      <td>3098</td>\n",
       "    </tr>\n",
       "  </tbody>\n",
       "</table>\n",
       "</div>"
      ],
      "text/plain": [
       "  Dataset        F1  Accuracy  Recall  Precision   ROC AUC  \\\n",
       "0    Test  0.249221  0.811424     0.5   0.165975  0.666110   \n",
       "1   Train  0.928499  0.922993     1.0   0.866540  0.922993   \n",
       "\n",
       "   False Positives (T-I)  False Negatives (T-II)  True Positives  \\\n",
       "0                    201                      40              40   \n",
       "1                    564                       0            3662   \n",
       "\n",
       "   True Negatives  \n",
       "0             997  \n",
       "1            3098  "
      ]
     },
     "metadata": {},
     "output_type": "display_data"
    },
    {
     "data": {
      "image/png": "[encoded data removed]",
      "text/plain": [
       "<Figure size 432x288 with 1 Axes>"
      ]
     },
     "metadata": {},
     "output_type": "display_data"
    }
   ],
   "source": [
    "resampling = RandomOverSampler(random_state=7)\n",
    "test_resampling(resampling,x_train, x_test, y_train, y_test)"
   ]
  },
  {
   "cell_type": "markdown",
   "id": "headed-reality",
   "metadata": {
    "papermill": {
     "duration": 0.053863,
     "end_time": "2021-04-12T12:24:19.935743",
     "exception": false,
     "start_time": "2021-04-12T12:24:19.881880",
     "status": "completed"
    },
    "tags": []
   },
   "source": [
    "#### Random undersampler"
   ]
  },
  {
   "cell_type": "code",
   "execution_count": 19,
   "id": "freelance-reporter",
   "metadata": {
    "execution": {
     "iopub.execute_input": "2021-04-12T12:24:20.051169Z",
     "iopub.status.busy": "2021-04-12T12:24:20.049010Z",
     "iopub.status.idle": "2021-04-12T12:24:26.893945Z",
     "shell.execute_reply": "2021-04-12T12:24:26.893265Z"
    },
    "papermill": {
     "duration": 6.904188,
     "end_time": "2021-04-12T12:24:26.894100",
     "exception": false,
     "start_time": "2021-04-12T12:24:19.989912",
     "status": "completed"
    },
    "tags": []
   },
   "outputs": [
    {
     "data": {
      "text/html": [
       "<div>\n",
       "<style scoped>\n",
       "    .dataframe tbody tr th:only-of-type {\n",
       "        vertical-align: middle;\n",
       "    }\n",
       "\n",
       "    .dataframe tbody tr th {\n",
       "        vertical-align: top;\n",
       "    }\n",
       "\n",
       "    .dataframe thead th {\n",
       "        text-align: right;\n",
       "    }\n",
       "</style>\n",
       "<table border=\"1\" class=\"dataframe\">\n",
       "  <thead>\n",
       "    <tr style=\"text-align: right;\">\n",
       "      <th></th>\n",
       "      <th>Dataset</th>\n",
       "      <th>F1</th>\n",
       "      <th>Accuracy</th>\n",
       "      <th>Recall</th>\n",
       "      <th>Precision</th>\n",
       "      <th>ROC AUC</th>\n",
       "      <th>False Positives (T-I)</th>\n",
       "      <th>False Negatives (T-II)</th>\n",
       "      <th>True Positives</th>\n",
       "      <th>True Negatives</th>\n",
       "    </tr>\n",
       "  </thead>\n",
       "  <tbody>\n",
       "    <tr>\n",
       "      <th>0</th>\n",
       "      <td>Test</td>\n",
       "      <td>0.263473</td>\n",
       "      <td>0.711268</td>\n",
       "      <td>0.82500</td>\n",
       "      <td>0.15677</td>\n",
       "      <td>0.764336</td>\n",
       "      <td>355</td>\n",
       "      <td>14</td>\n",
       "      <td>66</td>\n",
       "      <td>843</td>\n",
       "    </tr>\n",
       "    <tr>\n",
       "      <th>1</th>\n",
       "      <td>Train</td>\n",
       "      <td>0.783333</td>\n",
       "      <td>0.769231</td>\n",
       "      <td>0.83432</td>\n",
       "      <td>0.73822</td>\n",
       "      <td>0.769231</td>\n",
       "      <td>50</td>\n",
       "      <td>28</td>\n",
       "      <td>141</td>\n",
       "      <td>119</td>\n",
       "    </tr>\n",
       "  </tbody>\n",
       "</table>\n",
       "</div>"
      ],
      "text/plain": [
       "  Dataset        F1  Accuracy   Recall  Precision   ROC AUC  \\\n",
       "0    Test  0.263473  0.711268  0.82500    0.15677  0.764336   \n",
       "1   Train  0.783333  0.769231  0.83432    0.73822  0.769231   \n",
       "\n",
       "   False Positives (T-I)  False Negatives (T-II)  True Positives  \\\n",
       "0                    355                      14              66   \n",
       "1                     50                      28             141   \n",
       "\n",
       "   True Negatives  \n",
       "0             843  \n",
       "1             119  "
      ]
     },
     "metadata": {},
     "output_type": "display_data"
    },
    {
     "data": {
      "image/png": "[encoded data removed]",
      "text/plain": [
       "<Figure size 432x288 with 1 Axes>"
      ]
     },
     "metadata": {},
     "output_type": "display_data"
    }
   ],
   "source": [
    "resampling = RandomUnderSampler(random_state=7)\n",
    "test_resampling(resampling,x_train, x_test, y_train, y_test)"
   ]
  },
  {
   "cell_type": "markdown",
   "id": "enhanced-elder",
   "metadata": {
    "papermill": {
     "duration": 0.054034,
     "end_time": "2021-04-12T12:24:27.001845",
     "exception": false,
     "start_time": "2021-04-12T12:24:26.947811",
     "status": "completed"
    },
    "tags": []
   },
   "source": [
    "From the results above it is clear that all the algorithms (except for the undersampling one) show qualitatively the same performances. \n",
    "* Indeed, in all cases, the $F_1$ score, which is the appropriate metric for imbalanced binary datasets, is greater than 0.9 on the training set and ~0.25 on the test set. By tuning the hyperparameters of these classifiers it is possible to further increase the $F_1$ score on the training set, even to 0.99, but this would result in overfitting since no gain would be obtained on the $F_1$ score on the test set.\n",
    "* In all cases, the number of false negatives is quite large compared to the number of true positives. This is bad, due to the relatively small number of patients subjected to stroke in the dataset.\n",
    "* The undersampling algorithm gives a smaller $F_1$ score on the training set. However, in what follows I will show that with an appropriate tuning of the hyperparameters, it is possible to get the same performances of the other resampling techniques."
   ]
  },
  {
   "cell_type": "markdown",
   "id": "passing-southeast",
   "metadata": {
    "papermill": {
     "duration": 0.054755,
     "end_time": "2021-04-12T12:24:27.110326",
     "exception": false,
     "start_time": "2021-04-12T12:24:27.055571",
     "status": "completed"
    },
    "tags": []
   },
   "source": [
    "### 3.1 Hyperparameters tuning with GridSearchCV"
   ]
  },
  {
   "cell_type": "code",
   "execution_count": 20,
   "id": "latest-liberia",
   "metadata": {
    "_kg_hide-input": true,
    "execution": {
     "iopub.execute_input": "2021-04-12T12:24:27.228904Z",
     "iopub.status.busy": "2021-04-12T12:24:27.228002Z",
     "iopub.status.idle": "2021-04-12T12:24:27.232259Z",
     "shell.execute_reply": "2021-04-12T12:24:27.231512Z"
    },
    "papermill": {
     "duration": 0.066554,
     "end_time": "2021-04-12T12:24:27.232434",
     "exception": false,
     "start_time": "2021-04-12T12:24:27.165880",
     "status": "completed"
    },
    "tags": []
   },
   "outputs": [],
   "source": [
    "def update_pars(new_p,pars):\n",
    "    for p in new_p.keys():\n",
    "        pars[p] = new_p[p]"
   ]
  },
  {
   "cell_type": "code",
   "execution_count": 21,
   "id": "provincial-tongue",
   "metadata": {
    "execution": {
     "iopub.execute_input": "2021-04-12T12:24:27.372253Z",
     "iopub.status.busy": "2021-04-12T12:24:27.371076Z",
     "iopub.status.idle": "2021-04-12T12:24:27.374920Z",
     "shell.execute_reply": "2021-04-12T12:24:27.373948Z"
    },
    "papermill": {
     "duration": 0.079484,
     "end_time": "2021-04-12T12:24:27.375144",
     "exception": false,
     "start_time": "2021-04-12T12:24:27.295660",
     "status": "completed"
    },
    "tags": []
   },
   "outputs": [],
   "source": [
    "def test_in_range(x_trainf, x_testf, y_trainf, y_testf, pars,param_test):\n",
    "\n",
    "\n",
    "    gsearch1 = GridSearchCV(estimator = xgb.XGBClassifier( **pars), \n",
    "    param_grid = param_test, scoring='f1',n_jobs=1, cv=5)\n",
    "\n",
    "    gsearch1.fit(x_trainf,y_trainf)\n",
    "\n",
    "    print('Best score: ',gsearch1.best_params_)\n",
    "\n",
    "    update_pars(gsearch1.best_params_,pars_xgb)\n",
    "\n",
    "    clf_rf = xgb.XGBClassifier(**pars)      \n",
    "    clr_rf = clf_rf.fit(x_trainf,y_trainf)\n",
    "\n",
    "    compute_score(y_trainf,y_testf,clr_rf.predict(x_trainf),clr_rf.predict(x_testf))"
   ]
  },
  {
   "cell_type": "code",
   "execution_count": 22,
   "id": "assumed-regular",
   "metadata": {
    "execution": {
     "iopub.execute_input": "2021-04-12T12:24:27.498595Z",
     "iopub.status.busy": "2021-04-12T12:24:27.495902Z",
     "iopub.status.idle": "2021-04-12T12:24:36.069342Z",
     "shell.execute_reply": "2021-04-12T12:24:36.068602Z"
    },
    "papermill": {
     "duration": 8.6359,
     "end_time": "2021-04-12T12:24:36.069507",
     "exception": false,
     "start_time": "2021-04-12T12:24:27.433607",
     "status": "completed"
    },
    "tags": []
   },
   "outputs": [
    {
     "name": "stdout",
     "output_type": "stream",
     "text": [
      "Best score:  {'scale_pos_weight': 1}\n"
     ]
    },
    {
     "data": {
      "text/html": [
       "<div>\n",
       "<style scoped>\n",
       "    .dataframe tbody tr th:only-of-type {\n",
       "        vertical-align: middle;\n",
       "    }\n",
       "\n",
       "    .dataframe tbody tr th {\n",
       "        vertical-align: top;\n",
       "    }\n",
       "\n",
       "    .dataframe thead th {\n",
       "        text-align: right;\n",
       "    }\n",
       "</style>\n",
       "<table border=\"1\" class=\"dataframe\">\n",
       "  <thead>\n",
       "    <tr style=\"text-align: right;\">\n",
       "      <th></th>\n",
       "      <th>Dataset</th>\n",
       "      <th>F1</th>\n",
       "      <th>Accuracy</th>\n",
       "      <th>Recall</th>\n",
       "      <th>Precision</th>\n",
       "      <th>ROC AUC</th>\n",
       "      <th>False Positives (T-I)</th>\n",
       "      <th>False Negatives (T-II)</th>\n",
       "      <th>True Positives</th>\n",
       "      <th>True Negatives</th>\n",
       "    </tr>\n",
       "  </thead>\n",
       "  <tbody>\n",
       "    <tr>\n",
       "      <th>0</th>\n",
       "      <td>Test</td>\n",
       "      <td>0.263473</td>\n",
       "      <td>0.711268</td>\n",
       "      <td>0.82500</td>\n",
       "      <td>0.15677</td>\n",
       "      <td>0.764336</td>\n",
       "      <td>355</td>\n",
       "      <td>14</td>\n",
       "      <td>66</td>\n",
       "      <td>843</td>\n",
       "    </tr>\n",
       "    <tr>\n",
       "      <th>1</th>\n",
       "      <td>Train</td>\n",
       "      <td>0.783333</td>\n",
       "      <td>0.769231</td>\n",
       "      <td>0.83432</td>\n",
       "      <td>0.73822</td>\n",
       "      <td>0.769231</td>\n",
       "      <td>50</td>\n",
       "      <td>28</td>\n",
       "      <td>141</td>\n",
       "      <td>119</td>\n",
       "    </tr>\n",
       "  </tbody>\n",
       "</table>\n",
       "</div>"
      ],
      "text/plain": [
       "  Dataset        F1  Accuracy   Recall  Precision   ROC AUC  \\\n",
       "0    Test  0.263473  0.711268  0.82500    0.15677  0.764336   \n",
       "1   Train  0.783333  0.769231  0.83432    0.73822  0.769231   \n",
       "\n",
       "   False Positives (T-I)  False Negatives (T-II)  True Positives  \\\n",
       "0                    355                      14              66   \n",
       "1                     50                      28             141   \n",
       "\n",
       "   True Negatives  \n",
       "0             843  \n",
       "1             119  "
      ]
     },
     "metadata": {},
     "output_type": "display_data"
    }
   ],
   "source": [
    "resampling = RandomUnderSampler(random_state=7)\n",
    "x_tmp, y_tmp = resampling.fit_resample(x_train, y_train)\n",
    "x_train_res = pd.DataFrame(x_tmp,columns=df_cols)\n",
    "y_train_res = pd.Series(y_tmp)\n",
    "\n",
    "param_test1 = {\n",
    " 'scale_pos_weight':range(1,10,3),\n",
    "}\n",
    "\n",
    "pars_xgb = {'objective':'binary:logistic',\n",
    "            'random_state':7,\n",
    "            'scale_pos_weight':1,\n",
    "            'use_label_encoder':False,\n",
    "            'eval_metric':'error',\n",
    "            'learning_rate':0.01,\n",
    "            'colsample_bytree': 0.05,\n",
    "            'subsample': 0.8,\n",
    "            'n_estimators':2000, \n",
    "            'reg_alpha': 0.3,\n",
    "            'n_jobs':1,\n",
    "            'max_depth':10, \n",
    "            'gamma':10\n",
    "           }\n",
    "\n",
    "test_in_range(x_train_res, x_test, y_train_res, y_test, pars_xgb, param_test1)"
   ]
  },
  {
   "cell_type": "code",
   "execution_count": 23,
   "id": "expected-doubt",
   "metadata": {
    "execution": {
     "iopub.execute_input": "2021-04-12T12:24:36.191432Z",
     "iopub.status.busy": "2021-04-12T12:24:36.190669Z",
     "iopub.status.idle": "2021-04-12T12:25:15.909077Z",
     "shell.execute_reply": "2021-04-12T12:25:15.908446Z"
    },
    "papermill": {
     "duration": 39.783456,
     "end_time": "2021-04-12T12:25:15.909240",
     "exception": false,
     "start_time": "2021-04-12T12:24:36.125784",
     "status": "completed"
    },
    "tags": []
   },
   "outputs": [
    {
     "name": "stdout",
     "output_type": "stream",
     "text": [
      "Best score:  {'max_depth': 3, 'min_child_weight': 1}\n"
     ]
    },
    {
     "data": {
      "text/html": [
       "<div>\n",
       "<style scoped>\n",
       "    .dataframe tbody tr th:only-of-type {\n",
       "        vertical-align: middle;\n",
       "    }\n",
       "\n",
       "    .dataframe tbody tr th {\n",
       "        vertical-align: top;\n",
       "    }\n",
       "\n",
       "    .dataframe thead th {\n",
       "        text-align: right;\n",
       "    }\n",
       "</style>\n",
       "<table border=\"1\" class=\"dataframe\">\n",
       "  <thead>\n",
       "    <tr style=\"text-align: right;\">\n",
       "      <th></th>\n",
       "      <th>Dataset</th>\n",
       "      <th>F1</th>\n",
       "      <th>Accuracy</th>\n",
       "      <th>Recall</th>\n",
       "      <th>Precision</th>\n",
       "      <th>ROC AUC</th>\n",
       "      <th>False Positives (T-I)</th>\n",
       "      <th>False Negatives (T-II)</th>\n",
       "      <th>True Positives</th>\n",
       "      <th>True Negatives</th>\n",
       "    </tr>\n",
       "  </thead>\n",
       "  <tbody>\n",
       "    <tr>\n",
       "      <th>0</th>\n",
       "      <td>Test</td>\n",
       "      <td>0.263473</td>\n",
       "      <td>0.711268</td>\n",
       "      <td>0.82500</td>\n",
       "      <td>0.15677</td>\n",
       "      <td>0.764336</td>\n",
       "      <td>355</td>\n",
       "      <td>14</td>\n",
       "      <td>66</td>\n",
       "      <td>843</td>\n",
       "    </tr>\n",
       "    <tr>\n",
       "      <th>1</th>\n",
       "      <td>Train</td>\n",
       "      <td>0.783333</td>\n",
       "      <td>0.769231</td>\n",
       "      <td>0.83432</td>\n",
       "      <td>0.73822</td>\n",
       "      <td>0.769231</td>\n",
       "      <td>50</td>\n",
       "      <td>28</td>\n",
       "      <td>141</td>\n",
       "      <td>119</td>\n",
       "    </tr>\n",
       "  </tbody>\n",
       "</table>\n",
       "</div>"
      ],
      "text/plain": [
       "  Dataset        F1  Accuracy   Recall  Precision   ROC AUC  \\\n",
       "0    Test  0.263473  0.711268  0.82500    0.15677  0.764336   \n",
       "1   Train  0.783333  0.769231  0.83432    0.73822  0.769231   \n",
       "\n",
       "   False Positives (T-I)  False Negatives (T-II)  True Positives  \\\n",
       "0                    355                      14              66   \n",
       "1                     50                      28             141   \n",
       "\n",
       "   True Negatives  \n",
       "0             843  \n",
       "1             119  "
      ]
     },
     "metadata": {},
     "output_type": "display_data"
    }
   ],
   "source": [
    "param_test1 = {\n",
    " 'max_depth':range(3,15,2),\n",
    " 'min_child_weight':range(1,6,2),\n",
    "}\n",
    "\n",
    "test_in_range(x_train_res, x_test, y_train_res, y_test, pars_xgb, param_test1)"
   ]
  },
  {
   "cell_type": "code",
   "execution_count": 24,
   "id": "divine-bench",
   "metadata": {
    "execution": {
     "iopub.execute_input": "2021-04-12T12:25:16.029512Z",
     "iopub.status.busy": "2021-04-12T12:25:16.028783Z",
     "iopub.status.idle": "2021-04-12T12:25:27.059171Z",
     "shell.execute_reply": "2021-04-12T12:25:27.058594Z"
    },
    "papermill": {
     "duration": 11.094052,
     "end_time": "2021-04-12T12:25:27.059335",
     "exception": false,
     "start_time": "2021-04-12T12:25:15.965283",
     "status": "completed"
    },
    "tags": []
   },
   "outputs": [
    {
     "name": "stdout",
     "output_type": "stream",
     "text": [
      "Best score:  {'gamma': 0.0}\n"
     ]
    },
    {
     "data": {
      "text/html": [
       "<div>\n",
       "<style scoped>\n",
       "    .dataframe tbody tr th:only-of-type {\n",
       "        vertical-align: middle;\n",
       "    }\n",
       "\n",
       "    .dataframe tbody tr th {\n",
       "        vertical-align: top;\n",
       "    }\n",
       "\n",
       "    .dataframe thead th {\n",
       "        text-align: right;\n",
       "    }\n",
       "</style>\n",
       "<table border=\"1\" class=\"dataframe\">\n",
       "  <thead>\n",
       "    <tr style=\"text-align: right;\">\n",
       "      <th></th>\n",
       "      <th>Dataset</th>\n",
       "      <th>F1</th>\n",
       "      <th>Accuracy</th>\n",
       "      <th>Recall</th>\n",
       "      <th>Precision</th>\n",
       "      <th>ROC AUC</th>\n",
       "      <th>False Positives (T-I)</th>\n",
       "      <th>False Negatives (T-II)</th>\n",
       "      <th>True Positives</th>\n",
       "      <th>True Negatives</th>\n",
       "    </tr>\n",
       "  </thead>\n",
       "  <tbody>\n",
       "    <tr>\n",
       "      <th>0</th>\n",
       "      <td>Test</td>\n",
       "      <td>0.244726</td>\n",
       "      <td>0.719875</td>\n",
       "      <td>0.725000</td>\n",
       "      <td>0.147208</td>\n",
       "      <td>0.722266</td>\n",
       "      <td>336</td>\n",
       "      <td>22</td>\n",
       "      <td>58</td>\n",
       "      <td>862</td>\n",
       "    </tr>\n",
       "    <tr>\n",
       "      <th>1</th>\n",
       "      <td>Train</td>\n",
       "      <td>0.847458</td>\n",
       "      <td>0.840237</td>\n",
       "      <td>0.887574</td>\n",
       "      <td>0.810811</td>\n",
       "      <td>0.840237</td>\n",
       "      <td>35</td>\n",
       "      <td>19</td>\n",
       "      <td>150</td>\n",
       "      <td>134</td>\n",
       "    </tr>\n",
       "  </tbody>\n",
       "</table>\n",
       "</div>"
      ],
      "text/plain": [
       "  Dataset        F1  Accuracy    Recall  Precision   ROC AUC  \\\n",
       "0    Test  0.244726  0.719875  0.725000   0.147208  0.722266   \n",
       "1   Train  0.847458  0.840237  0.887574   0.810811  0.840237   \n",
       "\n",
       "   False Positives (T-I)  False Negatives (T-II)  True Positives  \\\n",
       "0                    336                      22              58   \n",
       "1                     35                      19             150   \n",
       "\n",
       "   True Negatives  \n",
       "0             862  \n",
       "1             134  "
      ]
     },
     "metadata": {},
     "output_type": "display_data"
    }
   ],
   "source": [
    "param_test1 = {\n",
    " 'gamma':[i/10.0 for i in range(0,5)]\n",
    "}\n",
    "\n",
    "test_in_range(x_train_res, x_test, y_train_res, y_test, pars_xgb, param_test1)"
   ]
  },
  {
   "cell_type": "code",
   "execution_count": 25,
   "id": "charming-eugene",
   "metadata": {
    "execution": {
     "iopub.execute_input": "2021-04-12T12:25:27.182645Z",
     "iopub.status.busy": "2021-04-12T12:25:27.181913Z",
     "iopub.status.idle": "2021-04-12T12:26:27.264349Z",
     "shell.execute_reply": "2021-04-12T12:26:27.263615Z"
    },
    "papermill": {
     "duration": 60.148438,
     "end_time": "2021-04-12T12:26:27.264552",
     "exception": false,
     "start_time": "2021-04-12T12:25:27.116114",
     "status": "completed"
    },
    "tags": []
   },
   "outputs": [
    {
     "name": "stdout",
     "output_type": "stream",
     "text": [
      "Best score:  {'colsample_bytree': 0.7, 'subsample': 0.6}\n"
     ]
    },
    {
     "data": {
      "text/html": [
       "<div>\n",
       "<style scoped>\n",
       "    .dataframe tbody tr th:only-of-type {\n",
       "        vertical-align: middle;\n",
       "    }\n",
       "\n",
       "    .dataframe tbody tr th {\n",
       "        vertical-align: top;\n",
       "    }\n",
       "\n",
       "    .dataframe thead th {\n",
       "        text-align: right;\n",
       "    }\n",
       "</style>\n",
       "<table border=\"1\" class=\"dataframe\">\n",
       "  <thead>\n",
       "    <tr style=\"text-align: right;\">\n",
       "      <th></th>\n",
       "      <th>Dataset</th>\n",
       "      <th>F1</th>\n",
       "      <th>Accuracy</th>\n",
       "      <th>Recall</th>\n",
       "      <th>Precision</th>\n",
       "      <th>ROC AUC</th>\n",
       "      <th>False Positives (T-I)</th>\n",
       "      <th>False Negatives (T-II)</th>\n",
       "      <th>True Positives</th>\n",
       "      <th>True Negatives</th>\n",
       "    </tr>\n",
       "  </thead>\n",
       "  <tbody>\n",
       "    <tr>\n",
       "      <th>0</th>\n",
       "      <td>Test</td>\n",
       "      <td>0.242826</td>\n",
       "      <td>0.731612</td>\n",
       "      <td>0.687500</td>\n",
       "      <td>0.147453</td>\n",
       "      <td>0.711029</td>\n",
       "      <td>318</td>\n",
       "      <td>25</td>\n",
       "      <td>55</td>\n",
       "      <td>880</td>\n",
       "    </tr>\n",
       "    <tr>\n",
       "      <th>1</th>\n",
       "      <td>Train</td>\n",
       "      <td>0.956012</td>\n",
       "      <td>0.955621</td>\n",
       "      <td>0.964497</td>\n",
       "      <td>0.947674</td>\n",
       "      <td>0.955621</td>\n",
       "      <td>9</td>\n",
       "      <td>6</td>\n",
       "      <td>163</td>\n",
       "      <td>160</td>\n",
       "    </tr>\n",
       "  </tbody>\n",
       "</table>\n",
       "</div>"
      ],
      "text/plain": [
       "  Dataset        F1  Accuracy    Recall  Precision   ROC AUC  \\\n",
       "0    Test  0.242826  0.731612  0.687500   0.147453  0.711029   \n",
       "1   Train  0.956012  0.955621  0.964497   0.947674  0.955621   \n",
       "\n",
       "   False Positives (T-I)  False Negatives (T-II)  True Positives  \\\n",
       "0                    318                      25              55   \n",
       "1                      9                       6             163   \n",
       "\n",
       "   True Negatives  \n",
       "0             880  \n",
       "1             160  "
      ]
     },
     "metadata": {},
     "output_type": "display_data"
    }
   ],
   "source": [
    "param_test1 = {\n",
    " 'subsample':[i/10.0 for i in range(6,10)],\n",
    " 'colsample_bytree':[i/10.0 for i in range(6,10)]\n",
    "}\n",
    "test_in_range(x_train_res, x_test, y_train_res, y_test, pars_xgb, param_test1)"
   ]
  },
  {
   "cell_type": "markdown",
   "id": "synthetic-tennessee",
   "metadata": {
    "papermill": {
     "duration": 0.058023,
     "end_time": "2021-04-12T12:26:27.382348",
     "exception": false,
     "start_time": "2021-04-12T12:26:27.324325",
     "status": "completed"
    },
    "tags": []
   },
   "source": [
    "## 4. Dimensionality reduction"
   ]
  },
  {
   "cell_type": "markdown",
   "id": "homeless-radio",
   "metadata": {
    "papermill": {
     "duration": 0.057672,
     "end_time": "2021-04-12T12:26:27.498545",
     "exception": false,
     "start_time": "2021-04-12T12:26:27.440873",
     "status": "completed"
    },
    "tags": []
   },
   "source": [
    "#### 4.A Univariate analysis\n",
    "Univariate tests measure the correlation between the selected feature and the target. Each feature is analyzed independently, not taking into account the correlation between different features.    "
   ]
  },
  {
   "cell_type": "code",
   "execution_count": 26,
   "id": "harmful-slovenia",
   "metadata": {
    "execution": {
     "iopub.execute_input": "2021-04-12T12:26:27.625033Z",
     "iopub.status.busy": "2021-04-12T12:26:27.624264Z",
     "iopub.status.idle": "2021-04-12T12:26:27.637960Z",
     "shell.execute_reply": "2021-04-12T12:26:27.637350Z"
    },
    "papermill": {
     "duration": 0.081721,
     "end_time": "2021-04-12T12:26:27.638143",
     "exception": false,
     "start_time": "2021-04-12T12:26:27.556422",
     "status": "completed"
    },
    "tags": []
   },
   "outputs": [
    {
     "name": "stdout",
     "output_type": "stream",
     "text": [
      "Score list: [2.53033166e+03 1.11324883e+03 6.87148035e+01 5.52678668e+01\n",
      " 1.98582479e+01 1.15332567e+01 1.08992056e+01 9.51950985e+00\n",
      " 7.44049370e+00 8.30693610e-01 7.47453147e-01 6.34413256e-01\n",
      " 1.27818868e-01 2.53729493e-02 1.85897335e-03]\n",
      "Feature list: Index(['age', 'avg_glucose_level', 'heart_disease', 'hypertension',\n",
      "       'work_type_children', 'ever_married_Yes', 'work_type_Self-employed',\n",
      "       'bmi', 'smoking_status_formerly smoked', 'work_type_Never_worked',\n",
      "       'Residence_type_Urban', 'smoking_status_smokes', 'work_type_Private',\n",
      "       'gender_Male', 'smoking_status_never smoked'],\n",
      "      dtype='object')\n"
     ]
    }
   ],
   "source": [
    "select_feature = SelectKBest(chi2, k=5).fit(x_train, y_train)\n",
    "order_ind = select_feature.scores_.argsort()\n",
    "print('Score list:', select_feature.scores_[order_ind[::-1]])\n",
    "print('Feature list:', x_train.columns[order_ind[::-1]])"
   ]
  },
  {
   "cell_type": "markdown",
   "id": "suffering-kernel",
   "metadata": {
    "papermill": {
     "duration": 0.059652,
     "end_time": "2021-04-12T12:26:27.756691",
     "exception": false,
     "start_time": "2021-04-12T12:26:27.697039",
     "status": "completed"
    },
    "tags": []
   },
   "source": [
    "The score list above confirms the findings of the [data visualization section](#2.-Data-visualization). In particular, age is the most important feature to consider here, together with the average glucose level. Among the other important variables selected by the univariate algorithm it is interesting to mention the  'ever_married_Yes', that we know is strongly correlated with age, as well as 'work_type_children'. For this reason, before proceeding with the dimensionality reduction it is necessary to employ a multivariate algorithm."
   ]
  },
  {
   "cell_type": "markdown",
   "id": "generous-latitude",
   "metadata": {
    "papermill": {
     "duration": 0.061039,
     "end_time": "2021-04-12T12:26:27.877166",
     "exception": false,
     "start_time": "2021-04-12T12:26:27.816127",
     "status": "completed"
    },
    "tags": []
   },
   "source": [
    "### 4.B Recursive feature elimination (RFE) with random forest"
   ]
  },
  {
   "cell_type": "markdown",
   "id": "speaking-wrestling",
   "metadata": {
    "papermill": {
     "duration": 0.059181,
     "end_time": "2021-04-12T12:26:27.995812",
     "exception": false,
     "start_time": "2021-04-12T12:26:27.936631",
     "status": "completed"
    },
    "tags": []
   },
   "source": [
    "Random forest can be employed in combination with the [feature ranking with recursive feature elimination](https://scikit-learn.org/stable/modules/generated/sklearn.feature_selection.RFE.html) algorithm. Due to the strong correlation between features, the expected outcome significantly differs from the output of the univariate algorithm employed in the previous section."
   ]
  },
  {
   "cell_type": "code",
   "execution_count": 27,
   "id": "prescription-restriction",
   "metadata": {
    "execution": {
     "iopub.execute_input": "2021-04-12T12:26:28.130601Z",
     "iopub.status.busy": "2021-04-12T12:26:28.127686Z",
     "iopub.status.idle": "2021-04-12T12:26:36.194863Z",
     "shell.execute_reply": "2021-04-12T12:26:36.194288Z"
    },
    "papermill": {
     "duration": 8.135367,
     "end_time": "2021-04-12T12:26:36.195009",
     "exception": false,
     "start_time": "2021-04-12T12:26:28.059642",
     "status": "completed"
    },
    "tags": []
   },
   "outputs": [
    {
     "name": "stdout",
     "output_type": "stream",
     "text": [
      "Selected features: Index(['age', 'avg_glucose_level', 'bmi', 'work_type_Private',\n",
      "       'smoking_status_never smoked'],\n",
      "      dtype='object')\n"
     ]
    }
   ],
   "source": [
    "resampling = SMOTEENN(random_state=7)\n",
    "x_tmp, y_tmp = resampling.fit_resample(x_train, y_train)\n",
    "x_train_tmp = pd.DataFrame(x_tmp,columns=df_cols)\n",
    "y_train_tmp = pd.Series(y_tmp)\n",
    "\n",
    "clf_rf = RandomForestClassifier()      \n",
    "rfe = RFE(estimator=clf_rf, n_features_to_select=5, step=1)\n",
    "rfe = rfe.fit(x_train_tmp, y_train_tmp)\n",
    "print('Selected features:',x_train.columns[rfe.support_])"
   ]
  },
  {
   "cell_type": "markdown",
   "id": "standing-phoenix",
   "metadata": {
    "papermill": {
     "duration": 0.058668,
     "end_time": "2021-04-12T12:26:36.312685",
     "exception": false,
     "start_time": "2021-04-12T12:26:36.254017",
     "status": "completed"
    },
    "tags": []
   },
   "source": [
    "As expected, the best features selected by the algorithm do not include the varialbe 'ever_married_Yes', which is strongly correlated with age. Among the five best features the variables 'smoking_status_never smoked' and 'smoking_status_smokes' have been included, which however have a weak correlation with the target. These variables may not give significative additional information to the classifier. Let's test now the XGBoost classifier with SMOTEENN employing the selected features..."
   ]
  },
  {
   "cell_type": "code",
   "execution_count": 28,
   "id": "similar-trunk",
   "metadata": {
    "execution": {
     "iopub.execute_input": "2021-04-12T12:26:36.443327Z",
     "iopub.status.busy": "2021-04-12T12:26:36.440656Z",
     "iopub.status.idle": "2021-04-12T12:26:53.050226Z",
     "shell.execute_reply": "2021-04-12T12:26:53.050746Z"
    },
    "papermill": {
     "duration": 16.678893,
     "end_time": "2021-04-12T12:26:53.050944",
     "exception": false,
     "start_time": "2021-04-12T12:26:36.372051",
     "status": "completed"
    },
    "tags": []
   },
   "outputs": [
    {
     "data": {
      "text/html": [
       "<div>\n",
       "<style scoped>\n",
       "    .dataframe tbody tr th:only-of-type {\n",
       "        vertical-align: middle;\n",
       "    }\n",
       "\n",
       "    .dataframe tbody tr th {\n",
       "        vertical-align: top;\n",
       "    }\n",
       "\n",
       "    .dataframe thead th {\n",
       "        text-align: right;\n",
       "    }\n",
       "</style>\n",
       "<table border=\"1\" class=\"dataframe\">\n",
       "  <thead>\n",
       "    <tr style=\"text-align: right;\">\n",
       "      <th></th>\n",
       "      <th>Dataset</th>\n",
       "      <th>F1</th>\n",
       "      <th>Accuracy</th>\n",
       "      <th>Recall</th>\n",
       "      <th>Precision</th>\n",
       "      <th>ROC AUC</th>\n",
       "      <th>False Positives (T-I)</th>\n",
       "      <th>False Negatives (T-II)</th>\n",
       "      <th>True Positives</th>\n",
       "      <th>True Negatives</th>\n",
       "    </tr>\n",
       "  </thead>\n",
       "  <tbody>\n",
       "    <tr>\n",
       "      <th>0</th>\n",
       "      <td>Test</td>\n",
       "      <td>0.326154</td>\n",
       "      <td>0.828638</td>\n",
       "      <td>0.662500</td>\n",
       "      <td>0.216327</td>\n",
       "      <td>0.751116</td>\n",
       "      <td>192</td>\n",
       "      <td>27</td>\n",
       "      <td>53</td>\n",
       "      <td>1006</td>\n",
       "    </tr>\n",
       "    <tr>\n",
       "      <th>1</th>\n",
       "      <td>Train</td>\n",
       "      <td>0.944800</td>\n",
       "      <td>0.939240</td>\n",
       "      <td>0.963289</td>\n",
       "      <td>0.927007</td>\n",
       "      <td>0.937160</td>\n",
       "      <td>250</td>\n",
       "      <td>121</td>\n",
       "      <td>3175</td>\n",
       "      <td>2560</td>\n",
       "    </tr>\n",
       "  </tbody>\n",
       "</table>\n",
       "</div>"
      ],
      "text/plain": [
       "  Dataset        F1  Accuracy    Recall  Precision   ROC AUC  \\\n",
       "0    Test  0.326154  0.828638  0.662500   0.216327  0.751116   \n",
       "1   Train  0.944800  0.939240  0.963289   0.927007  0.937160   \n",
       "\n",
       "   False Positives (T-I)  False Negatives (T-II)  True Positives  \\\n",
       "0                    192                      27              53   \n",
       "1                    250                     121            3175   \n",
       "\n",
       "   True Negatives  \n",
       "0            1006  \n",
       "1            2560  "
      ]
     },
     "metadata": {},
     "output_type": "display_data"
    },
    {
     "data": {
      "image/png": "[encoded data removed]",
      "text/plain": [
       "<Figure size 432x288 with 1 Axes>"
      ]
     },
     "metadata": {},
     "output_type": "display_data"
    }
   ],
   "source": [
    "pars_xgb = {'objective':'binary:logistic',\n",
    "            'random_state':7,\n",
    "            'scale_pos_weight':1,\n",
    "            'use_label_encoder':False,\n",
    "            'eval_metric':'error',\n",
    "            'learning_rate':0.01,\n",
    "            'colsample_bytree': 0.05,\n",
    "            'subsample': 0.8,\n",
    "            'n_estimators':2000, \n",
    "            'reg_alpha': 0.3,\n",
    "            'n_jobs':1,\n",
    "            'max_depth':10, \n",
    "            'gamma':10\n",
    "           }\n",
    "\n",
    "rf_rfe_columns = list(x_train.columns[rfe.support_])\n",
    "test_resampling(resampling,x_train[rf_rfe_columns], \n",
    "                x_test[rf_rfe_columns], y_train, y_test, rf_rfe_columns)"
   ]
  },
  {
   "cell_type": "markdown",
   "id": "dated-catering",
   "metadata": {
    "papermill": {
     "duration": 0.062516,
     "end_time": "2021-04-12T12:26:53.176267",
     "exception": false,
     "start_time": "2021-04-12T12:26:53.113751",
     "status": "completed"
    },
    "tags": []
   },
   "source": [
    "The $F_1$ score on the test set has slightly improved compared to the classification performed including all the available features in [Sec. 3](#3.-Testing-resampling-techniques-with-XGBoost-binary-classifier). However, the number of features has been drastically reduced to 5. In the next section, I am going to test another multivariate feature selection algorithm and compare the results with what obtained here."
   ]
  },
  {
   "cell_type": "markdown",
   "id": "educated-netscape",
   "metadata": {
    "papermill": {
     "duration": 0.060323,
     "end_time": "2021-04-12T12:26:53.297135",
     "exception": false,
     "start_time": "2021-04-12T12:26:53.236812",
     "status": "completed"
    },
    "tags": []
   },
   "source": [
    "### 4.C RFE with Cross Validation (RFECV) with random forest\n",
    "Below, I am going to the RFE algorithm with cross-validation, employing the random forest classifier. This will allow to crosscheck the best features selected in the previous subsection and to get the optimal number of features."
   ]
  },
  {
   "cell_type": "code",
   "execution_count": 29,
   "id": "fitting-casting",
   "metadata": {
    "execution": {
     "iopub.execute_input": "2021-04-12T12:26:53.427436Z",
     "iopub.status.busy": "2021-04-12T12:26:53.426720Z",
     "iopub.status.idle": "2021-04-12T12:28:47.014916Z",
     "shell.execute_reply": "2021-04-12T12:28:47.015764Z"
    },
    "papermill": {
     "duration": 113.65815,
     "end_time": "2021-04-12T12:28:47.016016",
     "exception": false,
     "start_time": "2021-04-12T12:26:53.357866",
     "status": "completed"
    },
    "tags": []
   },
   "outputs": [
    {
     "name": "stdout",
     "output_type": "stream",
     "text": [
      "Optimal number of features : 4\n",
      "Best features : Index(['age', 'avg_glucose_level', 'bmi', 'smoking_status_never smoked'], dtype='object')\n"
     ]
    }
   ],
   "source": [
    "from sklearn.feature_selection import RFECV\n",
    "\n",
    "clf_rf = RandomForestClassifier() \n",
    "rfecv = RFECV(estimator=clf_rf, step=1, cv=10,scoring='f1')\n",
    "rfecv = rfecv.fit(x_train_tmp, y_train_tmp)\n",
    "\n",
    "print('Optimal number of features :', rfecv.n_features_)\n",
    "print('Best features :', x_train.columns[rfecv.support_])"
   ]
  },
  {
   "cell_type": "markdown",
   "id": "satisfactory-accident",
   "metadata": {
    "papermill": {
     "duration": 0.062269,
     "end_time": "2021-04-12T12:28:47.141035",
     "exception": false,
     "start_time": "2021-04-12T12:28:47.078766",
     "status": "completed"
    },
    "tags": []
   },
   "source": [
    "The optimal number of features is 3, and they correspond with the ones selected in the previous subsection."
   ]
  },
  {
   "cell_type": "code",
   "execution_count": 30,
   "id": "fifty-cover",
   "metadata": {
    "execution": {
     "iopub.execute_input": "2021-04-12T12:28:47.272278Z",
     "iopub.status.busy": "2021-04-12T12:28:47.271583Z",
     "iopub.status.idle": "2021-04-12T12:29:04.136809Z",
     "shell.execute_reply": "2021-04-12T12:29:04.136103Z"
    },
    "papermill": {
     "duration": 16.934233,
     "end_time": "2021-04-12T12:29:04.136959",
     "exception": false,
     "start_time": "2021-04-12T12:28:47.202726",
     "status": "completed"
    },
    "tags": []
   },
   "outputs": [
    {
     "data": {
      "text/html": [
       "<div>\n",
       "<style scoped>\n",
       "    .dataframe tbody tr th:only-of-type {\n",
       "        vertical-align: middle;\n",
       "    }\n",
       "\n",
       "    .dataframe tbody tr th {\n",
       "        vertical-align: top;\n",
       "    }\n",
       "\n",
       "    .dataframe thead th {\n",
       "        text-align: right;\n",
       "    }\n",
       "</style>\n",
       "<table border=\"1\" class=\"dataframe\">\n",
       "  <thead>\n",
       "    <tr style=\"text-align: right;\">\n",
       "      <th></th>\n",
       "      <th>Dataset</th>\n",
       "      <th>F1</th>\n",
       "      <th>Accuracy</th>\n",
       "      <th>Recall</th>\n",
       "      <th>Precision</th>\n",
       "      <th>ROC AUC</th>\n",
       "      <th>False Positives (T-I)</th>\n",
       "      <th>False Negatives (T-II)</th>\n",
       "      <th>True Positives</th>\n",
       "      <th>True Negatives</th>\n",
       "    </tr>\n",
       "  </thead>\n",
       "  <tbody>\n",
       "    <tr>\n",
       "      <th>0</th>\n",
       "      <td>Test</td>\n",
       "      <td>0.327381</td>\n",
       "      <td>0.823161</td>\n",
       "      <td>0.687500</td>\n",
       "      <td>0.214844</td>\n",
       "      <td>0.759860</td>\n",
       "      <td>201</td>\n",
       "      <td>25</td>\n",
       "      <td>55</td>\n",
       "      <td>997</td>\n",
       "    </tr>\n",
       "    <tr>\n",
       "      <th>1</th>\n",
       "      <td>Train</td>\n",
       "      <td>0.945075</td>\n",
       "      <td>0.940089</td>\n",
       "      <td>0.961811</td>\n",
       "      <td>0.928911</td>\n",
       "      <td>0.938409</td>\n",
       "      <td>239</td>\n",
       "      <td>124</td>\n",
       "      <td>3123</td>\n",
       "      <td>2573</td>\n",
       "    </tr>\n",
       "  </tbody>\n",
       "</table>\n",
       "</div>"
      ],
      "text/plain": [
       "  Dataset        F1  Accuracy    Recall  Precision   ROC AUC  \\\n",
       "0    Test  0.327381  0.823161  0.687500   0.214844  0.759860   \n",
       "1   Train  0.945075  0.940089  0.961811   0.928911  0.938409   \n",
       "\n",
       "   False Positives (T-I)  False Negatives (T-II)  True Positives  \\\n",
       "0                    201                      25              55   \n",
       "1                    239                     124            3123   \n",
       "\n",
       "   True Negatives  \n",
       "0             997  \n",
       "1            2573  "
      ]
     },
     "metadata": {},
     "output_type": "display_data"
    },
    {
     "data": {
      "image/png": "[encoded data removed]",
      "text/plain": [
       "<Figure size 432x288 with 1 Axes>"
      ]
     },
     "metadata": {},
     "output_type": "display_data"
    }
   ],
   "source": [
    "rf_rfecv_columns = list(x_train.columns[rfecv.support_])\n",
    "test_resampling(resampling,x_train[rf_rfecv_columns], \n",
    "                x_test[rf_rfecv_columns], y_train, y_test, rf_rfecv_columns)"
   ]
  },
  {
   "cell_type": "markdown",
   "id": "acknowledged-gamma",
   "metadata": {
    "papermill": {
     "duration": 0.062331,
     "end_time": "2021-04-12T12:29:04.262335",
     "exception": false,
     "start_time": "2021-04-12T12:29:04.200004",
     "status": "completed"
    },
    "tags": []
   },
   "source": [
    "The $F_1$ score on the test set remains constant compared to the results of [Sec. 4.C](#4.C-Recursive-feature-elimination-(RFE)-with-random-forest)."
   ]
  },
  {
   "cell_type": "markdown",
   "id": "closed-instrument",
   "metadata": {
    "papermill": {
     "duration": 0.062294,
     "end_time": "2021-04-12T12:29:04.387432",
     "exception": false,
     "start_time": "2021-04-12T12:29:04.325138",
     "status": "completed"
    },
    "tags": []
   },
   "source": [
    "## 4.D Principle component analysis (PCA) for feature extraction"
   ]
  },
  {
   "cell_type": "code",
   "execution_count": 31,
   "id": "certain-relaxation",
   "metadata": {
    "execution": {
     "iopub.execute_input": "2021-04-12T12:29:04.523030Z",
     "iopub.status.busy": "2021-04-12T12:29:04.519926Z",
     "iopub.status.idle": "2021-04-12T12:29:04.540493Z",
     "shell.execute_reply": "2021-04-12T12:29:04.539781Z"
    },
    "papermill": {
     "duration": 0.090871,
     "end_time": "2021-04-12T12:29:04.540645",
     "exception": false,
     "start_time": "2021-04-12T12:29:04.449774",
     "status": "completed"
    },
    "tags": []
   },
   "outputs": [],
   "source": [
    "pca_stroke = PCA()\n",
    "principalComponents_stroke = pca_stroke.fit_transform(df_one_hot.drop(['stroke'],axis=1)[df_cols])"
   ]
  },
  {
   "cell_type": "code",
   "execution_count": 32,
   "id": "egyptian-african",
   "metadata": {
    "execution": {
     "iopub.execute_input": "2021-04-12T12:29:04.766515Z",
     "iopub.status.busy": "2021-04-12T12:29:04.745476Z",
     "iopub.status.idle": "2021-04-12T12:29:05.011952Z",
     "shell.execute_reply": "2021-04-12T12:29:05.011339Z"
    },
    "papermill": {
     "duration": 0.359389,
     "end_time": "2021-04-12T12:29:05.012109",
     "exception": false,
     "start_time": "2021-04-12T12:29:04.652720",
     "status": "completed"
    },
    "tags": []
   },
   "outputs": [
    {
     "data": {
      "text/plain": [
       "[<matplotlib.lines.Line2D at 0x7f55d7ab1ed0>]"
      ]
     },
     "execution_count": 32,
     "metadata": {},
     "output_type": "execute_result"
    },
    {
     "data": {
      "image/png": "[encoded data removed]",
      "text/plain": [
       "<Figure size 720x648 with 1 Axes>"
      ]
     },
     "metadata": {},
     "output_type": "display_data"
    }
   ],
   "source": [
    "sns.set()\n",
    "plt.figure(1, figsize=(10, 9))\n",
    "sns.lineplot(data=np.cumsum(pca_stroke.explained_variance_ratio_))\n",
    "plt.xlabel('number of components')\n",
    "plt.ylabel('cumulative explained variance');\n",
    "\n",
    "plt.bar(range(0,15), pca_stroke.explained_variance_ratio_,\n",
    "        alpha=0.5,\n",
    "        align='center')\n",
    "plt.step(range(0,15), np.cumsum(pca_stroke.explained_variance_ratio_),\n",
    "         where='mid',\n",
    "         color='red')"
   ]
  },
  {
   "cell_type": "code",
   "execution_count": 33,
   "id": "certified-connecticut",
   "metadata": {
    "execution": {
     "iopub.execute_input": "2021-04-12T12:29:05.149004Z",
     "iopub.status.busy": "2021-04-12T12:29:05.148364Z",
     "iopub.status.idle": "2021-04-12T12:29:05.151454Z",
     "shell.execute_reply": "2021-04-12T12:29:05.150893Z"
    },
    "papermill": {
     "duration": 0.074331,
     "end_time": "2021-04-12T12:29:05.151596",
     "exception": false,
     "start_time": "2021-04-12T12:29:05.077265",
     "status": "completed"
    },
    "tags": []
   },
   "outputs": [],
   "source": [
    "n_pca = 2\n",
    "pca_cols = []\n",
    "for j in range(n_pca):\n",
    "    pca_cols.append('pca%d'%(j))\n",
    "principalComp_stroke_df = pd.DataFrame(data = principalComponents_stroke[:,:n_pca],\n",
    "                                      columns=pca_cols)"
   ]
  },
  {
   "cell_type": "code",
   "execution_count": 34,
   "id": "protecting-seeking",
   "metadata": {
    "execution": {
     "iopub.execute_input": "2021-04-12T12:29:05.290621Z",
     "iopub.status.busy": "2021-04-12T12:29:05.289957Z",
     "iopub.status.idle": "2021-04-12T12:29:05.295373Z",
     "shell.execute_reply": "2021-04-12T12:29:05.294707Z"
    },
    "papermill": {
     "duration": 0.076087,
     "end_time": "2021-04-12T12:29:05.295526",
     "exception": false,
     "start_time": "2021-04-12T12:29:05.219439",
     "status": "completed"
    },
    "tags": []
   },
   "outputs": [],
   "source": [
    "x_train, x_test, y_train, y_test = train_test_split(principalComp_stroke_df, df['stroke'], \n",
    "                                                    test_size=0.25, random_state=42)"
   ]
  },
  {
   "cell_type": "code",
   "execution_count": 35,
   "id": "colored-silence",
   "metadata": {
    "execution": {
     "iopub.execute_input": "2021-04-12T12:29:05.431830Z",
     "iopub.status.busy": "2021-04-12T12:29:05.431138Z",
     "iopub.status.idle": "2021-04-12T12:29:23.229713Z",
     "shell.execute_reply": "2021-04-12T12:29:23.229021Z"
    },
    "papermill": {
     "duration": 17.870227,
     "end_time": "2021-04-12T12:29:23.229874",
     "exception": false,
     "start_time": "2021-04-12T12:29:05.359647",
     "status": "completed"
    },
    "tags": []
   },
   "outputs": [
    {
     "data": {
      "text/html": [
       "<div>\n",
       "<style scoped>\n",
       "    .dataframe tbody tr th:only-of-type {\n",
       "        vertical-align: middle;\n",
       "    }\n",
       "\n",
       "    .dataframe tbody tr th {\n",
       "        vertical-align: top;\n",
       "    }\n",
       "\n",
       "    .dataframe thead th {\n",
       "        text-align: right;\n",
       "    }\n",
       "</style>\n",
       "<table border=\"1\" class=\"dataframe\">\n",
       "  <thead>\n",
       "    <tr style=\"text-align: right;\">\n",
       "      <th></th>\n",
       "      <th>Dataset</th>\n",
       "      <th>F1</th>\n",
       "      <th>Accuracy</th>\n",
       "      <th>Recall</th>\n",
       "      <th>Precision</th>\n",
       "      <th>ROC AUC</th>\n",
       "      <th>False Positives (T-I)</th>\n",
       "      <th>False Negatives (T-II)</th>\n",
       "      <th>True Positives</th>\n",
       "      <th>True Negatives</th>\n",
       "    </tr>\n",
       "  </thead>\n",
       "  <tbody>\n",
       "    <tr>\n",
       "      <th>0</th>\n",
       "      <td>Test</td>\n",
       "      <td>0.280193</td>\n",
       "      <td>0.766823</td>\n",
       "      <td>0.725000</td>\n",
       "      <td>0.173653</td>\n",
       "      <td>0.747308</td>\n",
       "      <td>276</td>\n",
       "      <td>22</td>\n",
       "      <td>58</td>\n",
       "      <td>922</td>\n",
       "    </tr>\n",
       "    <tr>\n",
       "      <th>1</th>\n",
       "      <td>Train</td>\n",
       "      <td>0.933502</td>\n",
       "      <td>0.930395</td>\n",
       "      <td>0.950331</td>\n",
       "      <td>0.917259</td>\n",
       "      <td>0.929817</td>\n",
       "      <td>233</td>\n",
       "      <td>135</td>\n",
       "      <td>2583</td>\n",
       "      <td>2336</td>\n",
       "    </tr>\n",
       "  </tbody>\n",
       "</table>\n",
       "</div>"
      ],
      "text/plain": [
       "  Dataset        F1  Accuracy    Recall  Precision   ROC AUC  \\\n",
       "0    Test  0.280193  0.766823  0.725000   0.173653  0.747308   \n",
       "1   Train  0.933502  0.930395  0.950331   0.917259  0.929817   \n",
       "\n",
       "   False Positives (T-I)  False Negatives (T-II)  True Positives  \\\n",
       "0                    276                      22              58   \n",
       "1                    233                     135            2583   \n",
       "\n",
       "   True Negatives  \n",
       "0             922  \n",
       "1            2336  "
      ]
     },
     "metadata": {},
     "output_type": "display_data"
    },
    {
     "data": {
      "image/png": "[encoded data removed]",
      "text/plain": [
       "<Figure size 432x288 with 1 Axes>"
      ]
     },
     "metadata": {},
     "output_type": "display_data"
    }
   ],
   "source": [
    "test_resampling(resampling,x_train, \n",
    "                x_test, y_train, y_test, pca_cols)"
   ]
  }
 ],
 "metadata": {
  "kernelspec": {
   "display_name": "Python 3",
   "language": "python",
   "name": "python3"
  },
  "language_info": {
   "codemirror_mode": {
    "name": "ipython",
    "version": 3
   },
   "file_extension": ".py",
   "mimetype": "text/x-python",
   "name": "python",
   "nbconvert_exporter": "python",
   "pygments_lexer": "ipython3",
   "version": "3.7.9"
  },
  "papermill": {
   "default_parameters": {},
   "duration": 383.334344,
   "end_time": "2021-04-12T12:29:24.108585",
   "environment_variables": {},
   "exception": null,
   "input_path": "__notebook__.ipynb",
   "output_path": "__notebook__.ipynb",
   "parameters": {},
   "start_time": "2021-04-12T12:23:00.774241",
   "version": "2.3.2"
  }
 },
 "nbformat": 4,
 "nbformat_minor": 5
}
