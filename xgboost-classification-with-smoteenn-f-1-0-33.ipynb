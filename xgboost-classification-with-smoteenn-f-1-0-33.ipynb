{
 "cells": [
  {
   "cell_type": "code",
   "execution_count": 1,
   "id": "committed-folder",
   "metadata": {
    "_cell_guid": "b1076dfc-b9ad-4769-8c92-a6c4dae69d19",
    "_kg_hide-input": true,
    "_uuid": "8f2839f25d086af736a60e9eeb907d3b93b6e0e5",
    "execution": {
     "iopub.execute_input": "2021-05-02T10:35:10.761296Z",
     "iopub.status.busy": "2021-05-02T10:35:10.760698Z",
     "iopub.status.idle": "2021-05-02T10:35:10.777170Z",
     "shell.execute_reply": "2021-05-02T10:35:10.775941Z"
    },
    "papermill": {
     "duration": 0.070233,
     "end_time": "2021-05-02T10:35:10.777527",
     "exception": false,
     "start_time": "2021-05-02T10:35:10.707294",
     "status": "completed"
    },
    "tags": []
   },
   "outputs": [
    {
     "name": "stdout",
     "output_type": "stream",
     "text": [
      "/kaggle/input/stroke-prediction-dataset/healthcare-dataset-stroke-data.csv\n"
     ]
    }
   ],
   "source": [
    "# This Python 3 environment comes with many helpful analytics libraries installed\n",
    "# It is defined by the kaggle/python Docker image: https://github.com/kaggle/docker-python\n",
    "# For example, here's several helpful packages to load\n",
    "\n",
    "import numpy as np # linear algebra\n",
    "import pandas as pd # data processing, CSV file I/O (e.g. pd.read_csv)\n",
    "\n",
    "# Input data files are available in the read-only \"../input/\" directory\n",
    "# For example, running this (by clicking run or pressing Shift+Enter) will list all files under the input directory\n",
    "\n",
    "import os\n",
    "for dirname, _, filenames in os.walk('/kaggle/input'):\n",
    "    for filename in filenames:\n",
    "        print(os.path.join(dirname, filename))\n",
    "\n",
    "# You can write up to 20GB to the current directory (/kaggle/working/) that gets preserved as output when you create a version using \"Save & Run All\" \n",
    "# You can also write temporary files to /kaggle/temp/, but they won't be saved outside of the current session"
   ]
  },
  {
   "cell_type": "code",
   "execution_count": 2,
   "id": "dedicated-charter",
   "metadata": {
    "_kg_hide-input": true,
    "execution": {
     "iopub.execute_input": "2021-05-02T10:35:10.886489Z",
     "iopub.status.busy": "2021-05-02T10:35:10.881036Z",
     "iopub.status.idle": "2021-05-02T10:35:29.408369Z",
     "shell.execute_reply": "2021-05-02T10:35:29.409234Z"
    },
    "papermill": {
     "duration": 18.584277,
     "end_time": "2021-05-02T10:35:29.409434",
     "exception": false,
     "start_time": "2021-05-02T10:35:10.825157",
     "status": "completed"
    },
    "tags": []
   },
   "outputs": [
    {
     "name": "stdout",
     "output_type": "stream",
     "text": [
      "Requirement already satisfied: phik in /opt/conda/lib/python3.7/site-packages (0.10.0)\r\n",
      "Requirement already satisfied: matplotlib>=2.2.3 in /opt/conda/lib/python3.7/site-packages (from phik) (3.4.0)\r\n",
      "Requirement already satisfied: pandas>=0.23.4 in /opt/conda/lib/python3.7/site-packages (from phik) (1.2.2)\r\n",
      "Requirement already satisfied: joblib>=0.14.1 in /opt/conda/lib/python3.7/site-packages (from phik) (1.0.1)\r\n",
      "Requirement already satisfied: numpy>=1.15.4 in /opt/conda/lib/python3.7/site-packages (from phik) (1.19.5)\r\n",
      "Requirement already satisfied: scipy>=1.1.0 in /opt/conda/lib/python3.7/site-packages (from phik) (1.5.4)\r\n",
      "Requirement already satisfied: numba>=0.38.1 in /opt/conda/lib/python3.7/site-packages (from phik) (0.52.0)\r\n",
      "Requirement already satisfied: kiwisolver>=1.0.1 in /opt/conda/lib/python3.7/site-packages (from matplotlib>=2.2.3->phik) (1.3.1)\r\n",
      "Requirement already satisfied: pillow>=6.2.0 in /opt/conda/lib/python3.7/site-packages (from matplotlib>=2.2.3->phik) (7.2.0)\r\n",
      "Requirement already satisfied: cycler>=0.10 in /opt/conda/lib/python3.7/site-packages (from matplotlib>=2.2.3->phik) (0.10.0)\r\n",
      "Requirement already satisfied: pyparsing>=2.2.1 in /opt/conda/lib/python3.7/site-packages (from matplotlib>=2.2.3->phik) (2.4.7)\r\n",
      "Requirement already satisfied: python-dateutil>=2.7 in /opt/conda/lib/python3.7/site-packages (from matplotlib>=2.2.3->phik) (2.8.1)\r\n",
      "Requirement already satisfied: six in /opt/conda/lib/python3.7/site-packages (from cycler>=0.10->matplotlib>=2.2.3->phik) (1.15.0)\r\n",
      "Requirement already satisfied: llvmlite<0.36,>=0.35.0 in /opt/conda/lib/python3.7/site-packages (from numba>=0.38.1->phik) (0.35.0)\r\n",
      "Requirement already satisfied: setuptools in /opt/conda/lib/python3.7/site-packages (from numba>=0.38.1->phik) (49.6.0.post20210108)\r\n",
      "Requirement already satisfied: pytz>=2017.3 in /opt/conda/lib/python3.7/site-packages (from pandas>=0.23.4->phik) (2021.1)\r\n",
      "Collecting prince\r\n",
      "  Downloading prince-0.7.1-py3-none-any.whl (21 kB)\r\n",
      "Requirement already satisfied: scikit-learn>=0.22.1 in /opt/conda/lib/python3.7/site-packages (from prince) (0.24.1)\r\n",
      "Requirement already satisfied: matplotlib>=3.0.2 in /opt/conda/lib/python3.7/site-packages (from prince) (3.4.0)\r\n",
      "Requirement already satisfied: pandas>=1.0.3 in /opt/conda/lib/python3.7/site-packages (from prince) (1.2.2)\r\n",
      "Requirement already satisfied: numpy>=1.17.1 in /opt/conda/lib/python3.7/site-packages (from prince) (1.19.5)\r\n",
      "Requirement already satisfied: scipy>=1.3.0 in /opt/conda/lib/python3.7/site-packages (from prince) (1.5.4)\r\n",
      "Requirement already satisfied: python-dateutil>=2.7 in /opt/conda/lib/python3.7/site-packages (from matplotlib>=3.0.2->prince) (2.8.1)\r\n",
      "Requirement already satisfied: kiwisolver>=1.0.1 in /opt/conda/lib/python3.7/site-packages (from matplotlib>=3.0.2->prince) (1.3.1)\r\n",
      "Requirement already satisfied: pyparsing>=2.2.1 in /opt/conda/lib/python3.7/site-packages (from matplotlib>=3.0.2->prince) (2.4.7)\r\n",
      "Requirement already satisfied: pillow>=6.2.0 in /opt/conda/lib/python3.7/site-packages (from matplotlib>=3.0.2->prince) (7.2.0)\r\n",
      "Requirement already satisfied: cycler>=0.10 in /opt/conda/lib/python3.7/site-packages (from matplotlib>=3.0.2->prince) (0.10.0)\r\n",
      "Requirement already satisfied: six in /opt/conda/lib/python3.7/site-packages (from cycler>=0.10->matplotlib>=3.0.2->prince) (1.15.0)\r\n",
      "Requirement already satisfied: pytz>=2017.3 in /opt/conda/lib/python3.7/site-packages (from pandas>=1.0.3->prince) (2021.1)\r\n",
      "Requirement already satisfied: joblib>=0.11 in /opt/conda/lib/python3.7/site-packages (from scikit-learn>=0.22.1->prince) (1.0.1)\r\n",
      "Requirement already satisfied: threadpoolctl>=2.0.0 in /opt/conda/lib/python3.7/site-packages (from scikit-learn>=0.22.1->prince) (2.1.0)\r\n",
      "Installing collected packages: prince\r\n",
      "Successfully installed prince-0.7.1\r\n"
     ]
    }
   ],
   "source": [
    "!pip install phik\n",
    "!pip install prince\n",
    "import matplotlib.pyplot as plt\n",
    "import seaborn as sns \n",
    "sns.set(style=\"ticks\", color_codes=True)\n",
    "from sklearn.model_selection import train_test_split\n",
    "import xgboost as xgb\n",
    "from sklearn.metrics import confusion_matrix\n",
    "from sklearn.metrics import accuracy_score\n",
    "from sklearn.metrics import f1_score, recall_score, precision_score, roc_auc_score\n",
    "from imblearn.over_sampling import SMOTE\n",
    "from imblearn.under_sampling import RandomUnderSampler\n",
    "from imblearn.combine import SMOTEENN\n",
    "from imblearn.combine import SMOTETomek\n",
    "from imblearn.over_sampling import RandomOverSampler\n",
    "from sklearn.model_selection import GridSearchCV\n",
    "from sklearn.gaussian_process.kernels import RBF\n",
    "from sklearn.gaussian_process import GaussianProcessClassifier\n",
    "from sklearn.feature_selection import SelectKBest\n",
    "from sklearn.feature_selection import chi2, f_classif\n",
    "from sklearn.preprocessing import OrdinalEncoder,OneHotEncoder\n",
    "from sklearn.feature_selection import RFE\n",
    "from sklearn.ensemble import RandomForestClassifier\n",
    "from sklearn.decomposition import PCA\n",
    "from sklearn.preprocessing import MinMaxScaler\n",
    "import phik\n",
    "from phik import resources, report\n",
    "import prince"
   ]
  },
  {
   "cell_type": "markdown",
   "id": "precise-advantage",
   "metadata": {
    "papermill": {
     "duration": 0.049068,
     "end_time": "2021-05-02T10:35:29.507996",
     "exception": false,
     "start_time": "2021-05-02T10:35:29.458928",
     "status": "completed"
    },
    "tags": []
   },
   "source": [
    "## Visit the [dashboard](https://stroke-risk-factors.herokuapp.com) allowing you to interactively explore the stroke risk factors "
   ]
  },
  {
   "cell_type": "markdown",
   "id": "sublime-intent",
   "metadata": {
    "papermill": {
     "duration": 0.048595,
     "end_time": "2021-05-02T10:35:29.606876",
     "exception": false,
     "start_time": "2021-05-02T10:35:29.558281",
     "status": "completed"
    },
    "tags": []
   },
   "source": [
    "## Introduction\n",
    "\n",
    "***\n",
    "\n",
    "In what follows, I will analyze the [Stroke Prediction Dataset](https://www.kaggle.com/fedesoriano/stroke-prediction-dataset) containing relevant information about ~5k patients. The aim of this study is to check whether, given a set of features describing the health status of the patient, it is possible to predict a stroke event.   \n",
    "\n",
    "The complete list of attributes includes 12 features which are listed below:\n",
    "\n",
    "1. id: unique identifier\n",
    "2. gender: \"Male\", \"Female\" or \"Other\"\n",
    "3. age: age of the patient\n",
    "4. hypertension: 0 if the patient doesn't have hypertension, 1 if the patient has hypertension\n",
    "5. heart_disease: 0 if the patient doesn't have any heart diseases, 1 if the patient has a heart disease\n",
    "6. ever_married: \"No\" or \"Yes\"\n",
    "7. work_type: \"children\", \"Govt_jov\", \"Never_worked\", \"Private\" or \"Self-employed\"\n",
    "8. Residence_type: \"Rural\" or \"Urban\"\n",
    "9. avg_glucose_level: average glucose level in blood\n",
    "10. bmi: body mass index\n",
    "11. smoking_status: \"formerly smoked\", \"never smoked\", \"smokes\" or \"Unknown\"*\n",
    "12. stroke: 1 if the patient had a stroke or 0 if not\n",
    "\n",
    "***\n",
    "\n",
    "## Index\n",
    "\n",
    "The notebook has been structured as follows:\n",
    "\n",
    "1. [Read the dataset and get familiar with the data](#1.-Read-the-dataset-and-get-familiar-with-the-data)\n",
    "    1. [Feature engineering](#1.A-Feature-engineering)\n",
    "2. [Data visualization](#2.-Data-visualization)\n",
    "    1. [Distributions](#2.1-Distributions)\n",
    "    2. [Study of the correlation matrix](#2.2-Study-of-the-correlation-matrix)\n",
    "3. [Testing resampling techniques with XGBoost binary classifier](#3.-Testing-resampling-techniques-with-XGBoost-binary-classifier)\n",
    "    1. [Hyperparameters tuning with GridSearchCV](#3.1-Hyperparameters-tuning-with-GridSearchCV)\n",
    "4. [Dimensionality reduction](#4.-Dimensionality-reduction)\n",
    "    1. [Univariate analysis](#4.A-Univariate-analysis)\n",
    "    2. <a href=\"#4.B-Recursive-feature-elimination-(RFE)-with-random-forestt\">Recursive feature elimination (RFE) with random forest</a>\n",
    "    3. <a href=\"#4.C-RFE-with-Cross-Validation-(RFECV)-with-random-forest\">RFE with Cross Validation (RFECV) with xgboost</a>\n",
    "    4. <a href=\"#4.D-Factor-Analysis-of-Mixed-Data-(FAMD)-for-feature-extraction\">Factor Analysis of Mixed Data (FAMD) for feature extraction</a>"
   ]
  },
  {
   "cell_type": "markdown",
   "id": "instant-controversy",
   "metadata": {
    "papermill": {
     "duration": 0.051854,
     "end_time": "2021-05-02T10:35:29.707435",
     "exception": false,
     "start_time": "2021-05-02T10:35:29.655581",
     "status": "completed"
    },
    "tags": []
   },
   "source": [
    "## 1. Read the dataset and get familiar with the data\n",
    "### 1.A Feature engineering\n",
    "The dataset includes the data for 5110 patients, each one being associated with a unique ID which is not a relevant feature for the analysis presented here. There are 8 categorical features:   `gender`,`hypertension`,`heart_disease`,`ever_married`,`work_type`,`residence_type`,`smoking status`,`stroke`,  \n",
    "and 3 non-categorical (discrete or continuous) features  \n",
    "`age`,`avg_glucose_level` and `bmi`.\n",
    "\n",
    "The `stroke` feature will be the target variable we aim to predict. "
   ]
  },
  {
   "cell_type": "code",
   "execution_count": 3,
   "id": "occupied-venice",
   "metadata": {
    "execution": {
     "iopub.execute_input": "2021-05-02T10:35:29.809832Z",
     "iopub.status.busy": "2021-05-02T10:35:29.809052Z",
     "iopub.status.idle": "2021-05-02T10:35:29.874258Z",
     "shell.execute_reply": "2021-05-02T10:35:29.873643Z"
    },
    "papermill": {
     "duration": 0.117801,
     "end_time": "2021-05-02T10:35:29.874415",
     "exception": false,
     "start_time": "2021-05-02T10:35:29.756614",
     "status": "completed"
    },
    "tags": []
   },
   "outputs": [
    {
     "data": {
      "text/html": [
       "<div>\n",
       "<style scoped>\n",
       "    .dataframe tbody tr th:only-of-type {\n",
       "        vertical-align: middle;\n",
       "    }\n",
       "\n",
       "    .dataframe tbody tr th {\n",
       "        vertical-align: top;\n",
       "    }\n",
       "\n",
       "    .dataframe thead th {\n",
       "        text-align: right;\n",
       "    }\n",
       "</style>\n",
       "<table border=\"1\" class=\"dataframe\">\n",
       "  <thead>\n",
       "    <tr style=\"text-align: right;\">\n",
       "      <th></th>\n",
       "      <th>id</th>\n",
       "      <th>gender</th>\n",
       "      <th>age</th>\n",
       "      <th>hypertension</th>\n",
       "      <th>heart_disease</th>\n",
       "      <th>ever_married</th>\n",
       "      <th>work_type</th>\n",
       "      <th>Residence_type</th>\n",
       "      <th>avg_glucose_level</th>\n",
       "      <th>bmi</th>\n",
       "      <th>smoking_status</th>\n",
       "      <th>stroke</th>\n",
       "    </tr>\n",
       "  </thead>\n",
       "  <tbody>\n",
       "    <tr>\n",
       "      <th>0</th>\n",
       "      <td>9046</td>\n",
       "      <td>Male</td>\n",
       "      <td>67.0</td>\n",
       "      <td>0</td>\n",
       "      <td>1</td>\n",
       "      <td>Yes</td>\n",
       "      <td>Private</td>\n",
       "      <td>Urban</td>\n",
       "      <td>228.69</td>\n",
       "      <td>36.6</td>\n",
       "      <td>formerly smoked</td>\n",
       "      <td>1</td>\n",
       "    </tr>\n",
       "    <tr>\n",
       "      <th>1</th>\n",
       "      <td>51676</td>\n",
       "      <td>Female</td>\n",
       "      <td>61.0</td>\n",
       "      <td>0</td>\n",
       "      <td>0</td>\n",
       "      <td>Yes</td>\n",
       "      <td>Self-employed</td>\n",
       "      <td>Rural</td>\n",
       "      <td>202.21</td>\n",
       "      <td>NaN</td>\n",
       "      <td>never smoked</td>\n",
       "      <td>1</td>\n",
       "    </tr>\n",
       "    <tr>\n",
       "      <th>2</th>\n",
       "      <td>31112</td>\n",
       "      <td>Male</td>\n",
       "      <td>80.0</td>\n",
       "      <td>0</td>\n",
       "      <td>1</td>\n",
       "      <td>Yes</td>\n",
       "      <td>Private</td>\n",
       "      <td>Rural</td>\n",
       "      <td>105.92</td>\n",
       "      <td>32.5</td>\n",
       "      <td>never smoked</td>\n",
       "      <td>1</td>\n",
       "    </tr>\n",
       "    <tr>\n",
       "      <th>3</th>\n",
       "      <td>60182</td>\n",
       "      <td>Female</td>\n",
       "      <td>49.0</td>\n",
       "      <td>0</td>\n",
       "      <td>0</td>\n",
       "      <td>Yes</td>\n",
       "      <td>Private</td>\n",
       "      <td>Urban</td>\n",
       "      <td>171.23</td>\n",
       "      <td>34.4</td>\n",
       "      <td>smokes</td>\n",
       "      <td>1</td>\n",
       "    </tr>\n",
       "    <tr>\n",
       "      <th>4</th>\n",
       "      <td>1665</td>\n",
       "      <td>Female</td>\n",
       "      <td>79.0</td>\n",
       "      <td>1</td>\n",
       "      <td>0</td>\n",
       "      <td>Yes</td>\n",
       "      <td>Self-employed</td>\n",
       "      <td>Rural</td>\n",
       "      <td>174.12</td>\n",
       "      <td>24.0</td>\n",
       "      <td>never smoked</td>\n",
       "      <td>1</td>\n",
       "    </tr>\n",
       "  </tbody>\n",
       "</table>\n",
       "</div>"
      ],
      "text/plain": [
       "      id  gender   age  hypertension  heart_disease ever_married  \\\n",
       "0   9046    Male  67.0             0              1          Yes   \n",
       "1  51676  Female  61.0             0              0          Yes   \n",
       "2  31112    Male  80.0             0              1          Yes   \n",
       "3  60182  Female  49.0             0              0          Yes   \n",
       "4   1665  Female  79.0             1              0          Yes   \n",
       "\n",
       "       work_type Residence_type  avg_glucose_level   bmi   smoking_status  \\\n",
       "0        Private          Urban             228.69  36.6  formerly smoked   \n",
       "1  Self-employed          Rural             202.21   NaN     never smoked   \n",
       "2        Private          Rural             105.92  32.5     never smoked   \n",
       "3        Private          Urban             171.23  34.4           smokes   \n",
       "4  Self-employed          Rural             174.12  24.0     never smoked   \n",
       "\n",
       "   stroke  \n",
       "0       1  \n",
       "1       1  \n",
       "2       1  \n",
       "3       1  \n",
       "4       1  "
      ]
     },
     "execution_count": 3,
     "metadata": {},
     "output_type": "execute_result"
    }
   ],
   "source": [
    "df = pd.read_csv('/kaggle/input/stroke-prediction-dataset/healthcare-dataset-stroke-data.csv')\n",
    "df.head()"
   ]
  },
  {
   "cell_type": "markdown",
   "id": "compliant-therapy",
   "metadata": {
    "papermill": {
     "duration": 0.048041,
     "end_time": "2021-05-02T10:35:29.970867",
     "exception": false,
     "start_time": "2021-05-02T10:35:29.922826",
     "status": "completed"
    },
    "tags": []
   },
   "source": [
    "#### Remove outliers\n",
    "The gender section can take three different values: 'Male', 'Female' and 'Other'. \n",
    "However, in the next line I check that there is just one patient in the category 'Other'. For this reson, since there is not a sufficiently high number of representatives in this category to perform a statistical analysis, I will drop the corresponding line. "
   ]
  },
  {
   "cell_type": "code",
   "execution_count": 4,
   "id": "demanding-morocco",
   "metadata": {
    "execution": {
     "iopub.execute_input": "2021-05-02T10:35:30.076351Z",
     "iopub.status.busy": "2021-05-02T10:35:30.075656Z",
     "iopub.status.idle": "2021-05-02T10:35:30.078693Z",
     "shell.execute_reply": "2021-05-02T10:35:30.079267Z"
    },
    "papermill": {
     "duration": 0.060059,
     "end_time": "2021-05-02T10:35:30.079460",
     "exception": false,
     "start_time": "2021-05-02T10:35:30.019401",
     "status": "completed"
    },
    "tags": []
   },
   "outputs": [
    {
     "name": "stdout",
     "output_type": "stream",
     "text": [
      "Number of occurrences 1 corresponding to 0.02% of the dataset\n"
     ]
    }
   ],
   "source": [
    "cond = df['gender']=='Other'\n",
    "occu = len(df['gender'][cond])\n",
    "print('Number of occurrences %d corresponding to %.2f%% of the dataset'%(occu, 100*(np.float64(occu)/len(df))))"
   ]
  },
  {
   "cell_type": "markdown",
   "id": "least-prefix",
   "metadata": {
    "papermill": {
     "duration": 0.049787,
     "end_time": "2021-05-02T10:35:30.179633",
     "exception": false,
     "start_time": "2021-05-02T10:35:30.129846",
     "status": "completed"
    },
    "tags": []
   },
   "source": [
    "Analogously, I will remove the rows corresponding to BMI>47, which are 117, with just 3 stroke occurencies."
   ]
  },
  {
   "cell_type": "code",
   "execution_count": 5,
   "id": "incomplete-german",
   "metadata": {
    "execution": {
     "iopub.execute_input": "2021-05-02T10:35:30.281823Z",
     "iopub.status.busy": "2021-05-02T10:35:30.281172Z",
     "iopub.status.idle": "2021-05-02T10:35:30.306458Z",
     "shell.execute_reply": "2021-05-02T10:35:30.306975Z"
    },
    "papermill": {
     "duration": 0.077939,
     "end_time": "2021-05-02T10:35:30.307151",
     "exception": false,
     "start_time": "2021-05-02T10:35:30.229212",
     "status": "completed"
    },
    "tags": []
   },
   "outputs": [
    {
     "name": "stdout",
     "output_type": "stream",
     "text": [
      "Number of occurrences of BMI>47 and stroke=1 3 corresponding to 0.06% of the dataset\n",
      "Number of occurrences of BMI>47 and stroke=0 114 corresponding to 2.23% of the dataset\n"
     ]
    }
   ],
   "source": [
    "cond = (df['bmi']>47) & (df['stroke']==1)\n",
    "occu = len(df['bmi'][cond])\n",
    "print('Number of occurrences of BMI>47 and stroke=1 %d corresponding to %.2f%% of the dataset'%(occu, 100*(np.float64(occu)/len(df))))\n",
    "\n",
    "cond = (df['bmi']>47) & (df['stroke']==0)\n",
    "occu = len(df['bmi'][cond])\n",
    "print('Number of occurrences of BMI>47 and stroke=0 %d corresponding to %.2f%% of the dataset'%(occu, 100*(np.float64(occu)/len(df))))"
   ]
  },
  {
   "cell_type": "markdown",
   "id": "breathing-increase",
   "metadata": {
    "papermill": {
     "duration": 0.049283,
     "end_time": "2021-05-02T10:35:30.405447",
     "exception": false,
     "start_time": "2021-05-02T10:35:30.356164",
     "status": "completed"
    },
    "tags": []
   },
   "source": [
    "The same apply to average glucose level < 57, with 81 rows and just 1 occurrence of stroke."
   ]
  },
  {
   "cell_type": "code",
   "execution_count": 6,
   "id": "popular-pepper",
   "metadata": {
    "execution": {
     "iopub.execute_input": "2021-05-02T10:35:30.512802Z",
     "iopub.status.busy": "2021-05-02T10:35:30.512136Z",
     "iopub.status.idle": "2021-05-02T10:35:30.517807Z",
     "shell.execute_reply": "2021-05-02T10:35:30.518375Z"
    },
    "papermill": {
     "duration": 0.063822,
     "end_time": "2021-05-02T10:35:30.518646",
     "exception": false,
     "start_time": "2021-05-02T10:35:30.454824",
     "status": "completed"
    },
    "tags": []
   },
   "outputs": [
    {
     "name": "stdout",
     "output_type": "stream",
     "text": [
      "Number of occurrences of average glucose level <57 and stroke=1 1 corresponding to 0.02% of the dataset\n",
      "Number of occurrences of average glucose level <57 and stroke=0 80 corresponding to 1.57% of the dataset\n"
     ]
    }
   ],
   "source": [
    "cond = (df['avg_glucose_level']<57) & (df['stroke']==1)\n",
    "occu = len(df['avg_glucose_level'][cond])\n",
    "print('Number of occurrences of average glucose level <57 and stroke=1 %d corresponding to %.2f%% of the dataset'%(occu, 100*(np.float64(occu)/len(df))))\n",
    "\n",
    "cond = (df['avg_glucose_level']<57) & (df['stroke']==0)\n",
    "occu = len(df['avg_glucose_level'][cond])\n",
    "print('Number of occurrences of average glucose level <57 and stroke=0 %d corresponding to %.2f%% of the dataset'%(occu, 100*(np.float64(occu)/len(df))))"
   ]
  },
  {
   "cell_type": "code",
   "execution_count": 7,
   "id": "invisible-colony",
   "metadata": {
    "_kg_hide-input": false,
    "execution": {
     "iopub.execute_input": "2021-05-02T10:35:30.621802Z",
     "iopub.status.busy": "2021-05-02T10:35:30.621024Z",
     "iopub.status.idle": "2021-05-02T10:35:30.639276Z",
     "shell.execute_reply": "2021-05-02T10:35:30.638744Z"
    },
    "papermill": {
     "duration": 0.070961,
     "end_time": "2021-05-02T10:35:30.639454",
     "exception": false,
     "start_time": "2021-05-02T10:35:30.568493",
     "status": "completed"
    },
    "tags": []
   },
   "outputs": [],
   "source": [
    "df.drop(df[df['gender']=='Other'].index,inplace=True)\n",
    "df.drop(['id'],axis=1,inplace=True)\n",
    "df.drop(df[df['avg_glucose_level']<57].index,inplace=True)\n",
    "df.drop(df[df['bmi']>47].index,inplace=True)"
   ]
  },
  {
   "cell_type": "code",
   "execution_count": 8,
   "id": "renewable-consensus",
   "metadata": {
    "execution": {
     "iopub.execute_input": "2021-05-02T10:35:30.751291Z",
     "iopub.status.busy": "2021-05-02T10:35:30.750588Z",
     "iopub.status.idle": "2021-05-02T10:35:30.753709Z",
     "shell.execute_reply": "2021-05-02T10:35:30.754143Z"
    },
    "papermill": {
     "duration": 0.064636,
     "end_time": "2021-05-02T10:35:30.754313",
     "exception": false,
     "start_time": "2021-05-02T10:35:30.689677",
     "status": "completed"
    },
    "tags": []
   },
   "outputs": [
    {
     "data": {
      "text/plain": [
       "gender                 0\n",
       "age                    0\n",
       "hypertension           0\n",
       "heart_disease          0\n",
       "ever_married           0\n",
       "work_type              0\n",
       "Residence_type         0\n",
       "avg_glucose_level      0\n",
       "bmi                  201\n",
       "smoking_status         0\n",
       "stroke                 0\n",
       "dtype: int64"
      ]
     },
     "execution_count": 8,
     "metadata": {},
     "output_type": "execute_result"
    }
   ],
   "source": [
    "df.isnull().sum()"
   ]
  },
  {
   "cell_type": "markdown",
   "id": "alone-replacement",
   "metadata": {
    "papermill": {
     "duration": 0.050896,
     "end_time": "2021-05-02T10:35:30.855454",
     "exception": false,
     "start_time": "2021-05-02T10:35:30.804558",
     "status": "completed"
    },
    "tags": []
   },
   "source": [
    "There are 201 NaNs values in the bmi field, for this reason I will employ the [nearest neighbors](https://scikit-learn.org/stable/modules/generated/sklearn.impute.KNNImputer.html#sklearn.impute.KNNImputer) imputation provided by the scikit-learn library."
   ]
  },
  {
   "cell_type": "code",
   "execution_count": 9,
   "id": "guided-toner",
   "metadata": {
    "execution": {
     "iopub.execute_input": "2021-05-02T10:35:30.960016Z",
     "iopub.status.busy": "2021-05-02T10:35:30.959251Z",
     "iopub.status.idle": "2021-05-02T10:35:31.049225Z",
     "shell.execute_reply": "2021-05-02T10:35:31.050105Z"
    },
    "papermill": {
     "duration": 0.144013,
     "end_time": "2021-05-02T10:35:31.050395",
     "exception": false,
     "start_time": "2021-05-02T10:35:30.906382",
     "status": "completed"
    },
    "tags": []
   },
   "outputs": [],
   "source": [
    "from sklearn.impute import KNNImputer\n",
    "imp = KNNImputer(missing_values=np.NaN)\n",
    "df.bmi = imp.fit_transform(df['bmi'].values.reshape(-1,1))[:,0]"
   ]
  },
  {
   "cell_type": "markdown",
   "id": "growing-thanks",
   "metadata": {
    "papermill": {
     "duration": 0.050916,
     "end_time": "2021-05-02T10:35:31.179987",
     "exception": false,
     "start_time": "2021-05-02T10:35:31.129071",
     "status": "completed"
    },
    "tags": []
   },
   "source": [
    "Encoding the categorical variables with the [sklearn ordinal encoder](https://scikit-learn.org/stable/modules/generated/sklearn.preprocessing.OrdinalEncoder.html#sklearn.preprocessing.OrdinalEncoder) for computing the correlation between features. However, given that there is no intrinsic order among the categories in each feature, [one-hot encoding](https://scikit-learn.org/stable/modules/generated/sklearn.preprocessing.OneHotEncoder.html#sklearn.preprocessing.OneHotEncoder) is more suitable for this task.\n",
    "\n",
    "Many other algorithms can be tested. In particular, there is [a very interesting package](http://contrib.scikit-learn.org/category_encoders/index.html#) including many encoding algorithms.\n"
   ]
  },
  {
   "cell_type": "code",
   "execution_count": 10,
   "id": "adopted-solid",
   "metadata": {
    "execution": {
     "iopub.execute_input": "2021-05-02T10:35:31.301779Z",
     "iopub.status.busy": "2021-05-02T10:35:31.301113Z",
     "iopub.status.idle": "2021-05-02T10:35:31.329878Z",
     "shell.execute_reply": "2021-05-02T10:35:31.330499Z"
    },
    "papermill": {
     "duration": 0.100336,
     "end_time": "2021-05-02T10:35:31.330690",
     "exception": false,
     "start_time": "2021-05-02T10:35:31.230354",
     "status": "completed"
    },
    "tags": []
   },
   "outputs": [],
   "source": [
    "categ_feat = ['gender','Residence_type','work_type','ever_married','smoking_status']\n",
    "encoder = OrdinalEncoder()\n",
    "result = encoder.fit_transform(df[categ_feat])\n",
    "df_ordinal = df.copy()\n",
    "df_ordinal[categ_feat] = result\n",
    "\n",
    "\n",
    "dummies = pd.get_dummies(df[categ_feat],drop_first=True )\n",
    "df_tmp = df.drop(categ_feat, axis = 1)\n",
    "df_one_hot = pd.concat([df_tmp,dummies],axis=1)"
   ]
  },
  {
   "cell_type": "code",
   "execution_count": 11,
   "id": "first-trick",
   "metadata": {
    "execution": {
     "iopub.execute_input": "2021-05-02T10:35:31.434976Z",
     "iopub.status.busy": "2021-05-02T10:35:31.434384Z",
     "iopub.status.idle": "2021-05-02T10:35:31.451406Z",
     "shell.execute_reply": "2021-05-02T10:35:31.450889Z"
    },
    "papermill": {
     "duration": 0.070776,
     "end_time": "2021-05-02T10:35:31.451547",
     "exception": false,
     "start_time": "2021-05-02T10:35:31.380771",
     "status": "completed"
    },
    "tags": []
   },
   "outputs": [
    {
     "data": {
      "text/html": [
       "<div>\n",
       "<style scoped>\n",
       "    .dataframe tbody tr th:only-of-type {\n",
       "        vertical-align: middle;\n",
       "    }\n",
       "\n",
       "    .dataframe tbody tr th {\n",
       "        vertical-align: top;\n",
       "    }\n",
       "\n",
       "    .dataframe thead th {\n",
       "        text-align: right;\n",
       "    }\n",
       "</style>\n",
       "<table border=\"1\" class=\"dataframe\">\n",
       "  <thead>\n",
       "    <tr style=\"text-align: right;\">\n",
       "      <th></th>\n",
       "      <th>age</th>\n",
       "      <th>hypertension</th>\n",
       "      <th>heart_disease</th>\n",
       "      <th>avg_glucose_level</th>\n",
       "      <th>bmi</th>\n",
       "      <th>stroke</th>\n",
       "      <th>gender_Male</th>\n",
       "      <th>Residence_type_Urban</th>\n",
       "      <th>work_type_Never_worked</th>\n",
       "      <th>work_type_Private</th>\n",
       "      <th>work_type_Self-employed</th>\n",
       "      <th>work_type_children</th>\n",
       "      <th>ever_married_Yes</th>\n",
       "      <th>smoking_status_formerly smoked</th>\n",
       "      <th>smoking_status_never smoked</th>\n",
       "      <th>smoking_status_smokes</th>\n",
       "    </tr>\n",
       "  </thead>\n",
       "  <tbody>\n",
       "    <tr>\n",
       "      <th>0</th>\n",
       "      <td>67.0</td>\n",
       "      <td>0</td>\n",
       "      <td>1</td>\n",
       "      <td>228.69</td>\n",
       "      <td>36.600000</td>\n",
       "      <td>1</td>\n",
       "      <td>1</td>\n",
       "      <td>1</td>\n",
       "      <td>0</td>\n",
       "      <td>1</td>\n",
       "      <td>0</td>\n",
       "      <td>0</td>\n",
       "      <td>1</td>\n",
       "      <td>1</td>\n",
       "      <td>0</td>\n",
       "      <td>0</td>\n",
       "    </tr>\n",
       "    <tr>\n",
       "      <th>1</th>\n",
       "      <td>61.0</td>\n",
       "      <td>0</td>\n",
       "      <td>0</td>\n",
       "      <td>202.21</td>\n",
       "      <td>28.319482</td>\n",
       "      <td>1</td>\n",
       "      <td>0</td>\n",
       "      <td>0</td>\n",
       "      <td>0</td>\n",
       "      <td>0</td>\n",
       "      <td>1</td>\n",
       "      <td>0</td>\n",
       "      <td>1</td>\n",
       "      <td>0</td>\n",
       "      <td>1</td>\n",
       "      <td>0</td>\n",
       "    </tr>\n",
       "    <tr>\n",
       "      <th>2</th>\n",
       "      <td>80.0</td>\n",
       "      <td>0</td>\n",
       "      <td>1</td>\n",
       "      <td>105.92</td>\n",
       "      <td>32.500000</td>\n",
       "      <td>1</td>\n",
       "      <td>1</td>\n",
       "      <td>0</td>\n",
       "      <td>0</td>\n",
       "      <td>1</td>\n",
       "      <td>0</td>\n",
       "      <td>0</td>\n",
       "      <td>1</td>\n",
       "      <td>0</td>\n",
       "      <td>1</td>\n",
       "      <td>0</td>\n",
       "    </tr>\n",
       "    <tr>\n",
       "      <th>3</th>\n",
       "      <td>49.0</td>\n",
       "      <td>0</td>\n",
       "      <td>0</td>\n",
       "      <td>171.23</td>\n",
       "      <td>34.400000</td>\n",
       "      <td>1</td>\n",
       "      <td>0</td>\n",
       "      <td>1</td>\n",
       "      <td>0</td>\n",
       "      <td>1</td>\n",
       "      <td>0</td>\n",
       "      <td>0</td>\n",
       "      <td>1</td>\n",
       "      <td>0</td>\n",
       "      <td>0</td>\n",
       "      <td>1</td>\n",
       "    </tr>\n",
       "    <tr>\n",
       "      <th>4</th>\n",
       "      <td>79.0</td>\n",
       "      <td>1</td>\n",
       "      <td>0</td>\n",
       "      <td>174.12</td>\n",
       "      <td>24.000000</td>\n",
       "      <td>1</td>\n",
       "      <td>0</td>\n",
       "      <td>0</td>\n",
       "      <td>0</td>\n",
       "      <td>0</td>\n",
       "      <td>1</td>\n",
       "      <td>0</td>\n",
       "      <td>1</td>\n",
       "      <td>0</td>\n",
       "      <td>1</td>\n",
       "      <td>0</td>\n",
       "    </tr>\n",
       "  </tbody>\n",
       "</table>\n",
       "</div>"
      ],
      "text/plain": [
       "    age  hypertension  heart_disease  avg_glucose_level        bmi  stroke  \\\n",
       "0  67.0             0              1             228.69  36.600000       1   \n",
       "1  61.0             0              0             202.21  28.319482       1   \n",
       "2  80.0             0              1             105.92  32.500000       1   \n",
       "3  49.0             0              0             171.23  34.400000       1   \n",
       "4  79.0             1              0             174.12  24.000000       1   \n",
       "\n",
       "   gender_Male  Residence_type_Urban  work_type_Never_worked  \\\n",
       "0            1                     1                       0   \n",
       "1            0                     0                       0   \n",
       "2            1                     0                       0   \n",
       "3            0                     1                       0   \n",
       "4            0                     0                       0   \n",
       "\n",
       "   work_type_Private  work_type_Self-employed  work_type_children  \\\n",
       "0                  1                        0                   0   \n",
       "1                  0                        1                   0   \n",
       "2                  1                        0                   0   \n",
       "3                  1                        0                   0   \n",
       "4                  0                        1                   0   \n",
       "\n",
       "   ever_married_Yes  smoking_status_formerly smoked  \\\n",
       "0                 1                               1   \n",
       "1                 1                               0   \n",
       "2                 1                               0   \n",
       "3                 1                               0   \n",
       "4                 1                               0   \n",
       "\n",
       "   smoking_status_never smoked  smoking_status_smokes  \n",
       "0                            0                      0  \n",
       "1                            1                      0  \n",
       "2                            1                      0  \n",
       "3                            0                      1  \n",
       "4                            1                      0  "
      ]
     },
     "execution_count": 11,
     "metadata": {},
     "output_type": "execute_result"
    }
   ],
   "source": [
    "df_one_hot.head()"
   ]
  },
  {
   "cell_type": "code",
   "execution_count": 12,
   "id": "weighted-coast",
   "metadata": {
    "_kg_hide-input": true,
    "execution": {
     "iopub.execute_input": "2021-05-02T10:35:31.558666Z",
     "iopub.status.busy": "2021-05-02T10:35:31.557804Z",
     "iopub.status.idle": "2021-05-02T10:35:31.560730Z",
     "shell.execute_reply": "2021-05-02T10:35:31.560170Z"
    },
    "papermill": {
     "duration": 0.05822,
     "end_time": "2021-05-02T10:35:31.560866",
     "exception": false,
     "start_time": "2021-05-02T10:35:31.502646",
     "status": "completed"
    },
    "tags": []
   },
   "outputs": [],
   "source": [
    "# df_cols = df_one_hot.columns\n",
    "\n",
    "# scaler = MinMaxScaler()\n",
    "# df_one_hot = pd.DataFrame(scaler.fit_transform(df_one_hot),columns=df_cols)\n",
    "# df_one_hot.head()"
   ]
  },
  {
   "cell_type": "markdown",
   "id": "substantial-spanish",
   "metadata": {
    "papermill": {
     "duration": 0.051458,
     "end_time": "2021-05-02T10:35:31.663765",
     "exception": false,
     "start_time": "2021-05-02T10:35:31.612307",
     "status": "completed"
    },
    "tags": []
   },
   "source": [
    "## 2. Data visualization\n",
    "Visit the [dashboard](https://stroke-risk-factors.herokuapp.com) allowing you to interactively explore the stroke risk factors.\n",
    "### 2.1 Distributions\n",
    "In this section, I will compare the distribution of the variables in the two subsets 'Stroke' and \"No Stroke'. If the distribution of a given feature matches in the two sets within statistical uncertainties, then we can conclude that the selected feature is not correlated with the target. The results obtained in this section will be compared in Sec. 4 with the findings of the dimensionality reduction."
   ]
  },
  {
   "cell_type": "markdown",
   "id": "blind-officer",
   "metadata": {
    "papermill": {
     "duration": 0.050872,
     "end_time": "2021-05-02T10:35:31.765876",
     "exception": false,
     "start_time": "2021-05-02T10:35:31.715004",
     "status": "completed"
    },
    "tags": []
   },
   "source": [
    "Findings:\n",
    "1. From the plot below it is clear that age is one of the most important features in the dataset, being the distribution among patients who were subjected to stroke shifted towards higher values. In particular, the distribution of the subset 'Stroke' is strongly peaked around 80 years. \n",
    "2. **BMI** may have an impact on the probability to be subjected to stroke since the distribution of the subset 'Stroke' shows a smaller variance compared to the 'No Stroke' one.\n",
    "3. The distributions of the **average glucose level** show similar qualitative behavior in the two datasets. However, among the patients subjected to stroke is more common to have higher glucose levels (i.e. ~200).\n",
    "4. **Gender** seems not to be a predominant feature here, since no significant differences between the two distributions have been observed.\n",
    "5. **Hypertension** is a relevant feature, which is statistically more present among patients subjected to stroke.\n",
    "6. **Heart disease**, like hypertension, can be relevant.\n",
    "7. The feature **ever_married** shows a correlation with the target 'Stroke'. However, this can be explained from the correlation of this feature with the age, which we know is an important variable in this analysis. \n",
    "8. The **work type** shows a correlation with the target, which is however due to the presence of children in the sample. Thus, this feature is expected to be correlated with age.\n",
    "9. The distributions of the **residence type** show a mild asymmetry between the two datasets. However, this can be due to statistical fluctuations.\n",
    "10. Finally, the **smoking status** is correlated with the target. Indeed, there are fewer patients with 'unknown' smoking status in the dataset 'Stroke' in favor of the status 'formerly smoked'. \n"
   ]
  },
  {
   "cell_type": "code",
   "execution_count": 13,
   "id": "informed-merit",
   "metadata": {
    "_kg_hide-input": true,
    "execution": {
     "iopub.execute_input": "2021-05-02T10:35:31.872018Z",
     "iopub.status.busy": "2021-05-02T10:35:31.871364Z",
     "iopub.status.idle": "2021-05-02T10:35:34.019446Z",
     "shell.execute_reply": "2021-05-02T10:35:34.019987Z"
    },
    "papermill": {
     "duration": 2.203027,
     "end_time": "2021-05-02T10:35:34.020155",
     "exception": false,
     "start_time": "2021-05-02T10:35:31.817128",
     "status": "completed"
    },
    "tags": []
   },
   "outputs": [
    {
     "data": {
      "image/png": "[encoded data removed]",
      "text/plain": [
       "<Figure size 864x936 with 10 Axes>"
      ]
     },
     "metadata": {},
     "output_type": "display_data"
    }
   ],
   "source": [
    "sns.set_context(\"notebook\", font_scale=1.2, rc={\"lines.linewidth\": 2.5})\n",
    "fig = plt.figure(figsize=(12,13))\n",
    "gs = fig.add_gridspec(5, 2)\n",
    "gs.update(wspace=0.1, hspace=0.65)\n",
    "axes = []\n",
    "for j in range(10):\n",
    "    axes.append(fig.add_subplot(gs[int(j/2),j%2]))\n",
    "    \n",
    "#Feature 1: age\n",
    "sns.kdeplot(data=df, x=\"age\", hue=\"stroke\",\n",
    "   fill=True, common_norm=False, palette=\"rocket\",\n",
    "   alpha=.5, linewidth=0,ax=axes[0],cut=0,legend=False)\n",
    "axes[0].legend(loc='upper left',title='Stroke', labels = ['Yes','No'])\n",
    "\n",
    "\n",
    "#Feature 2: bmi\n",
    "sns.kdeplot(data=df, x=\"bmi\", hue=\"stroke\",\n",
    "   fill=True, common_norm=False, palette=\"rocket\",\n",
    "   alpha=.5, linewidth=0,ax=axes[1],legend=False,cut=0)\n",
    "\n",
    "\n",
    "\n",
    "\n",
    "#Feature 3: bmi\n",
    "sns.kdeplot(data=df, x=\"avg_glucose_level\", hue=\"stroke\",\n",
    "   fill=True, common_norm=False, palette=\"rocket\",\n",
    "   alpha=.5, linewidth=0,ax=axes[2],legend=False,cut=0)\n",
    "\n",
    "\n",
    "#Feature 4:gender\n",
    "sns.histplot(y='gender', hue=\"stroke\",\n",
    "            palette=\"rocket\",\n",
    "            data=df, ax=axes[3],stat='density',\n",
    "            common_norm=False,legend=False)\n",
    "\n",
    "#Feature 5:hypertension\n",
    "tmp_df = df.copy()\n",
    "tmp_df['hypertension'] = tmp_df['hypertension'].map(lambda x: {0:'No',1:'Yes'}[x])\n",
    "\n",
    "sns.histplot(y='hypertension', hue=\"stroke\",\n",
    "            palette=\"rocket\",\n",
    "            data=tmp_df, ax=axes[4],stat='density',\n",
    "            common_norm=False,legend=False)\n",
    "\n",
    "\n",
    "#Feature 6:heart_disease\n",
    "tmp_df = df.copy()\n",
    "tmp_df['heart_disease'] = tmp_df['heart_disease'].map(lambda x: {0:'No',1:'Yes'}[x])\n",
    "\n",
    "sns.histplot(y='heart_disease', hue=\"stroke\",\n",
    "            palette=\"rocket\",\n",
    "            data=tmp_df, ax=axes[5],stat='density',\n",
    "            common_norm=False,legend=False)\n",
    "\n",
    "for j,feat in enumerate(['ever_married','work_type','Residence_type','smoking_status']):\n",
    "    sns.histplot(y=feat, hue=\"stroke\",\n",
    "            palette=\"rocket\",\n",
    "            data=df, ax=axes[6+j],stat='density',\n",
    "            common_norm=False,legend=False)\n",
    "\n",
    "\n",
    "for j in range(10):\n",
    "    which_ax = ['bottom','right'] if j%2==0 else ['bottom','left']\n",
    "    for s in which_ax:\n",
    "        axes[j].spines[s].set_visible(False)\n",
    "    if(j%2==1):\n",
    "        axes[j].yaxis.tick_right()\n",
    "        axes[j].yaxis.set_label_position(\"right\")\n",
    "    axes[j].xaxis.tick_top()\n",
    "    axes[j].xaxis.set_label_position(\"top\")"
   ]
  },
  {
   "cell_type": "markdown",
   "id": "progressive-lawrence",
   "metadata": {
    "papermill": {
     "duration": 0.054756,
     "end_time": "2021-05-02T10:35:34.132845",
     "exception": false,
     "start_time": "2021-05-02T10:35:34.078089",
     "status": "completed"
    },
    "tags": []
   },
   "source": [
    "### 2.2 Study of the correlation matrix\n",
    "\n",
    "The dataset contains continuous and categorical variables. Moreover, the categorical variables can have from 2 (binary) possible values (Residence type) to 5 categories (Work type). Given these premises, we would need to define an inhomogeneous correlation matrix, by applying different correlation coefficients between different couples of variables. For instance, we could use the Pearson correlation coefficient with continuous-continuous variables, the point-biserial between continuos-binary variables and the [correlation ratio](https://en.wikipedia.org/wiki/Correlation_ratio) between categorical-categorical variables. However effective, this may have been misleading, since the comparison between the different correlation coefficients would be meaningless. Instead, I adopted a new method proposed in [this paper](https://www.sciencedirect.com/science/article/abs/pii/S0167947320301341) allowing to define a unique correlation coefficient for every couple of variables in the dataset. The method is implemented in the [Phi_K Correlation Analyzer Library](https://phik.readthedocs.io/en/latest/) in Python. The library can be easily installed through pip.\n",
    "\n",
    "Below I show the correlation matrix between the features. \n",
    "* In the first place, the 'stroke' feature is correlated (in reverse order of importance) with age, heart disease,hypertension, average glucose level, marital status, smoking status, work type, BMI.\n",
    "* However, as mentioned in [Sec. 2.1](#2.1-Distributions), the correlation with gender is negligible, as well as the one with the residence type. \n",
    "* Among the variables correlated with the target, many of them are strongly correlated with age. In particular the marital status, the work type, the bmi and smoking status have correlation coefficient greater than 0.3 with the age. For this reason it will be important to reduce the number of features."
   ]
  },
  {
   "cell_type": "code",
   "execution_count": 14,
   "id": "bridal-blues",
   "metadata": {
    "_kg_hide-input": true,
    "execution": {
     "iopub.execute_input": "2021-05-02T10:35:34.271040Z",
     "iopub.status.busy": "2021-05-02T10:35:34.270001Z",
     "iopub.status.idle": "2021-05-02T10:35:37.782409Z",
     "shell.execute_reply": "2021-05-02T10:35:37.781755Z"
    },
    "papermill": {
     "duration": 3.592594,
     "end_time": "2021-05-02T10:35:37.782549",
     "exception": false,
     "start_time": "2021-05-02T10:35:34.189955",
     "status": "completed"
    },
    "tags": []
   },
   "outputs": [
    {
     "name": "stdout",
     "output_type": "stream",
     "text": [
      "interval columns not set, guessing: ['gender', 'age', 'hypertension', 'heart_disease', 'ever_married', 'work_type', 'Residence_type', 'avg_glucose_level', 'bmi', 'smoking_status', 'stroke']\n"
     ]
    },
    {
     "data": {
      "image/png": "[encoded data removed]",
      "text/plain": [
       "<Figure size 864x720 with 2 Axes>"
      ]
     },
     "metadata": {},
     "output_type": "display_data"
    }
   ],
   "source": [
    "f,ax = plt.subplots(figsize=(12, 10))\n",
    "mask = np.triu(np.ones_like(df_ordinal.corr(), dtype=bool))\n",
    "sns.heatmap(df_ordinal.phik_matrix(),mask=mask, annot=True, linewidths=.5, fmt= '.2f',ax=ax)\n",
    "plt.show()"
   ]
  },
  {
   "cell_type": "markdown",
   "id": "surrounded-disorder",
   "metadata": {
    "papermill": {
     "duration": 0.059564,
     "end_time": "2021-05-02T10:35:37.901741",
     "exception": false,
     "start_time": "2021-05-02T10:35:37.842177",
     "status": "completed"
    },
    "tags": []
   },
   "source": [
    "## 3. Testing resampling techniques with XGBoost binary classifier\n",
    "The dataset is strongly imbalanced, just 5% of the patients were subjected to a stroke. For this reason, it is necessary to employ a **resampling** technique. All the algorithms employed here to tackle the issue are present in the [imblearn](https://imbalanced-learn.org/stable/) library. \n",
    "* In particular, I will employ some oversampling techniques (i.e. *SMOTE, Random oversampling*), one undersampling technique (i.e. Random undersampling) and some mixed algorithms (i.e. *SMOTE + ENN* and *SMOTE + Tomek links*).\n",
    "* The resampling algorithms will be tested with the XGBoost binary classifier.\n",
    "* All the resampling techniques will be employed **on the training set only**."
   ]
  },
  {
   "cell_type": "code",
   "execution_count": 15,
   "id": "fuzzy-emperor",
   "metadata": {
    "_kg_hide-input": true,
    "execution": {
     "iopub.execute_input": "2021-05-02T10:35:38.033187Z",
     "iopub.status.busy": "2021-05-02T10:35:38.032172Z",
     "iopub.status.idle": "2021-05-02T10:35:38.035781Z",
     "shell.execute_reply": "2021-05-02T10:35:38.036295Z"
    },
    "papermill": {
     "duration": 0.074557,
     "end_time": "2021-05-02T10:35:38.036499",
     "exception": false,
     "start_time": "2021-05-02T10:35:37.961942",
     "status": "completed"
    },
    "tags": []
   },
   "outputs": [],
   "source": [
    "def compute_score(y_train,y_test,y_train_p,y_test_p):\n",
    "    test_ac = accuracy_score(y_test,y_test_p)\n",
    "    train_ac = accuracy_score(y_train,y_train_p)\n",
    "    test_f1 = f1_score(y_test,y_test_p)\n",
    "    train_f1 = f1_score(y_train,y_train_p)\n",
    "\n",
    "    cmte = confusion_matrix(y_test,y_test_p)\n",
    "    \n",
    "    cmtr = confusion_matrix(y_train,y_train_p)\n",
    "        \n",
    "    d = {'Dataset':['Test','Train'],'F1':[test_f1,train_f1]}\n",
    "    d['Accuracy'] = [test_ac,train_ac]\n",
    "    d['Recall'] = [recall_score(y_test,y_test_p),recall_score(y_train,y_train_p)]\n",
    "    d['Precision'] = [precision_score(y_test,y_test_p),precision_score(y_train,y_train_p)]\n",
    "    d['ROC AUC'] = [roc_auc_score(y_test,y_test_p),roc_auc_score(y_train,y_train_p)]\n",
    "    d['False Positives (T-I)'] = [cmte[0,1],cmtr[0,1]]\n",
    "    d['False Negatives (T-II)'] = [cmte[1,0],cmtr[1,0]]\n",
    "    d['True Positives'] = [cmte[1,1],cmtr[1,1]]\n",
    "    d['True Negatives'] = [cmte[0,0],cmtr[0,0]]\n",
    "    \n",
    "    \n",
    "    \n",
    "    display(pd.DataFrame(d).head(2))"
   ]
  },
  {
   "cell_type": "code",
   "execution_count": 16,
   "id": "brown-morris",
   "metadata": {
    "_kg_hide-input": true,
    "execution": {
     "iopub.execute_input": "2021-05-02T10:35:38.168652Z",
     "iopub.status.busy": "2021-05-02T10:35:38.167931Z",
     "iopub.status.idle": "2021-05-02T10:35:38.171717Z",
     "shell.execute_reply": "2021-05-02T10:35:38.170911Z"
    },
    "papermill": {
     "duration": 0.074827,
     "end_time": "2021-05-02T10:35:38.171876",
     "exception": false,
     "start_time": "2021-05-02T10:35:38.097049",
     "status": "completed"
    },
    "tags": []
   },
   "outputs": [],
   "source": [
    "def plot_res(results):\n",
    "    epochs = len(results['validation_0']['error'])\n",
    "    x_axis = range(0, epochs)\n",
    "    fig = plt.figure(figsize=(6,4))\n",
    "    gs = fig.add_gridspec(1, 1)\n",
    "    gs.update(wspace=0.1, hspace=0.65)\n",
    "    ax = []\n",
    "    ax.append(fig.add_subplot(gs[0,0]))\n",
    "#     ax.append(fig.add_subplot(gs[0,1]))\n",
    "#     ax[0].plot(x_axis, results['validation_0']['f1'], label='Train',color='red')\n",
    "#     ax[0].plot(x_axis, results['validation_1']['f1'], label='Test',color='purple')\n",
    "    \n",
    "#     ax[0].legend()\n",
    "#     ax[0].set_ylabel(r'$F_1$ score')\n",
    "#     ax[0].set_title(r'XGBoost $F_1$')\n",
    "    \n",
    "    \n",
    "    ax[0].plot(x_axis, results['validation_0']['error'], label='Train',color='red')\n",
    "    ax[0].plot(x_axis, results['validation_1']['error'], label='Test',color='purple')\n",
    "    ax[0].set_ylabel('Error')\n",
    "    ax[0].set_title('XGBoost Error')\n",
    "    \n",
    "    ax[0].spines['right'].set_visible(False)\n",
    "    ax[0].spines['top'].set_visible(False)\n",
    "#     ax[1].spines['left'].set_visible(False)\n",
    "#     ax[1].spines['top'].set_visible(False)\n",
    "    \n",
    "#     ax[1].yaxis.tick_right()\n",
    "#     ax[1].yaxis.set_label_position(\"right\")\n",
    "    \n",
    "    plt.show()\n",
    "\n",
    "\n",
    "def f1_metric(predt: np.ndarray, dtrain: xgb.DMatrix, threshold=0.5):\n",
    "    '''F_1 score.'''\n",
    "    y = dtrain.get_label()\n",
    "    y_p = (predt > threshold).astype(int)\n",
    "    return 'f1', f1_score(y,y_p)"
   ]
  },
  {
   "cell_type": "code",
   "execution_count": 17,
   "id": "norwegian-effects",
   "metadata": {
    "execution": {
     "iopub.execute_input": "2021-05-02T10:35:38.306358Z",
     "iopub.status.busy": "2021-05-02T10:35:38.305580Z",
     "iopub.status.idle": "2021-05-02T10:35:38.313702Z",
     "shell.execute_reply": "2021-05-02T10:35:38.314165Z"
    },
    "papermill": {
     "duration": 0.080318,
     "end_time": "2021-05-02T10:35:38.314357",
     "exception": false,
     "start_time": "2021-05-02T10:35:38.234039",
     "status": "completed"
    },
    "tags": []
   },
   "outputs": [],
   "source": [
    "df_cols = list(df_one_hot.columns)\n",
    "df_cols.remove('stroke')\n",
    "\n",
    "x_train, x_test, y_train, y_test = train_test_split(df_one_hot.drop(['stroke'],axis=1)[df_cols], df['stroke'], \n",
    "                                                    test_size=0.25, random_state=42)\n",
    "\n",
    "pars_xgb = {'objective':'binary:logistic',\n",
    "            'random_state':7,\n",
    "            'scale_pos_weight':1,\n",
    "            'use_label_encoder':False,\n",
    "            'eval_metric':'error',\n",
    "            'learning_rate':0.01,\n",
    "            'colsample_bytree': 0.05,\n",
    "            'subsample': 0.8,\n",
    "            'n_estimators':2000, \n",
    "            'reg_alpha': 0.3,\n",
    "            'n_jobs':1,\n",
    "            'max_depth':10, \n",
    "            'gamma':10\n",
    "           }\n",
    "\n",
    "\n",
    "\n",
    "def test_resampling(resampling,x_train, x_test, y_train, y_test, cols = df_cols):\n",
    "    x_tmp, y_tmp = resampling.fit_resample(x_train, y_train)\n",
    "    x_train_tmp = pd.DataFrame(x_tmp,columns=cols)\n",
    "    y_train_tmp = pd.Series(y_tmp)\n",
    "    \n",
    "    clf_rf = xgb.XGBClassifier(**pars_xgb)\n",
    "    eval_set = [(x_train_tmp,y_train_tmp),(x_test,y_test)]\n",
    "    clr_rf = clf_rf.fit(x_train_tmp,y_train_tmp,eval_metric=f1_metric, \n",
    "                        eval_set=eval_set, verbose=False)\n",
    "\n",
    "\n",
    "    compute_score(y_train_tmp,y_test,clr_rf.predict(x_train_tmp),clr_rf.predict(x_test))\n",
    "\n",
    "    results = clr_rf.evals_result()\n",
    "    \n",
    "    plot_res(results)"
   ]
  },
  {
   "cell_type": "markdown",
   "id": "crucial-karen",
   "metadata": {
    "papermill": {
     "duration": 0.059727,
     "end_time": "2021-05-02T10:35:38.433990",
     "exception": false,
     "start_time": "2021-05-02T10:35:38.374263",
     "status": "completed"
    },
    "tags": []
   },
   "source": [
    "#### SMOTE"
   ]
  },
  {
   "cell_type": "code",
   "execution_count": 18,
   "id": "treated-ability",
   "metadata": {
    "execution": {
     "iopub.execute_input": "2021-05-02T10:35:38.557554Z",
     "iopub.status.busy": "2021-05-02T10:35:38.555437Z",
     "iopub.status.idle": "2021-05-02T10:35:54.021307Z",
     "shell.execute_reply": "2021-05-02T10:35:54.020748Z"
    },
    "papermill": {
     "duration": 15.529388,
     "end_time": "2021-05-02T10:35:54.021468",
     "exception": false,
     "start_time": "2021-05-02T10:35:38.492080",
     "status": "completed"
    },
    "tags": []
   },
   "outputs": [
    {
     "data": {
      "text/html": [
       "<div>\n",
       "<style scoped>\n",
       "    .dataframe tbody tr th:only-of-type {\n",
       "        vertical-align: middle;\n",
       "    }\n",
       "\n",
       "    .dataframe tbody tr th {\n",
       "        vertical-align: top;\n",
       "    }\n",
       "\n",
       "    .dataframe thead th {\n",
       "        text-align: right;\n",
       "    }\n",
       "</style>\n",
       "<table border=\"1\" class=\"dataframe\">\n",
       "  <thead>\n",
       "    <tr style=\"text-align: right;\">\n",
       "      <th></th>\n",
       "      <th>Dataset</th>\n",
       "      <th>F1</th>\n",
       "      <th>Accuracy</th>\n",
       "      <th>Recall</th>\n",
       "      <th>Precision</th>\n",
       "      <th>ROC AUC</th>\n",
       "      <th>False Positives (T-I)</th>\n",
       "      <th>False Negatives (T-II)</th>\n",
       "      <th>True Positives</th>\n",
       "      <th>True Negatives</th>\n",
       "    </tr>\n",
       "  </thead>\n",
       "  <tbody>\n",
       "    <tr>\n",
       "      <th>0</th>\n",
       "      <td>Test</td>\n",
       "      <td>0.195652</td>\n",
       "      <td>0.879577</td>\n",
       "      <td>0.243243</td>\n",
       "      <td>0.163636</td>\n",
       "      <td>0.581795</td>\n",
       "      <td>92</td>\n",
       "      <td>56</td>\n",
       "      <td>18</td>\n",
       "      <td>1063</td>\n",
       "    </tr>\n",
       "    <tr>\n",
       "      <th>1</th>\n",
       "      <td>Train</td>\n",
       "      <td>0.926864</td>\n",
       "      <td>0.926416</td>\n",
       "      <td>0.932536</td>\n",
       "      <td>0.921260</td>\n",
       "      <td>0.926416</td>\n",
       "      <td>280</td>\n",
       "      <td>237</td>\n",
       "      <td>3276</td>\n",
       "      <td>3233</td>\n",
       "    </tr>\n",
       "  </tbody>\n",
       "</table>\n",
       "</div>"
      ],
      "text/plain": [
       "  Dataset        F1  Accuracy    Recall  Precision   ROC AUC  \\\n",
       "0    Test  0.195652  0.879577  0.243243   0.163636  0.581795   \n",
       "1   Train  0.926864  0.926416  0.932536   0.921260  0.926416   \n",
       "\n",
       "   False Positives (T-I)  False Negatives (T-II)  True Positives  \\\n",
       "0                     92                      56              18   \n",
       "1                    280                     237            3276   \n",
       "\n",
       "   True Negatives  \n",
       "0            1063  \n",
       "1            3233  "
      ]
     },
     "metadata": {},
     "output_type": "display_data"
    },
    {
     "data": {
      "image/png": "[encoded data removed]",
      "text/plain": [
       "<Figure size 432x288 with 1 Axes>"
      ]
     },
     "metadata": {},
     "output_type": "display_data"
    }
   ],
   "source": [
    "resampling = SMOTE(random_state=18)\n",
    "test_resampling(resampling,x_train, x_test, y_train, y_test)"
   ]
  },
  {
   "cell_type": "markdown",
   "id": "indoor-killing",
   "metadata": {
    "papermill": {
     "duration": 0.059937,
     "end_time": "2021-05-02T10:35:54.142151",
     "exception": false,
     "start_time": "2021-05-02T10:35:54.082214",
     "status": "completed"
    },
    "tags": []
   },
   "source": [
    "#### SMOTE + ENN"
   ]
  },
  {
   "cell_type": "code",
   "execution_count": 19,
   "id": "acquired-genius",
   "metadata": {
    "execution": {
     "iopub.execute_input": "2021-05-02T10:35:54.268703Z",
     "iopub.status.busy": "2021-05-02T10:35:54.266193Z",
     "iopub.status.idle": "2021-05-02T10:36:08.252228Z",
     "shell.execute_reply": "2021-05-02T10:36:08.251564Z"
    },
    "papermill": {
     "duration": 14.050226,
     "end_time": "2021-05-02T10:36:08.252399",
     "exception": false,
     "start_time": "2021-05-02T10:35:54.202173",
     "status": "completed"
    },
    "tags": []
   },
   "outputs": [
    {
     "data": {
      "text/html": [
       "<div>\n",
       "<style scoped>\n",
       "    .dataframe tbody tr th:only-of-type {\n",
       "        vertical-align: middle;\n",
       "    }\n",
       "\n",
       "    .dataframe tbody tr th {\n",
       "        vertical-align: top;\n",
       "    }\n",
       "\n",
       "    .dataframe thead th {\n",
       "        text-align: right;\n",
       "    }\n",
       "</style>\n",
       "<table border=\"1\" class=\"dataframe\">\n",
       "  <thead>\n",
       "    <tr style=\"text-align: right;\">\n",
       "      <th></th>\n",
       "      <th>Dataset</th>\n",
       "      <th>F1</th>\n",
       "      <th>Accuracy</th>\n",
       "      <th>Recall</th>\n",
       "      <th>Precision</th>\n",
       "      <th>ROC AUC</th>\n",
       "      <th>False Positives (T-I)</th>\n",
       "      <th>False Negatives (T-II)</th>\n",
       "      <th>True Positives</th>\n",
       "      <th>True Negatives</th>\n",
       "    </tr>\n",
       "  </thead>\n",
       "  <tbody>\n",
       "    <tr>\n",
       "      <th>0</th>\n",
       "      <td>Test</td>\n",
       "      <td>0.279762</td>\n",
       "      <td>0.803092</td>\n",
       "      <td>0.635135</td>\n",
       "      <td>0.179389</td>\n",
       "      <td>0.724494</td>\n",
       "      <td>215</td>\n",
       "      <td>27</td>\n",
       "      <td>47</td>\n",
       "      <td>940</td>\n",
       "    </tr>\n",
       "    <tr>\n",
       "      <th>1</th>\n",
       "      <td>Train</td>\n",
       "      <td>0.948416</td>\n",
       "      <td>0.941227</td>\n",
       "      <td>0.969174</td>\n",
       "      <td>0.928529</td>\n",
       "      <td>0.937597</td>\n",
       "      <td>242</td>\n",
       "      <td>100</td>\n",
       "      <td>3144</td>\n",
       "      <td>2333</td>\n",
       "    </tr>\n",
       "  </tbody>\n",
       "</table>\n",
       "</div>"
      ],
      "text/plain": [
       "  Dataset        F1  Accuracy    Recall  Precision   ROC AUC  \\\n",
       "0    Test  0.279762  0.803092  0.635135   0.179389  0.724494   \n",
       "1   Train  0.948416  0.941227  0.969174   0.928529  0.937597   \n",
       "\n",
       "   False Positives (T-I)  False Negatives (T-II)  True Positives  \\\n",
       "0                    215                      27              47   \n",
       "1                    242                     100            3144   \n",
       "\n",
       "   True Negatives  \n",
       "0             940  \n",
       "1            2333  "
      ]
     },
     "metadata": {},
     "output_type": "display_data"
    },
    {
     "data": {
      "image/png": "[encoded data removed]",
      "text/plain": [
       "<Figure size 432x288 with 1 Axes>"
      ]
     },
     "metadata": {},
     "output_type": "display_data"
    }
   ],
   "source": [
    "resampling = SMOTEENN(random_state=7)\n",
    "test_resampling(resampling,x_train, x_test, y_train, y_test)"
   ]
  },
  {
   "cell_type": "markdown",
   "id": "military-internship",
   "metadata": {
    "papermill": {
     "duration": 0.061027,
     "end_time": "2021-05-02T10:36:08.375153",
     "exception": false,
     "start_time": "2021-05-02T10:36:08.314126",
     "status": "completed"
    },
    "tags": []
   },
   "source": [
    "#### SMOTE + Tomek links"
   ]
  },
  {
   "cell_type": "code",
   "execution_count": 20,
   "id": "precise-municipality",
   "metadata": {
    "execution": {
     "iopub.execute_input": "2021-05-02T10:36:08.502901Z",
     "iopub.status.busy": "2021-05-02T10:36:08.502253Z",
     "iopub.status.idle": "2021-05-02T10:36:24.008790Z",
     "shell.execute_reply": "2021-05-02T10:36:24.008210Z"
    },
    "papermill": {
     "duration": 15.5727,
     "end_time": "2021-05-02T10:36:24.008931",
     "exception": false,
     "start_time": "2021-05-02T10:36:08.436231",
     "status": "completed"
    },
    "tags": []
   },
   "outputs": [
    {
     "data": {
      "text/html": [
       "<div>\n",
       "<style scoped>\n",
       "    .dataframe tbody tr th:only-of-type {\n",
       "        vertical-align: middle;\n",
       "    }\n",
       "\n",
       "    .dataframe tbody tr th {\n",
       "        vertical-align: top;\n",
       "    }\n",
       "\n",
       "    .dataframe thead th {\n",
       "        text-align: right;\n",
       "    }\n",
       "</style>\n",
       "<table border=\"1\" class=\"dataframe\">\n",
       "  <thead>\n",
       "    <tr style=\"text-align: right;\">\n",
       "      <th></th>\n",
       "      <th>Dataset</th>\n",
       "      <th>F1</th>\n",
       "      <th>Accuracy</th>\n",
       "      <th>Recall</th>\n",
       "      <th>Precision</th>\n",
       "      <th>ROC AUC</th>\n",
       "      <th>False Positives (T-I)</th>\n",
       "      <th>False Negatives (T-II)</th>\n",
       "      <th>True Positives</th>\n",
       "      <th>True Negatives</th>\n",
       "    </tr>\n",
       "  </thead>\n",
       "  <tbody>\n",
       "    <tr>\n",
       "      <th>0</th>\n",
       "      <td>Test</td>\n",
       "      <td>0.182741</td>\n",
       "      <td>0.868999</td>\n",
       "      <td>0.243243</td>\n",
       "      <td>0.146341</td>\n",
       "      <td>0.576167</td>\n",
       "      <td>105</td>\n",
       "      <td>56</td>\n",
       "      <td>18</td>\n",
       "      <td>1050</td>\n",
       "    </tr>\n",
       "    <tr>\n",
       "      <th>1</th>\n",
       "      <td>Train</td>\n",
       "      <td>0.926136</td>\n",
       "      <td>0.925309</td>\n",
       "      <td>0.936512</td>\n",
       "      <td>0.915988</td>\n",
       "      <td>0.925309</td>\n",
       "      <td>299</td>\n",
       "      <td>221</td>\n",
       "      <td>3260</td>\n",
       "      <td>3182</td>\n",
       "    </tr>\n",
       "  </tbody>\n",
       "</table>\n",
       "</div>"
      ],
      "text/plain": [
       "  Dataset        F1  Accuracy    Recall  Precision   ROC AUC  \\\n",
       "0    Test  0.182741  0.868999  0.243243   0.146341  0.576167   \n",
       "1   Train  0.926136  0.925309  0.936512   0.915988  0.925309   \n",
       "\n",
       "   False Positives (T-I)  False Negatives (T-II)  True Positives  \\\n",
       "0                    105                      56              18   \n",
       "1                    299                     221            3260   \n",
       "\n",
       "   True Negatives  \n",
       "0            1050  \n",
       "1            3182  "
      ]
     },
     "metadata": {},
     "output_type": "display_data"
    },
    {
     "data": {
      "image/png": "[encoded data removed]",
      "text/plain": [
       "<Figure size 432x288 with 1 Axes>"
      ]
     },
     "metadata": {},
     "output_type": "display_data"
    }
   ],
   "source": [
    "resampling = SMOTETomek(random_state=7)\n",
    "test_resampling(resampling,x_train, x_test, y_train, y_test)"
   ]
  },
  {
   "cell_type": "markdown",
   "id": "interesting-malaysia",
   "metadata": {
    "papermill": {
     "duration": 0.063082,
     "end_time": "2021-05-02T10:36:24.136132",
     "exception": false,
     "start_time": "2021-05-02T10:36:24.073050",
     "status": "completed"
    },
    "tags": []
   },
   "source": [
    "#### Random oversampler"
   ]
  },
  {
   "cell_type": "code",
   "execution_count": 21,
   "id": "abandoned-nothing",
   "metadata": {
    "execution": {
     "iopub.execute_input": "2021-05-02T10:36:24.271948Z",
     "iopub.status.busy": "2021-05-02T10:36:24.269573Z",
     "iopub.status.idle": "2021-05-02T10:36:39.750158Z",
     "shell.execute_reply": "2021-05-02T10:36:39.749091Z"
    },
    "papermill": {
     "duration": 15.550677,
     "end_time": "2021-05-02T10:36:39.750339",
     "exception": false,
     "start_time": "2021-05-02T10:36:24.199662",
     "status": "completed"
    },
    "tags": []
   },
   "outputs": [
    {
     "data": {
      "text/html": [
       "<div>\n",
       "<style scoped>\n",
       "    .dataframe tbody tr th:only-of-type {\n",
       "        vertical-align: middle;\n",
       "    }\n",
       "\n",
       "    .dataframe tbody tr th {\n",
       "        vertical-align: top;\n",
       "    }\n",
       "\n",
       "    .dataframe thead th {\n",
       "        text-align: right;\n",
       "    }\n",
       "</style>\n",
       "<table border=\"1\" class=\"dataframe\">\n",
       "  <thead>\n",
       "    <tr style=\"text-align: right;\">\n",
       "      <th></th>\n",
       "      <th>Dataset</th>\n",
       "      <th>F1</th>\n",
       "      <th>Accuracy</th>\n",
       "      <th>Recall</th>\n",
       "      <th>Precision</th>\n",
       "      <th>ROC AUC</th>\n",
       "      <th>False Positives (T-I)</th>\n",
       "      <th>False Negatives (T-II)</th>\n",
       "      <th>True Positives</th>\n",
       "      <th>True Negatives</th>\n",
       "    </tr>\n",
       "  </thead>\n",
       "  <tbody>\n",
       "    <tr>\n",
       "      <th>0</th>\n",
       "      <td>Test</td>\n",
       "      <td>0.274510</td>\n",
       "      <td>0.819365</td>\n",
       "      <td>0.567568</td>\n",
       "      <td>0.181034</td>\n",
       "      <td>0.701533</td>\n",
       "      <td>190</td>\n",
       "      <td>32</td>\n",
       "      <td>42</td>\n",
       "      <td>965</td>\n",
       "    </tr>\n",
       "    <tr>\n",
       "      <th>1</th>\n",
       "      <td>Train</td>\n",
       "      <td>0.914039</td>\n",
       "      <td>0.909194</td>\n",
       "      <td>0.965557</td>\n",
       "      <td>0.867741</td>\n",
       "      <td>0.909194</td>\n",
       "      <td>517</td>\n",
       "      <td>121</td>\n",
       "      <td>3392</td>\n",
       "      <td>2996</td>\n",
       "    </tr>\n",
       "  </tbody>\n",
       "</table>\n",
       "</div>"
      ],
      "text/plain": [
       "  Dataset        F1  Accuracy    Recall  Precision   ROC AUC  \\\n",
       "0    Test  0.274510  0.819365  0.567568   0.181034  0.701533   \n",
       "1   Train  0.914039  0.909194  0.965557   0.867741  0.909194   \n",
       "\n",
       "   False Positives (T-I)  False Negatives (T-II)  True Positives  \\\n",
       "0                    190                      32              42   \n",
       "1                    517                     121            3392   \n",
       "\n",
       "   True Negatives  \n",
       "0             965  \n",
       "1            2996  "
      ]
     },
     "metadata": {},
     "output_type": "display_data"
    },
    {
     "data": {
      "image/png": "[encoded data removed]",
      "text/plain": [
       "<Figure size 432x288 with 1 Axes>"
      ]
     },
     "metadata": {},
     "output_type": "display_data"
    }
   ],
   "source": [
    "resampling = RandomOverSampler(random_state=7)\n",
    "test_resampling(resampling,x_train, x_test, y_train, y_test)"
   ]
  },
  {
   "cell_type": "markdown",
   "id": "sexual-international",
   "metadata": {
    "papermill": {
     "duration": 0.064079,
     "end_time": "2021-05-02T10:36:39.879155",
     "exception": false,
     "start_time": "2021-05-02T10:36:39.815076",
     "status": "completed"
    },
    "tags": []
   },
   "source": [
    "#### Random undersampler"
   ]
  },
  {
   "cell_type": "code",
   "execution_count": 22,
   "id": "understood-consumption",
   "metadata": {
    "execution": {
     "iopub.execute_input": "2021-05-02T10:36:40.015303Z",
     "iopub.status.busy": "2021-05-02T10:36:40.014693Z",
     "iopub.status.idle": "2021-05-02T10:36:46.624821Z",
     "shell.execute_reply": "2021-05-02T10:36:46.624225Z"
    },
    "papermill": {
     "duration": 6.681247,
     "end_time": "2021-05-02T10:36:46.624967",
     "exception": false,
     "start_time": "2021-05-02T10:36:39.943720",
     "status": "completed"
    },
    "tags": []
   },
   "outputs": [
    {
     "data": {
      "text/html": [
       "<div>\n",
       "<style scoped>\n",
       "    .dataframe tbody tr th:only-of-type {\n",
       "        vertical-align: middle;\n",
       "    }\n",
       "\n",
       "    .dataframe tbody tr th {\n",
       "        vertical-align: top;\n",
       "    }\n",
       "\n",
       "    .dataframe thead th {\n",
       "        text-align: right;\n",
       "    }\n",
       "</style>\n",
       "<table border=\"1\" class=\"dataframe\">\n",
       "  <thead>\n",
       "    <tr style=\"text-align: right;\">\n",
       "      <th></th>\n",
       "      <th>Dataset</th>\n",
       "      <th>F1</th>\n",
       "      <th>Accuracy</th>\n",
       "      <th>Recall</th>\n",
       "      <th>Precision</th>\n",
       "      <th>ROC AUC</th>\n",
       "      <th>False Positives (T-I)</th>\n",
       "      <th>False Negatives (T-II)</th>\n",
       "      <th>True Positives</th>\n",
       "      <th>True Negatives</th>\n",
       "    </tr>\n",
       "  </thead>\n",
       "  <tbody>\n",
       "    <tr>\n",
       "      <th>0</th>\n",
       "      <td>Test</td>\n",
       "      <td>0.236629</td>\n",
       "      <td>0.616762</td>\n",
       "      <td>0.986486</td>\n",
       "      <td>0.134438</td>\n",
       "      <td>0.789780</td>\n",
       "      <td>470</td>\n",
       "      <td>1</td>\n",
       "      <td>73</td>\n",
       "      <td>685</td>\n",
       "    </tr>\n",
       "    <tr>\n",
       "      <th>1</th>\n",
       "      <td>Train</td>\n",
       "      <td>0.804124</td>\n",
       "      <td>0.777778</td>\n",
       "      <td>0.912281</td>\n",
       "      <td>0.718894</td>\n",
       "      <td>0.777778</td>\n",
       "      <td>61</td>\n",
       "      <td>15</td>\n",
       "      <td>156</td>\n",
       "      <td>110</td>\n",
       "    </tr>\n",
       "  </tbody>\n",
       "</table>\n",
       "</div>"
      ],
      "text/plain": [
       "  Dataset        F1  Accuracy    Recall  Precision   ROC AUC  \\\n",
       "0    Test  0.236629  0.616762  0.986486   0.134438  0.789780   \n",
       "1   Train  0.804124  0.777778  0.912281   0.718894  0.777778   \n",
       "\n",
       "   False Positives (T-I)  False Negatives (T-II)  True Positives  \\\n",
       "0                    470                       1              73   \n",
       "1                     61                      15             156   \n",
       "\n",
       "   True Negatives  \n",
       "0             685  \n",
       "1             110  "
      ]
     },
     "metadata": {},
     "output_type": "display_data"
    },
    {
     "data": {
      "image/png": "[encoded data removed]",
      "text/plain": [
       "<Figure size 432x288 with 1 Axes>"
      ]
     },
     "metadata": {},
     "output_type": "display_data"
    }
   ],
   "source": [
    "resampling = RandomUnderSampler(random_state=7)\n",
    "test_resampling(resampling,x_train, x_test, y_train, y_test)"
   ]
  },
  {
   "cell_type": "markdown",
   "id": "pressing-astrology",
   "metadata": {
    "papermill": {
     "duration": 0.065725,
     "end_time": "2021-05-02T10:36:46.757949",
     "exception": false,
     "start_time": "2021-05-02T10:36:46.692224",
     "status": "completed"
    },
    "tags": []
   },
   "source": [
    "From the results above it is clear that all the algorithms (except for the undersampling one) show qualitatively the same performances. \n",
    "* Indeed, in all cases, the $F_1$ score, which is the appropriate metric for imbalanced binary datasets, is greater than 0.9 on the training set and ~0.25 on the test set. By tuning the hyperparameters of these classifiers it is possible to further increase the $F_1$ score on the training set, even to 0.99, but this would result in overfitting since no gain would be obtained on the $F_1$ score on the test set.\n",
    "* In all cases, the number of false negatives is quite large compared to the number of true positives. This is bad, due to the relatively small number of patients subjected to stroke in the dataset.\n",
    "* The undersampling algorithm gives a smaller $F_1$ score on the training set. However, in what follows I will show that with an appropriate tuning of the hyperparameters, it is possible to get the same performances of the other resampling techniques."
   ]
  },
  {
   "cell_type": "markdown",
   "id": "arabic-valve",
   "metadata": {
    "papermill": {
     "duration": 0.06586,
     "end_time": "2021-05-02T10:36:46.889566",
     "exception": false,
     "start_time": "2021-05-02T10:36:46.823706",
     "status": "completed"
    },
    "tags": []
   },
   "source": [
    "### 3.1 Hyperparameters tuning with GridSearchCV"
   ]
  },
  {
   "cell_type": "code",
   "execution_count": 23,
   "id": "deadly-morgan",
   "metadata": {
    "_kg_hide-input": true,
    "execution": {
     "iopub.execute_input": "2021-05-02T10:36:47.027402Z",
     "iopub.status.busy": "2021-05-02T10:36:47.026612Z",
     "iopub.status.idle": "2021-05-02T10:36:47.030031Z",
     "shell.execute_reply": "2021-05-02T10:36:47.029419Z"
    },
    "papermill": {
     "duration": 0.074873,
     "end_time": "2021-05-02T10:36:47.030180",
     "exception": false,
     "start_time": "2021-05-02T10:36:46.955307",
     "status": "completed"
    },
    "tags": []
   },
   "outputs": [],
   "source": [
    "def update_pars(new_p,pars):\n",
    "    for p in new_p.keys():\n",
    "        pars[p] = new_p[p]"
   ]
  },
  {
   "cell_type": "code",
   "execution_count": 24,
   "id": "breathing-neutral",
   "metadata": {
    "execution": {
     "iopub.execute_input": "2021-05-02T10:36:47.171881Z",
     "iopub.status.busy": "2021-05-02T10:36:47.171211Z",
     "iopub.status.idle": "2021-05-02T10:36:47.174655Z",
     "shell.execute_reply": "2021-05-02T10:36:47.174004Z"
    },
    "papermill": {
     "duration": 0.077595,
     "end_time": "2021-05-02T10:36:47.174794",
     "exception": false,
     "start_time": "2021-05-02T10:36:47.097199",
     "status": "completed"
    },
    "tags": []
   },
   "outputs": [],
   "source": [
    "def test_in_range(x_trainf, x_testf, y_trainf, y_testf, pars,param_test):\n",
    "\n",
    "\n",
    "    gsearch1 = GridSearchCV(estimator = xgb.XGBClassifier( **pars), \n",
    "    param_grid = param_test, scoring='f1',n_jobs=1, cv=5)\n",
    "\n",
    "    gsearch1.fit(x_trainf,y_trainf)\n",
    "\n",
    "    print('Best score: ',gsearch1.best_params_)\n",
    "\n",
    "    update_pars(gsearch1.best_params_,pars_xgb)\n",
    "\n",
    "    clf_rf = xgb.XGBClassifier(**pars)      \n",
    "    clr_rf = clf_rf.fit(x_trainf,y_trainf)\n",
    "\n",
    "    compute_score(y_trainf,y_testf,clr_rf.predict(x_trainf),clr_rf.predict(x_testf))"
   ]
  },
  {
   "cell_type": "code",
   "execution_count": 25,
   "id": "enhanced-webster",
   "metadata": {
    "execution": {
     "iopub.execute_input": "2021-05-02T10:36:47.318619Z",
     "iopub.status.busy": "2021-05-02T10:36:47.316495Z",
     "iopub.status.idle": "2021-05-02T10:36:55.671249Z",
     "shell.execute_reply": "2021-05-02T10:36:55.671743Z"
    },
    "papermill": {
     "duration": 8.429718,
     "end_time": "2021-05-02T10:36:55.671929",
     "exception": false,
     "start_time": "2021-05-02T10:36:47.242211",
     "status": "completed"
    },
    "tags": []
   },
   "outputs": [
    {
     "name": "stdout",
     "output_type": "stream",
     "text": [
      "Best score:  {'scale_pos_weight': 1}\n"
     ]
    },
    {
     "data": {
      "text/html": [
       "<div>\n",
       "<style scoped>\n",
       "    .dataframe tbody tr th:only-of-type {\n",
       "        vertical-align: middle;\n",
       "    }\n",
       "\n",
       "    .dataframe tbody tr th {\n",
       "        vertical-align: top;\n",
       "    }\n",
       "\n",
       "    .dataframe thead th {\n",
       "        text-align: right;\n",
       "    }\n",
       "</style>\n",
       "<table border=\"1\" class=\"dataframe\">\n",
       "  <thead>\n",
       "    <tr style=\"text-align: right;\">\n",
       "      <th></th>\n",
       "      <th>Dataset</th>\n",
       "      <th>F1</th>\n",
       "      <th>Accuracy</th>\n",
       "      <th>Recall</th>\n",
       "      <th>Precision</th>\n",
       "      <th>ROC AUC</th>\n",
       "      <th>False Positives (T-I)</th>\n",
       "      <th>False Negatives (T-II)</th>\n",
       "      <th>True Positives</th>\n",
       "      <th>True Negatives</th>\n",
       "    </tr>\n",
       "  </thead>\n",
       "  <tbody>\n",
       "    <tr>\n",
       "      <th>0</th>\n",
       "      <td>Test</td>\n",
       "      <td>0.236629</td>\n",
       "      <td>0.616762</td>\n",
       "      <td>0.986486</td>\n",
       "      <td>0.134438</td>\n",
       "      <td>0.789780</td>\n",
       "      <td>470</td>\n",
       "      <td>1</td>\n",
       "      <td>73</td>\n",
       "      <td>685</td>\n",
       "    </tr>\n",
       "    <tr>\n",
       "      <th>1</th>\n",
       "      <td>Train</td>\n",
       "      <td>0.804124</td>\n",
       "      <td>0.777778</td>\n",
       "      <td>0.912281</td>\n",
       "      <td>0.718894</td>\n",
       "      <td>0.777778</td>\n",
       "      <td>61</td>\n",
       "      <td>15</td>\n",
       "      <td>156</td>\n",
       "      <td>110</td>\n",
       "    </tr>\n",
       "  </tbody>\n",
       "</table>\n",
       "</div>"
      ],
      "text/plain": [
       "  Dataset        F1  Accuracy    Recall  Precision   ROC AUC  \\\n",
       "0    Test  0.236629  0.616762  0.986486   0.134438  0.789780   \n",
       "1   Train  0.804124  0.777778  0.912281   0.718894  0.777778   \n",
       "\n",
       "   False Positives (T-I)  False Negatives (T-II)  True Positives  \\\n",
       "0                    470                       1              73   \n",
       "1                     61                      15             156   \n",
       "\n",
       "   True Negatives  \n",
       "0             685  \n",
       "1             110  "
      ]
     },
     "metadata": {},
     "output_type": "display_data"
    }
   ],
   "source": [
    "resampling = RandomUnderSampler(random_state=7)\n",
    "x_tmp, y_tmp = resampling.fit_resample(x_train, y_train)\n",
    "x_train_res = pd.DataFrame(x_tmp,columns=df_cols)\n",
    "y_train_res = pd.Series(y_tmp)\n",
    "\n",
    "param_test1 = {\n",
    " 'scale_pos_weight':range(1,10,3),\n",
    "}\n",
    "\n",
    "pars_xgb = {'objective':'binary:logistic',\n",
    "            'random_state':7,\n",
    "            'scale_pos_weight':1,\n",
    "            'use_label_encoder':False,\n",
    "            'eval_metric':'error',\n",
    "            'learning_rate':0.01,\n",
    "            'colsample_bytree': 0.05,\n",
    "            'subsample': 0.8,\n",
    "            'n_estimators':2000, \n",
    "            'reg_alpha': 0.3,\n",
    "            'n_jobs':1,\n",
    "            'max_depth':10, \n",
    "            'gamma':10\n",
    "           }\n",
    "\n",
    "test_in_range(x_train_res, x_test, y_train_res, y_test, pars_xgb, param_test1)"
   ]
  },
  {
   "cell_type": "code",
   "execution_count": 26,
   "id": "aboriginal-helena",
   "metadata": {
    "execution": {
     "iopub.execute_input": "2021-05-02T10:36:55.813881Z",
     "iopub.status.busy": "2021-05-02T10:36:55.813205Z",
     "iopub.status.idle": "2021-05-02T10:37:34.728528Z",
     "shell.execute_reply": "2021-05-02T10:37:34.727955Z"
    },
    "papermill": {
     "duration": 38.989367,
     "end_time": "2021-05-02T10:37:34.728673",
     "exception": false,
     "start_time": "2021-05-02T10:36:55.739306",
     "status": "completed"
    },
    "tags": []
   },
   "outputs": [
    {
     "name": "stdout",
     "output_type": "stream",
     "text": [
      "Best score:  {'max_depth': 3, 'min_child_weight': 1}\n"
     ]
    },
    {
     "data": {
      "text/html": [
       "<div>\n",
       "<style scoped>\n",
       "    .dataframe tbody tr th:only-of-type {\n",
       "        vertical-align: middle;\n",
       "    }\n",
       "\n",
       "    .dataframe tbody tr th {\n",
       "        vertical-align: top;\n",
       "    }\n",
       "\n",
       "    .dataframe thead th {\n",
       "        text-align: right;\n",
       "    }\n",
       "</style>\n",
       "<table border=\"1\" class=\"dataframe\">\n",
       "  <thead>\n",
       "    <tr style=\"text-align: right;\">\n",
       "      <th></th>\n",
       "      <th>Dataset</th>\n",
       "      <th>F1</th>\n",
       "      <th>Accuracy</th>\n",
       "      <th>Recall</th>\n",
       "      <th>Precision</th>\n",
       "      <th>ROC AUC</th>\n",
       "      <th>False Positives (T-I)</th>\n",
       "      <th>False Negatives (T-II)</th>\n",
       "      <th>True Positives</th>\n",
       "      <th>True Negatives</th>\n",
       "    </tr>\n",
       "  </thead>\n",
       "  <tbody>\n",
       "    <tr>\n",
       "      <th>0</th>\n",
       "      <td>Test</td>\n",
       "      <td>0.236629</td>\n",
       "      <td>0.616762</td>\n",
       "      <td>0.986486</td>\n",
       "      <td>0.134438</td>\n",
       "      <td>0.789780</td>\n",
       "      <td>470</td>\n",
       "      <td>1</td>\n",
       "      <td>73</td>\n",
       "      <td>685</td>\n",
       "    </tr>\n",
       "    <tr>\n",
       "      <th>1</th>\n",
       "      <td>Train</td>\n",
       "      <td>0.804124</td>\n",
       "      <td>0.777778</td>\n",
       "      <td>0.912281</td>\n",
       "      <td>0.718894</td>\n",
       "      <td>0.777778</td>\n",
       "      <td>61</td>\n",
       "      <td>15</td>\n",
       "      <td>156</td>\n",
       "      <td>110</td>\n",
       "    </tr>\n",
       "  </tbody>\n",
       "</table>\n",
       "</div>"
      ],
      "text/plain": [
       "  Dataset        F1  Accuracy    Recall  Precision   ROC AUC  \\\n",
       "0    Test  0.236629  0.616762  0.986486   0.134438  0.789780   \n",
       "1   Train  0.804124  0.777778  0.912281   0.718894  0.777778   \n",
       "\n",
       "   False Positives (T-I)  False Negatives (T-II)  True Positives  \\\n",
       "0                    470                       1              73   \n",
       "1                     61                      15             156   \n",
       "\n",
       "   True Negatives  \n",
       "0             685  \n",
       "1             110  "
      ]
     },
     "metadata": {},
     "output_type": "display_data"
    }
   ],
   "source": [
    "param_test1 = {\n",
    " 'max_depth':range(3,15,2),\n",
    " 'min_child_weight':range(1,6,2),\n",
    "}\n",
    "\n",
    "test_in_range(x_train_res, x_test, y_train_res, y_test, pars_xgb, param_test1)"
   ]
  },
  {
   "cell_type": "code",
   "execution_count": 27,
   "id": "military-nerve",
   "metadata": {
    "execution": {
     "iopub.execute_input": "2021-05-02T10:37:34.874858Z",
     "iopub.status.busy": "2021-05-02T10:37:34.873883Z",
     "iopub.status.idle": "2021-05-02T10:37:46.028472Z",
     "shell.execute_reply": "2021-05-02T10:37:46.027927Z"
    },
    "papermill": {
     "duration": 11.230712,
     "end_time": "2021-05-02T10:37:46.028629",
     "exception": false,
     "start_time": "2021-05-02T10:37:34.797917",
     "status": "completed"
    },
    "tags": []
   },
   "outputs": [
    {
     "name": "stdout",
     "output_type": "stream",
     "text": [
      "Best score:  {'gamma': 0.3}\n"
     ]
    },
    {
     "data": {
      "text/html": [
       "<div>\n",
       "<style scoped>\n",
       "    .dataframe tbody tr th:only-of-type {\n",
       "        vertical-align: middle;\n",
       "    }\n",
       "\n",
       "    .dataframe tbody tr th {\n",
       "        vertical-align: top;\n",
       "    }\n",
       "\n",
       "    .dataframe thead th {\n",
       "        text-align: right;\n",
       "    }\n",
       "</style>\n",
       "<table border=\"1\" class=\"dataframe\">\n",
       "  <thead>\n",
       "    <tr style=\"text-align: right;\">\n",
       "      <th></th>\n",
       "      <th>Dataset</th>\n",
       "      <th>F1</th>\n",
       "      <th>Accuracy</th>\n",
       "      <th>Recall</th>\n",
       "      <th>Precision</th>\n",
       "      <th>ROC AUC</th>\n",
       "      <th>False Positives (T-I)</th>\n",
       "      <th>False Negatives (T-II)</th>\n",
       "      <th>True Positives</th>\n",
       "      <th>True Negatives</th>\n",
       "    </tr>\n",
       "  </thead>\n",
       "  <tbody>\n",
       "    <tr>\n",
       "      <th>0</th>\n",
       "      <td>Test</td>\n",
       "      <td>0.250505</td>\n",
       "      <td>0.698129</td>\n",
       "      <td>0.837838</td>\n",
       "      <td>0.147268</td>\n",
       "      <td>0.763508</td>\n",
       "      <td>359</td>\n",
       "      <td>12</td>\n",
       "      <td>62</td>\n",
       "      <td>796</td>\n",
       "    </tr>\n",
       "    <tr>\n",
       "      <th>1</th>\n",
       "      <td>Train</td>\n",
       "      <td>0.835655</td>\n",
       "      <td>0.827485</td>\n",
       "      <td>0.877193</td>\n",
       "      <td>0.797872</td>\n",
       "      <td>0.827485</td>\n",
       "      <td>38</td>\n",
       "      <td>21</td>\n",
       "      <td>150</td>\n",
       "      <td>133</td>\n",
       "    </tr>\n",
       "  </tbody>\n",
       "</table>\n",
       "</div>"
      ],
      "text/plain": [
       "  Dataset        F1  Accuracy    Recall  Precision   ROC AUC  \\\n",
       "0    Test  0.250505  0.698129  0.837838   0.147268  0.763508   \n",
       "1   Train  0.835655  0.827485  0.877193   0.797872  0.827485   \n",
       "\n",
       "   False Positives (T-I)  False Negatives (T-II)  True Positives  \\\n",
       "0                    359                      12              62   \n",
       "1                     38                      21             150   \n",
       "\n",
       "   True Negatives  \n",
       "0             796  \n",
       "1             133  "
      ]
     },
     "metadata": {},
     "output_type": "display_data"
    }
   ],
   "source": [
    "param_test1 = {\n",
    " 'gamma':[i/10.0 for i in range(0,5)]\n",
    "}\n",
    "\n",
    "test_in_range(x_train_res, x_test, y_train_res, y_test, pars_xgb, param_test1)"
   ]
  },
  {
   "cell_type": "code",
   "execution_count": 28,
   "id": "seventh-harris",
   "metadata": {
    "execution": {
     "iopub.execute_input": "2021-05-02T10:37:46.177177Z",
     "iopub.status.busy": "2021-05-02T10:37:46.176213Z",
     "iopub.status.idle": "2021-05-02T10:38:46.162511Z",
     "shell.execute_reply": "2021-05-02T10:38:46.161843Z"
    },
    "papermill": {
     "duration": 60.063457,
     "end_time": "2021-05-02T10:38:46.162655",
     "exception": false,
     "start_time": "2021-05-02T10:37:46.099198",
     "status": "completed"
    },
    "tags": []
   },
   "outputs": [
    {
     "name": "stdout",
     "output_type": "stream",
     "text": [
      "Best score:  {'colsample_bytree': 0.9, 'subsample': 0.6}\n"
     ]
    },
    {
     "data": {
      "text/html": [
       "<div>\n",
       "<style scoped>\n",
       "    .dataframe tbody tr th:only-of-type {\n",
       "        vertical-align: middle;\n",
       "    }\n",
       "\n",
       "    .dataframe tbody tr th {\n",
       "        vertical-align: top;\n",
       "    }\n",
       "\n",
       "    .dataframe thead th {\n",
       "        text-align: right;\n",
       "    }\n",
       "</style>\n",
       "<table border=\"1\" class=\"dataframe\">\n",
       "  <thead>\n",
       "    <tr style=\"text-align: right;\">\n",
       "      <th></th>\n",
       "      <th>Dataset</th>\n",
       "      <th>F1</th>\n",
       "      <th>Accuracy</th>\n",
       "      <th>Recall</th>\n",
       "      <th>Precision</th>\n",
       "      <th>ROC AUC</th>\n",
       "      <th>False Positives (T-I)</th>\n",
       "      <th>False Negatives (T-II)</th>\n",
       "      <th>True Positives</th>\n",
       "      <th>True Negatives</th>\n",
       "    </tr>\n",
       "  </thead>\n",
       "  <tbody>\n",
       "    <tr>\n",
       "      <th>0</th>\n",
       "      <td>Test</td>\n",
       "      <td>0.252137</td>\n",
       "      <td>0.715216</td>\n",
       "      <td>0.797297</td>\n",
       "      <td>0.149746</td>\n",
       "      <td>0.753627</td>\n",
       "      <td>335</td>\n",
       "      <td>15</td>\n",
       "      <td>59</td>\n",
       "      <td>820</td>\n",
       "    </tr>\n",
       "    <tr>\n",
       "      <th>1</th>\n",
       "      <td>Train</td>\n",
       "      <td>0.959302</td>\n",
       "      <td>0.959064</td>\n",
       "      <td>0.964912</td>\n",
       "      <td>0.953757</td>\n",
       "      <td>0.959064</td>\n",
       "      <td>8</td>\n",
       "      <td>6</td>\n",
       "      <td>165</td>\n",
       "      <td>163</td>\n",
       "    </tr>\n",
       "  </tbody>\n",
       "</table>\n",
       "</div>"
      ],
      "text/plain": [
       "  Dataset        F1  Accuracy    Recall  Precision   ROC AUC  \\\n",
       "0    Test  0.252137  0.715216  0.797297   0.149746  0.753627   \n",
       "1   Train  0.959302  0.959064  0.964912   0.953757  0.959064   \n",
       "\n",
       "   False Positives (T-I)  False Negatives (T-II)  True Positives  \\\n",
       "0                    335                      15              59   \n",
       "1                      8                       6             165   \n",
       "\n",
       "   True Negatives  \n",
       "0             820  \n",
       "1             163  "
      ]
     },
     "metadata": {},
     "output_type": "display_data"
    }
   ],
   "source": [
    "param_test1 = {\n",
    " 'subsample':[i/10.0 for i in range(6,10)],\n",
    " 'colsample_bytree':[i/10.0 for i in range(6,10)]\n",
    "}\n",
    "test_in_range(x_train_res, x_test, y_train_res, y_test, pars_xgb, param_test1)"
   ]
  },
  {
   "cell_type": "markdown",
   "id": "million-nomination",
   "metadata": {
    "papermill": {
     "duration": 0.071604,
     "end_time": "2021-05-02T10:38:46.305095",
     "exception": false,
     "start_time": "2021-05-02T10:38:46.233491",
     "status": "completed"
    },
    "tags": []
   },
   "source": [
    "## 4. Dimensionality reduction"
   ]
  },
  {
   "cell_type": "markdown",
   "id": "european-dover",
   "metadata": {
    "papermill": {
     "duration": 0.07031,
     "end_time": "2021-05-02T10:38:46.446195",
     "exception": false,
     "start_time": "2021-05-02T10:38:46.375885",
     "status": "completed"
    },
    "tags": []
   },
   "source": [
    "#### 4.A Univariate analysis\n",
    "Univariate tests measure the correlation between the selected feature and the target. Each feature is analyzed independently, not taking into account the correlation between different features.    "
   ]
  },
  {
   "cell_type": "code",
   "execution_count": 29,
   "id": "seventh-threat",
   "metadata": {
    "execution": {
     "iopub.execute_input": "2021-05-02T10:38:46.596849Z",
     "iopub.status.busy": "2021-05-02T10:38:46.595814Z",
     "iopub.status.idle": "2021-05-02T10:38:46.604706Z",
     "shell.execute_reply": "2021-05-02T10:38:46.604159Z"
    },
    "papermill": {
     "duration": 0.088037,
     "end_time": "2021-05-02T10:38:46.604844",
     "exception": false,
     "start_time": "2021-05-02T10:38:46.516807",
     "status": "completed"
    },
    "tags": []
   },
   "outputs": [
    {
     "name": "stdout",
     "output_type": "stream",
     "text": [
      "Score list: [2.25741257e+03 1.00391553e+03 6.29108317e+01 6.07819715e+01\n",
      " 2.09454725e+01 2.02275806e+01 1.58711923e+01 1.58628852e+01\n",
      " 4.58994966e+00 1.32600101e+00 6.32792485e-01 2.28573905e-01\n",
      " 2.24529486e-01 1.79169357e-01 1.76732448e-01]\n",
      "Feature list: Index(['age', 'avg_glucose_level', 'hypertension', 'heart_disease',\n",
      "       'smoking_status_formerly smoked', 'work_type_children',\n",
      "       'ever_married_Yes', 'bmi', 'work_type_Self-employed',\n",
      "       'work_type_Private', 'work_type_Never_worked', 'gender_Male',\n",
      "       'smoking_status_never smoked', 'smoking_status_smokes',\n",
      "       'Residence_type_Urban'],\n",
      "      dtype='object')\n"
     ]
    }
   ],
   "source": [
    "select_feature = SelectKBest(chi2, k=5).fit(x_train, y_train)\n",
    "order_ind = select_feature.scores_.argsort()\n",
    "print('Score list:', select_feature.scores_[order_ind[::-1]])\n",
    "print('Feature list:', x_train.columns[order_ind[::-1]])"
   ]
  },
  {
   "cell_type": "markdown",
   "id": "temporal-convertible",
   "metadata": {
    "papermill": {
     "duration": 0.070692,
     "end_time": "2021-05-02T10:38:46.746399",
     "exception": false,
     "start_time": "2021-05-02T10:38:46.675707",
     "status": "completed"
    },
    "tags": []
   },
   "source": [
    "The score list above confirms the findings of the [data visualization section](#2.-Data-visualization). In particular, age is the most important feature to consider here, together with the average glucose level. Among the other important variables selected by the univariate algorithm it is interesting to mention the  'ever_married_Yes', that we know is strongly correlated with age, as well as 'work_type_children'. For this reason, before proceeding with the dimensionality reduction it is necessary to employ a multivariate algorithm."
   ]
  },
  {
   "cell_type": "markdown",
   "id": "round-pregnancy",
   "metadata": {
    "papermill": {
     "duration": 0.071801,
     "end_time": "2021-05-02T10:38:46.889173",
     "exception": false,
     "start_time": "2021-05-02T10:38:46.817372",
     "status": "completed"
    },
    "tags": []
   },
   "source": [
    "### 4.B Recursive feature elimination (RFE) with random forest"
   ]
  },
  {
   "cell_type": "markdown",
   "id": "established-variation",
   "metadata": {
    "papermill": {
     "duration": 0.073115,
     "end_time": "2021-05-02T10:38:47.035541",
     "exception": false,
     "start_time": "2021-05-02T10:38:46.962426",
     "status": "completed"
    },
    "tags": []
   },
   "source": [
    "Random forest can be employed in combination with the [feature ranking with recursive feature elimination](https://scikit-learn.org/stable/modules/generated/sklearn.feature_selection.RFE.html) algorithm. Due to the strong correlation between features, the expected outcome significantly differs from the output of the univariate algorithm employed in the previous section."
   ]
  },
  {
   "cell_type": "code",
   "execution_count": 30,
   "id": "nuclear-sight",
   "metadata": {
    "execution": {
     "iopub.execute_input": "2021-05-02T10:38:47.188152Z",
     "iopub.status.busy": "2021-05-02T10:38:47.187357Z",
     "iopub.status.idle": "2021-05-02T10:38:54.548296Z",
     "shell.execute_reply": "2021-05-02T10:38:54.547731Z"
    },
    "papermill": {
     "duration": 7.440324,
     "end_time": "2021-05-02T10:38:54.548466",
     "exception": false,
     "start_time": "2021-05-02T10:38:47.108142",
     "status": "completed"
    },
    "tags": []
   },
   "outputs": [
    {
     "name": "stdout",
     "output_type": "stream",
     "text": [
      "Selected features: Index(['age', 'avg_glucose_level', 'bmi', 'smoking_status_never smoked',\n",
      "       'smoking_status_smokes'],\n",
      "      dtype='object')\n"
     ]
    }
   ],
   "source": [
    "resampling = SMOTEENN(random_state=7)\n",
    "x_tmp, y_tmp = resampling.fit_resample(x_train, y_train)\n",
    "x_train_tmp = pd.DataFrame(x_tmp,columns=df_cols)\n",
    "y_train_tmp = pd.Series(y_tmp)\n",
    "\n",
    "clf_rf = RandomForestClassifier()      \n",
    "rfe = RFE(estimator=clf_rf, n_features_to_select=5, step=1)\n",
    "rfe = rfe.fit(x_train_tmp, y_train_tmp)\n",
    "print('Selected features:',x_train.columns[rfe.support_])"
   ]
  },
  {
   "cell_type": "markdown",
   "id": "joined-sender",
   "metadata": {
    "papermill": {
     "duration": 0.071087,
     "end_time": "2021-05-02T10:38:54.691367",
     "exception": false,
     "start_time": "2021-05-02T10:38:54.620280",
     "status": "completed"
    },
    "tags": []
   },
   "source": [
    "As expected, the best features selected by the algorithm do not include the varialbe 'ever_married_Yes', which is strongly correlated with age. Among the five best features the variables 'smoking_status_never smoked' and 'smoking_status_smokes' have been included, which however have a weak correlation with the target. These variables may not give significative additional information to the classifier. Let's test now the XGBoost classifier with SMOTEENN employing the selected features..."
   ]
  },
  {
   "cell_type": "code",
   "execution_count": 31,
   "id": "spectacular-samoa",
   "metadata": {
    "execution": {
     "iopub.execute_input": "2021-05-02T10:38:54.844631Z",
     "iopub.status.busy": "2021-05-02T10:38:54.843922Z",
     "iopub.status.idle": "2021-05-02T10:39:10.240126Z",
     "shell.execute_reply": "2021-05-02T10:39:10.240640Z"
    },
    "papermill": {
     "duration": 15.478029,
     "end_time": "2021-05-02T10:39:10.240852",
     "exception": false,
     "start_time": "2021-05-02T10:38:54.762823",
     "status": "completed"
    },
    "tags": []
   },
   "outputs": [
    {
     "data": {
      "text/html": [
       "<div>\n",
       "<style scoped>\n",
       "    .dataframe tbody tr th:only-of-type {\n",
       "        vertical-align: middle;\n",
       "    }\n",
       "\n",
       "    .dataframe tbody tr th {\n",
       "        vertical-align: top;\n",
       "    }\n",
       "\n",
       "    .dataframe thead th {\n",
       "        text-align: right;\n",
       "    }\n",
       "</style>\n",
       "<table border=\"1\" class=\"dataframe\">\n",
       "  <thead>\n",
       "    <tr style=\"text-align: right;\">\n",
       "      <th></th>\n",
       "      <th>Dataset</th>\n",
       "      <th>F1</th>\n",
       "      <th>Accuracy</th>\n",
       "      <th>Recall</th>\n",
       "      <th>Precision</th>\n",
       "      <th>ROC AUC</th>\n",
       "      <th>False Positives (T-I)</th>\n",
       "      <th>False Negatives (T-II)</th>\n",
       "      <th>True Positives</th>\n",
       "      <th>True Negatives</th>\n",
       "    </tr>\n",
       "  </thead>\n",
       "  <tbody>\n",
       "    <tr>\n",
       "      <th>0</th>\n",
       "      <td>Test</td>\n",
       "      <td>0.296089</td>\n",
       "      <td>0.794955</td>\n",
       "      <td>0.716216</td>\n",
       "      <td>0.186620</td>\n",
       "      <td>0.758108</td>\n",
       "      <td>231</td>\n",
       "      <td>21</td>\n",
       "      <td>53</td>\n",
       "      <td>924</td>\n",
       "    </tr>\n",
       "    <tr>\n",
       "      <th>1</th>\n",
       "      <td>Train</td>\n",
       "      <td>0.941623</td>\n",
       "      <td>0.935184</td>\n",
       "      <td>0.965920</td>\n",
       "      <td>0.918519</td>\n",
       "      <td>0.932424</td>\n",
       "      <td>264</td>\n",
       "      <td>105</td>\n",
       "      <td>2976</td>\n",
       "      <td>2348</td>\n",
       "    </tr>\n",
       "  </tbody>\n",
       "</table>\n",
       "</div>"
      ],
      "text/plain": [
       "  Dataset        F1  Accuracy    Recall  Precision   ROC AUC  \\\n",
       "0    Test  0.296089  0.794955  0.716216   0.186620  0.758108   \n",
       "1   Train  0.941623  0.935184  0.965920   0.918519  0.932424   \n",
       "\n",
       "   False Positives (T-I)  False Negatives (T-II)  True Positives  \\\n",
       "0                    231                      21              53   \n",
       "1                    264                     105            2976   \n",
       "\n",
       "   True Negatives  \n",
       "0             924  \n",
       "1            2348  "
      ]
     },
     "metadata": {},
     "output_type": "display_data"
    },
    {
     "data": {
      "image/png": "[encoded data removed]",
      "text/plain": [
       "<Figure size 432x288 with 1 Axes>"
      ]
     },
     "metadata": {},
     "output_type": "display_data"
    }
   ],
   "source": [
    "pars_xgb = {'objective':'binary:logistic',\n",
    "            'random_state':7,\n",
    "            'scale_pos_weight':1,\n",
    "            'use_label_encoder':False,\n",
    "            'eval_metric':'error',\n",
    "            'learning_rate':0.01,\n",
    "            'colsample_bytree': 0.05,\n",
    "            'subsample': 0.8,\n",
    "            'n_estimators':2000, \n",
    "            'reg_alpha': 0.3,\n",
    "            'n_jobs':1,\n",
    "            'max_depth':10, \n",
    "            'gamma':10\n",
    "           }\n",
    "\n",
    "rf_rfe_columns = list(x_train.columns[rfe.support_])\n",
    "test_resampling(resampling,x_train[rf_rfe_columns], \n",
    "                x_test[rf_rfe_columns], y_train, y_test, rf_rfe_columns)"
   ]
  },
  {
   "cell_type": "markdown",
   "id": "checked-brazilian",
   "metadata": {
    "papermill": {
     "duration": 0.073382,
     "end_time": "2021-05-02T10:39:10.389338",
     "exception": false,
     "start_time": "2021-05-02T10:39:10.315956",
     "status": "completed"
    },
    "tags": []
   },
   "source": [
    "The $F_1$ score on the test set has slightly improved compared to the classification performed including all the available features in [Sec. 3](#3.-Testing-resampling-techniques-with-XGBoost-binary-classifier). However, the number of features has been drastically reduced to 5. In the next section, I am going to test another multivariate feature selection algorithm and compare the results with what obtained here."
   ]
  },
  {
   "cell_type": "markdown",
   "id": "cordless-valve",
   "metadata": {
    "papermill": {
     "duration": 0.073775,
     "end_time": "2021-05-02T10:39:10.537242",
     "exception": false,
     "start_time": "2021-05-02T10:39:10.463467",
     "status": "completed"
    },
    "tags": []
   },
   "source": [
    "### 4.C RFE with Cross Validation (RFECV) with random forest\n",
    "Below, I am going to the RFE algorithm with cross-validation, employing the random forest classifier. This will allow to crosscheck the best features selected in the previous subsection and to get the optimal number of features."
   ]
  },
  {
   "cell_type": "code",
   "execution_count": 32,
   "id": "amazing-professional",
   "metadata": {
    "execution": {
     "iopub.execute_input": "2021-05-02T10:39:10.693970Z",
     "iopub.status.busy": "2021-05-02T10:39:10.692935Z",
     "iopub.status.idle": "2021-05-02T10:40:56.181044Z",
     "shell.execute_reply": "2021-05-02T10:40:56.181600Z"
    },
    "papermill": {
     "duration": 105.570977,
     "end_time": "2021-05-02T10:40:56.181786",
     "exception": false,
     "start_time": "2021-05-02T10:39:10.610809",
     "status": "completed"
    },
    "tags": []
   },
   "outputs": [
    {
     "name": "stdout",
     "output_type": "stream",
     "text": [
      "Optimal number of features : 3\n",
      "Best features : Index(['age', 'avg_glucose_level', 'bmi'], dtype='object')\n"
     ]
    }
   ],
   "source": [
    "from sklearn.feature_selection import RFECV\n",
    "\n",
    "clf_rf = RandomForestClassifier() \n",
    "rfecv = RFECV(estimator=clf_rf, step=1, cv=10,scoring='f1')\n",
    "rfecv = rfecv.fit(x_train_tmp, y_train_tmp)\n",
    "\n",
    "print('Optimal number of features :', rfecv.n_features_)\n",
    "print('Best features :', x_train.columns[rfecv.support_])"
   ]
  },
  {
   "cell_type": "markdown",
   "id": "partial-package",
   "metadata": {
    "papermill": {
     "duration": 0.076657,
     "end_time": "2021-05-02T10:40:56.334528",
     "exception": false,
     "start_time": "2021-05-02T10:40:56.257871",
     "status": "completed"
    },
    "tags": []
   },
   "source": [
    "The optimal number of features is 3, and they correspond with the ones selected in the previous subsection."
   ]
  },
  {
   "cell_type": "code",
   "execution_count": 33,
   "id": "passive-platinum",
   "metadata": {
    "execution": {
     "iopub.execute_input": "2021-05-02T10:40:56.491508Z",
     "iopub.status.busy": "2021-05-02T10:40:56.490810Z",
     "iopub.status.idle": "2021-05-02T10:41:13.707577Z",
     "shell.execute_reply": "2021-05-02T10:41:13.708040Z"
    },
    "papermill": {
     "duration": 17.296929,
     "end_time": "2021-05-02T10:41:13.708222",
     "exception": false,
     "start_time": "2021-05-02T10:40:56.411293",
     "status": "completed"
    },
    "tags": []
   },
   "outputs": [
    {
     "data": {
      "text/html": [
       "<div>\n",
       "<style scoped>\n",
       "    .dataframe tbody tr th:only-of-type {\n",
       "        vertical-align: middle;\n",
       "    }\n",
       "\n",
       "    .dataframe tbody tr th {\n",
       "        vertical-align: top;\n",
       "    }\n",
       "\n",
       "    .dataframe thead th {\n",
       "        text-align: right;\n",
       "    }\n",
       "</style>\n",
       "<table border=\"1\" class=\"dataframe\">\n",
       "  <thead>\n",
       "    <tr style=\"text-align: right;\">\n",
       "      <th></th>\n",
       "      <th>Dataset</th>\n",
       "      <th>F1</th>\n",
       "      <th>Accuracy</th>\n",
       "      <th>Recall</th>\n",
       "      <th>Precision</th>\n",
       "      <th>ROC AUC</th>\n",
       "      <th>False Positives (T-I)</th>\n",
       "      <th>False Negatives (T-II)</th>\n",
       "      <th>True Positives</th>\n",
       "      <th>True Negatives</th>\n",
       "    </tr>\n",
       "  </thead>\n",
       "  <tbody>\n",
       "    <tr>\n",
       "      <th>0</th>\n",
       "      <td>Test</td>\n",
       "      <td>0.312500</td>\n",
       "      <td>0.803092</td>\n",
       "      <td>0.743243</td>\n",
       "      <td>0.197842</td>\n",
       "      <td>0.775085</td>\n",
       "      <td>223</td>\n",
       "      <td>19</td>\n",
       "      <td>55</td>\n",
       "      <td>932</td>\n",
       "    </tr>\n",
       "    <tr>\n",
       "      <th>1</th>\n",
       "      <td>Train</td>\n",
       "      <td>0.945425</td>\n",
       "      <td>0.940777</td>\n",
       "      <td>0.966296</td>\n",
       "      <td>0.925436</td>\n",
       "      <td>0.939098</td>\n",
       "      <td>231</td>\n",
       "      <td>100</td>\n",
       "      <td>2867</td>\n",
       "      <td>2391</td>\n",
       "    </tr>\n",
       "  </tbody>\n",
       "</table>\n",
       "</div>"
      ],
      "text/plain": [
       "  Dataset        F1  Accuracy    Recall  Precision   ROC AUC  \\\n",
       "0    Test  0.312500  0.803092  0.743243   0.197842  0.775085   \n",
       "1   Train  0.945425  0.940777  0.966296   0.925436  0.939098   \n",
       "\n",
       "   False Positives (T-I)  False Negatives (T-II)  True Positives  \\\n",
       "0                    223                      19              55   \n",
       "1                    231                     100            2867   \n",
       "\n",
       "   True Negatives  \n",
       "0             932  \n",
       "1            2391  "
      ]
     },
     "metadata": {},
     "output_type": "display_data"
    },
    {
     "data": {
      "image/png": "[encoded data removed]",
      "text/plain": [
       "<Figure size 432x288 with 1 Axes>"
      ]
     },
     "metadata": {},
     "output_type": "display_data"
    }
   ],
   "source": [
    "rf_rfecv_columns = list(x_train.columns[rfecv.support_])\n",
    "test_resampling(resampling,x_train[rf_rfecv_columns], \n",
    "                x_test[rf_rfecv_columns], y_train, y_test, rf_rfecv_columns)"
   ]
  },
  {
   "cell_type": "markdown",
   "id": "celtic-scoop",
   "metadata": {
    "papermill": {
     "duration": 0.075018,
     "end_time": "2021-05-02T10:41:13.858459",
     "exception": false,
     "start_time": "2021-05-02T10:41:13.783441",
     "status": "completed"
    },
    "tags": []
   },
   "source": [
    "The $F_1$ score on the test set remains constant compared to the results of [Sec. 4.C](#4.C-Recursive-feature-elimination-(RFE)-with-random-forest)."
   ]
  },
  {
   "cell_type": "markdown",
   "id": "ethical-bosnia",
   "metadata": {
    "papermill": {
     "duration": 0.075002,
     "end_time": "2021-05-02T10:41:14.009686",
     "exception": false,
     "start_time": "2021-05-02T10:41:13.934684",
     "status": "completed"
    },
    "tags": []
   },
   "source": [
    "## 4.D Factor Analysis of Mixed Data (FAMD) for feature extraction\n",
    "\n",
    "Principal component analysis (PCA) is by far the most common dimensionality reduction techniques, but can be employed with datasets containing continuous variable only. In this case, the dataset contains instead a combination of continuous and categorical variables. For this reason, [factor analysis of mixed data (FAMD)](https://en.wikipedia.org/wiki/Factor_analysis_of_mixed_data) is the technique most suitable to perform feature extraction on the stroke prediction dataset. It can be viewed as the combination of PCA for continuous variables and multiple correspondence analysis (MCA) for categorical variables.  \n",
    "FAMD is not available in scikit-learn, while in R it can be found in the [PCAmix](https://cran.r-project.org/web/packages/PCAmixdata/index.html) package. In Python, it was implemented in a privately maintained package, [Prince](https://github.com/MaxHalford/prince/tree/988f7fe01b6e4c9476517d1939f5fe0e13deb158).\n",
    "\n",
    "\n",
    "\n",
    "![r-blogger](https://i0.wp.com/www.sthda.com/sthda/RDoc/images/multivariate-analysis-factoextra.png?w=578)  \n",
    "\n",
    "Figure taken from [r-blogger](https://www.r-bloggers.com/2017/02/factoextra-r-package-easy-multivariate-data-analyses-and-elegant-visualization/) website."
   ]
  },
  {
   "cell_type": "code",
   "execution_count": 34,
   "id": "regulated-washer",
   "metadata": {
    "execution": {
     "iopub.execute_input": "2021-05-02T10:41:14.189999Z",
     "iopub.status.busy": "2021-05-02T10:41:14.172468Z",
     "iopub.status.idle": "2021-05-02T10:41:14.594628Z",
     "shell.execute_reply": "2021-05-02T10:41:14.595450Z"
    },
    "papermill": {
     "duration": 0.510662,
     "end_time": "2021-05-02T10:41:14.595731",
     "exception": false,
     "start_time": "2021-05-02T10:41:14.085069",
     "status": "completed"
    },
    "tags": []
   },
   "outputs": [],
   "source": [
    "famd_stroke = prince.FAMD(\n",
    "     n_components=16,\n",
    "     n_iter=10,\n",
    "     copy=True,\n",
    "     check_input=True,\n",
    "     engine='auto',\n",
    "     random_state=42)\n",
    "principalComponents_stroke = famd_stroke.fit_transform(df.drop(['stroke'],axis=1))"
   ]
  },
  {
   "cell_type": "markdown",
   "id": "reliable-equipment",
   "metadata": {
    "papermill": {
     "duration": 0.075269,
     "end_time": "2021-05-02T10:41:14.796002",
     "exception": false,
     "start_time": "2021-05-02T10:41:14.720733",
     "status": "completed"
    },
    "tags": []
   },
   "source": [
    "In the plot below we see the distribution of the \"inertia\" (i.e. variance in the nomenclature of the package Prince), among the components selected by the FAMD algorithm. The first component carries 20% of the variance, the remaining ~80% of the variance is distributed among 13 components. For instance, 80% of the variance is contained in the first 8 components."
   ]
  },
  {
   "cell_type": "code",
   "execution_count": 35,
   "id": "bridal-documentation",
   "metadata": {
    "execution": {
     "iopub.execute_input": "2021-05-02T10:41:14.979606Z",
     "iopub.status.busy": "2021-05-02T10:41:14.978568Z",
     "iopub.status.idle": "2021-05-02T10:41:15.241308Z",
     "shell.execute_reply": "2021-05-02T10:41:15.241842Z"
    },
    "papermill": {
     "duration": 0.370348,
     "end_time": "2021-05-02T10:41:15.242011",
     "exception": false,
     "start_time": "2021-05-02T10:41:14.871663",
     "status": "completed"
    },
    "tags": []
   },
   "outputs": [
    {
     "data": {
      "text/plain": [
       "[<matplotlib.lines.Line2D at 0x7f0cc9284790>]"
      ]
     },
     "execution_count": 35,
     "metadata": {},
     "output_type": "execute_result"
    },
    {
     "data": {
      "image/png": "[encoded data removed]",
      "text/plain": [
       "<Figure size 720x648 with 1 Axes>"
      ]
     },
     "metadata": {},
     "output_type": "display_data"
    }
   ],
   "source": [
    "sns.set()\n",
    "plt.figure(1, figsize=(10, 9))\n",
    "sns.lineplot(data=np.cumsum(famd_stroke.explained_inertia_))\n",
    "plt.xlabel('number of components')\n",
    "plt.ylabel('cumulative explained variance');\n",
    "\n",
    "plt.bar(range(0,16), famd_stroke.explained_inertia_,\n",
    "        alpha=0.5,\n",
    "        align='center')\n",
    "plt.step(range(0,16), np.cumsum(famd_stroke.explained_inertia_),\n",
    "         where='mid',\n",
    "         color='red')"
   ]
  },
  {
   "cell_type": "code",
   "execution_count": 36,
   "id": "coordinated-fabric",
   "metadata": {
    "execution": {
     "iopub.execute_input": "2021-05-02T10:41:15.403576Z",
     "iopub.status.busy": "2021-05-02T10:41:15.402600Z",
     "iopub.status.idle": "2021-05-02T10:41:15.410146Z",
     "shell.execute_reply": "2021-05-02T10:41:15.409591Z"
    },
    "papermill": {
     "duration": 0.090565,
     "end_time": "2021-05-02T10:41:15.410298",
     "exception": false,
     "start_time": "2021-05-02T10:41:15.319733",
     "status": "completed"
    },
    "tags": []
   },
   "outputs": [],
   "source": [
    "n_pca = 5\n",
    "pca_cols = []\n",
    "for j in range(n_pca):\n",
    "    pca_cols.append('pca%d'%(j))\n",
    "principalComp_stroke_df = pd.DataFrame(data = np.array(principalComponents_stroke)[:,:n_pca],\n",
    "                                      columns=pca_cols)"
   ]
  },
  {
   "cell_type": "code",
   "execution_count": 37,
   "id": "bigger-circuit",
   "metadata": {
    "execution": {
     "iopub.execute_input": "2021-05-02T10:41:15.572745Z",
     "iopub.status.busy": "2021-05-02T10:41:15.571977Z",
     "iopub.status.idle": "2021-05-02T10:41:15.578783Z",
     "shell.execute_reply": "2021-05-02T10:41:15.579311Z"
    },
    "papermill": {
     "duration": 0.091573,
     "end_time": "2021-05-02T10:41:15.579501",
     "exception": false,
     "start_time": "2021-05-02T10:41:15.487928",
     "status": "completed"
    },
    "tags": []
   },
   "outputs": [],
   "source": [
    "x_train, x_test, y_train, y_test = train_test_split(principalComp_stroke_df, df['stroke'], \n",
    "                                                    test_size=0.25, random_state=42)"
   ]
  },
  {
   "cell_type": "code",
   "execution_count": 38,
   "id": "difficult-graduate",
   "metadata": {
    "execution": {
     "iopub.execute_input": "2021-05-02T10:41:15.742266Z",
     "iopub.status.busy": "2021-05-02T10:41:15.740338Z",
     "iopub.status.idle": "2021-05-02T10:41:35.617399Z",
     "shell.execute_reply": "2021-05-02T10:41:35.617871Z"
    },
    "papermill": {
     "duration": 19.960108,
     "end_time": "2021-05-02T10:41:35.618067",
     "exception": false,
     "start_time": "2021-05-02T10:41:15.657959",
     "status": "completed"
    },
    "tags": []
   },
   "outputs": [
    {
     "data": {
      "text/html": [
       "<div>\n",
       "<style scoped>\n",
       "    .dataframe tbody tr th:only-of-type {\n",
       "        vertical-align: middle;\n",
       "    }\n",
       "\n",
       "    .dataframe tbody tr th {\n",
       "        vertical-align: top;\n",
       "    }\n",
       "\n",
       "    .dataframe thead th {\n",
       "        text-align: right;\n",
       "    }\n",
       "</style>\n",
       "<table border=\"1\" class=\"dataframe\">\n",
       "  <thead>\n",
       "    <tr style=\"text-align: right;\">\n",
       "      <th></th>\n",
       "      <th>Dataset</th>\n",
       "      <th>F1</th>\n",
       "      <th>Accuracy</th>\n",
       "      <th>Recall</th>\n",
       "      <th>Precision</th>\n",
       "      <th>ROC AUC</th>\n",
       "      <th>False Positives (T-I)</th>\n",
       "      <th>False Negatives (T-II)</th>\n",
       "      <th>True Positives</th>\n",
       "      <th>True Negatives</th>\n",
       "    </tr>\n",
       "  </thead>\n",
       "  <tbody>\n",
       "    <tr>\n",
       "      <th>0</th>\n",
       "      <td>Test</td>\n",
       "      <td>0.212230</td>\n",
       "      <td>0.643613</td>\n",
       "      <td>0.797297</td>\n",
       "      <td>0.122407</td>\n",
       "      <td>0.715532</td>\n",
       "      <td>423</td>\n",
       "      <td>15</td>\n",
       "      <td>59</td>\n",
       "      <td>732</td>\n",
       "    </tr>\n",
       "    <tr>\n",
       "      <th>1</th>\n",
       "      <td>Train</td>\n",
       "      <td>0.871765</td>\n",
       "      <td>0.851028</td>\n",
       "      <td>0.924628</td>\n",
       "      <td>0.824620</td>\n",
       "      <td>0.843275</td>\n",
       "      <td>634</td>\n",
       "      <td>243</td>\n",
       "      <td>2981</td>\n",
       "      <td>2029</td>\n",
       "    </tr>\n",
       "  </tbody>\n",
       "</table>\n",
       "</div>"
      ],
      "text/plain": [
       "  Dataset        F1  Accuracy    Recall  Precision   ROC AUC  \\\n",
       "0    Test  0.212230  0.643613  0.797297   0.122407  0.715532   \n",
       "1   Train  0.871765  0.851028  0.924628   0.824620  0.843275   \n",
       "\n",
       "   False Positives (T-I)  False Negatives (T-II)  True Positives  \\\n",
       "0                    423                      15              59   \n",
       "1                    634                     243            2981   \n",
       "\n",
       "   True Negatives  \n",
       "0             732  \n",
       "1            2029  "
      ]
     },
     "metadata": {},
     "output_type": "display_data"
    },
    {
     "data": {
      "image/png": "[encoded data removed]",
      "text/plain": [
       "<Figure size 432x288 with 1 Axes>"
      ]
     },
     "metadata": {},
     "output_type": "display_data"
    }
   ],
   "source": [
    "test_resampling(resampling,x_train, \n",
    "                x_test, y_train, y_test, pca_cols)"
   ]
  },
  {
   "cell_type": "markdown",
   "id": "aggregate-density",
   "metadata": {
    "papermill": {
     "duration": 0.078843,
     "end_time": "2021-05-02T10:41:35.776049",
     "exception": false,
     "start_time": "2021-05-02T10:41:35.697206",
     "status": "completed"
    },
    "tags": []
   },
   "source": [
    "## Neural network modeldef plot_cm(labels, predictions, p=0.5):\n",
    "  \n"
   ]
  },
  {
   "cell_type": "code",
   "execution_count": 39,
   "id": "steady-tomato",
   "metadata": {
    "execution": {
     "iopub.execute_input": "2021-05-02T10:41:35.940413Z",
     "iopub.status.busy": "2021-05-02T10:41:35.939760Z",
     "iopub.status.idle": "2021-05-02T10:41:42.374089Z",
     "shell.execute_reply": "2021-05-02T10:41:42.374701Z"
    },
    "papermill": {
     "duration": 6.519543,
     "end_time": "2021-05-02T10:41:42.374887",
     "exception": false,
     "start_time": "2021-05-02T10:41:35.855344",
     "status": "completed"
    },
    "tags": []
   },
   "outputs": [
    {
     "name": "stdout",
     "output_type": "stream",
     "text": [
      "2.4.1\n"
     ]
    }
   ],
   "source": [
    "import tensorflow as tf\n",
    "import tensorflow_addons as tfa\n",
    "from keras.regularizers import l2\n",
    "print(tf.__version__)"
   ]
  },
  {
   "cell_type": "code",
   "execution_count": 40,
   "id": "rotary-boost",
   "metadata": {
    "execution": {
     "iopub.execute_input": "2021-05-02T10:41:42.553849Z",
     "iopub.status.busy": "2021-05-02T10:41:42.553197Z",
     "iopub.status.idle": "2021-05-02T10:41:42.557969Z",
     "shell.execute_reply": "2021-05-02T10:41:42.558564Z"
    },
    "papermill": {
     "duration": 0.103873,
     "end_time": "2021-05-02T10:41:42.558729",
     "exception": false,
     "start_time": "2021-05-02T10:41:42.454856",
     "status": "completed"
    },
    "tags": []
   },
   "outputs": [
    {
     "data": {
      "text/html": [
       "<div>\n",
       "<style scoped>\n",
       "    .dataframe tbody tr th:only-of-type {\n",
       "        vertical-align: middle;\n",
       "    }\n",
       "\n",
       "    .dataframe tbody tr th {\n",
       "        vertical-align: top;\n",
       "    }\n",
       "\n",
       "    .dataframe thead th {\n",
       "        text-align: right;\n",
       "    }\n",
       "</style>\n",
       "<table border=\"1\" class=\"dataframe\">\n",
       "  <thead>\n",
       "    <tr style=\"text-align: right;\">\n",
       "      <th></th>\n",
       "      <th>age</th>\n",
       "      <th>hypertension</th>\n",
       "      <th>heart_disease</th>\n",
       "      <th>avg_glucose_level</th>\n",
       "      <th>bmi</th>\n",
       "      <th>gender_Male</th>\n",
       "      <th>Residence_type_Urban</th>\n",
       "      <th>work_type_Never_worked</th>\n",
       "      <th>work_type_Private</th>\n",
       "      <th>work_type_Self-employed</th>\n",
       "      <th>work_type_children</th>\n",
       "      <th>ever_married_Yes</th>\n",
       "      <th>smoking_status_formerly smoked</th>\n",
       "      <th>smoking_status_never smoked</th>\n",
       "      <th>smoking_status_smokes</th>\n",
       "    </tr>\n",
       "  </thead>\n",
       "  <tbody>\n",
       "    <tr>\n",
       "      <th>0</th>\n",
       "      <td>67.0</td>\n",
       "      <td>0</td>\n",
       "      <td>1</td>\n",
       "      <td>228.69</td>\n",
       "      <td>36.600000</td>\n",
       "      <td>1</td>\n",
       "      <td>1</td>\n",
       "      <td>0</td>\n",
       "      <td>1</td>\n",
       "      <td>0</td>\n",
       "      <td>0</td>\n",
       "      <td>1</td>\n",
       "      <td>1</td>\n",
       "      <td>0</td>\n",
       "      <td>0</td>\n",
       "    </tr>\n",
       "    <tr>\n",
       "      <th>1</th>\n",
       "      <td>61.0</td>\n",
       "      <td>0</td>\n",
       "      <td>0</td>\n",
       "      <td>202.21</td>\n",
       "      <td>28.319482</td>\n",
       "      <td>0</td>\n",
       "      <td>0</td>\n",
       "      <td>0</td>\n",
       "      <td>0</td>\n",
       "      <td>1</td>\n",
       "      <td>0</td>\n",
       "      <td>1</td>\n",
       "      <td>0</td>\n",
       "      <td>1</td>\n",
       "      <td>0</td>\n",
       "    </tr>\n",
       "    <tr>\n",
       "      <th>2</th>\n",
       "      <td>80.0</td>\n",
       "      <td>0</td>\n",
       "      <td>1</td>\n",
       "      <td>105.92</td>\n",
       "      <td>32.500000</td>\n",
       "      <td>1</td>\n",
       "      <td>0</td>\n",
       "      <td>0</td>\n",
       "      <td>1</td>\n",
       "      <td>0</td>\n",
       "      <td>0</td>\n",
       "      <td>1</td>\n",
       "      <td>0</td>\n",
       "      <td>1</td>\n",
       "      <td>0</td>\n",
       "    </tr>\n",
       "    <tr>\n",
       "      <th>3</th>\n",
       "      <td>49.0</td>\n",
       "      <td>0</td>\n",
       "      <td>0</td>\n",
       "      <td>171.23</td>\n",
       "      <td>34.400000</td>\n",
       "      <td>0</td>\n",
       "      <td>1</td>\n",
       "      <td>0</td>\n",
       "      <td>1</td>\n",
       "      <td>0</td>\n",
       "      <td>0</td>\n",
       "      <td>1</td>\n",
       "      <td>0</td>\n",
       "      <td>0</td>\n",
       "      <td>1</td>\n",
       "    </tr>\n",
       "    <tr>\n",
       "      <th>4</th>\n",
       "      <td>79.0</td>\n",
       "      <td>1</td>\n",
       "      <td>0</td>\n",
       "      <td>174.12</td>\n",
       "      <td>24.000000</td>\n",
       "      <td>0</td>\n",
       "      <td>0</td>\n",
       "      <td>0</td>\n",
       "      <td>0</td>\n",
       "      <td>1</td>\n",
       "      <td>0</td>\n",
       "      <td>1</td>\n",
       "      <td>0</td>\n",
       "      <td>1</td>\n",
       "      <td>0</td>\n",
       "    </tr>\n",
       "  </tbody>\n",
       "</table>\n",
       "</div>"
      ],
      "text/plain": [
       "    age  hypertension  heart_disease  avg_glucose_level        bmi  \\\n",
       "0  67.0             0              1             228.69  36.600000   \n",
       "1  61.0             0              0             202.21  28.319482   \n",
       "2  80.0             0              1             105.92  32.500000   \n",
       "3  49.0             0              0             171.23  34.400000   \n",
       "4  79.0             1              0             174.12  24.000000   \n",
       "\n",
       "   gender_Male  Residence_type_Urban  work_type_Never_worked  \\\n",
       "0            1                     1                       0   \n",
       "1            0                     0                       0   \n",
       "2            1                     0                       0   \n",
       "3            0                     1                       0   \n",
       "4            0                     0                       0   \n",
       "\n",
       "   work_type_Private  work_type_Self-employed  work_type_children  \\\n",
       "0                  1                        0                   0   \n",
       "1                  0                        1                   0   \n",
       "2                  1                        0                   0   \n",
       "3                  1                        0                   0   \n",
       "4                  0                        1                   0   \n",
       "\n",
       "   ever_married_Yes  smoking_status_formerly smoked  \\\n",
       "0                 1                               1   \n",
       "1                 1                               0   \n",
       "2                 1                               0   \n",
       "3                 1                               0   \n",
       "4                 1                               0   \n",
       "\n",
       "   smoking_status_never smoked  smoking_status_smokes  \n",
       "0                            0                      0  \n",
       "1                            1                      0  \n",
       "2                            1                      0  \n",
       "3                            0                      1  \n",
       "4                            1                      0  "
      ]
     },
     "execution_count": 40,
     "metadata": {},
     "output_type": "execute_result"
    }
   ],
   "source": [
    "df_one_hot.drop('stroke',axis=1).head()"
   ]
  },
  {
   "cell_type": "code",
   "execution_count": 41,
   "id": "informed-craft",
   "metadata": {
    "execution": {
     "iopub.execute_input": "2021-05-02T10:41:42.722757Z",
     "iopub.status.busy": "2021-05-02T10:41:42.722085Z",
     "iopub.status.idle": "2021-05-02T10:42:49.336415Z",
     "shell.execute_reply": "2021-05-02T10:42:49.335531Z"
    },
    "papermill": {
     "duration": 66.69732,
     "end_time": "2021-05-02T10:42:49.336582",
     "exception": false,
     "start_time": "2021-05-02T10:41:42.639262",
     "status": "completed"
    },
    "tags": []
   },
   "outputs": [
    {
     "name": "stdout",
     "output_type": "stream",
     "text": [
      "16\n"
     ]
    }
   ],
   "source": [
    "resampling = SMOTE(random_state=7)\n",
    "\n",
    "x_train, x_test, y_train, y_test = train_test_split(df_one_hot.drop('stroke',axis=1),df_one_hot['stroke'], \n",
    "                                                    test_size=0.25, random_state=42)\n",
    "\n",
    "x_tmp, y_tmp = resampling.fit_resample(x_train, y_train)\n",
    "x_train_tmp = pd.DataFrame(x_tmp,columns=df_cols)\n",
    "y_train_tmp = pd.Series(y_tmp)\n",
    "\n",
    "\n",
    "model = tf.keras.models.Sequential([\n",
    "    tf.keras.Input(shape=(len(df_one_hot.columns)-1,)),\n",
    "    tf.keras.layers.Dense(20, activation=\"relu\",kernel_regularizer=l2(0.01)),\n",
    "#     tf.keras.layers.Dense(50, activation=\"relu\"),\n",
    "    tf.keras.layers.Dropout(0.5),\n",
    "    tf.keras.layers.Dense(1, activation=\"sigmoid\")\n",
    "])\n",
    "\n",
    "\n",
    "lr_schedule = tf.keras.callbacks.LearningRateScheduler(\n",
    "    lambda epoch: 1e-3 * 10**(epoch / 20))\n",
    "optimizer = tf.keras.optimizers.Adam(lr=0.5*1e-3)\n",
    "\n",
    "METRICS = [\n",
    "      tf.keras.metrics.TruePositives(name='tp'),\n",
    "      tf.keras.metrics.FalsePositives(name='fp'),\n",
    "      tf.keras.metrics.TrueNegatives(name='tn'),\n",
    "      tf.keras.metrics.FalseNegatives(name='fn'), \n",
    "      tf.keras.metrics.BinaryAccuracy(name='accuracy'),\n",
    "      tf.keras.metrics.Precision(name='precision'),\n",
    "      tf.keras.metrics.Recall(name='recall'),\n",
    "      tf.keras.metrics.AUC(name='auc'),\n",
    "      tf.keras.metrics.AUC(name='prc', curve='PR'), # precision-recall curve\n",
    "]\n",
    "\n",
    "\n",
    "model.compile(loss=tf.keras.losses.BinaryCrossentropy(),\n",
    "              optimizer=optimizer,\n",
    "              metrics=[METRICS])\n",
    "\n",
    "print(len(df_one_hot.columns))\n",
    "\n",
    "counts = np.bincount(y_train)\n",
    "weight_for_0 = (1.0 / counts[0])\n",
    "weight_for_1 = (1.0 / counts[1])\n",
    "class_weight = {0: weight_for_0, 1: weight_for_1}\n",
    "class_weight = {0: 1, 1: 1}\n",
    "history = model.fit(x_train_tmp,y_train_tmp,epochs=150,verbose=0,#, callbacks=[lr_schedule],\n",
    "                       validation_data=(x_test, y_test),\n",
    "                        class_weight=class_weight)"
   ]
  },
  {
   "cell_type": "code",
   "execution_count": 42,
   "id": "homeless-faculty",
   "metadata": {
    "execution": {
     "iopub.execute_input": "2021-05-02T10:42:49.509644Z",
     "iopub.status.busy": "2021-05-02T10:42:49.507449Z",
     "iopub.status.idle": "2021-05-02T10:42:49.510313Z",
     "shell.execute_reply": "2021-05-02T10:42:49.510817Z"
    },
    "papermill": {
     "duration": 0.091103,
     "end_time": "2021-05-02T10:42:49.510986",
     "exception": false,
     "start_time": "2021-05-02T10:42:49.419883",
     "status": "completed"
    },
    "tags": []
   },
   "outputs": [],
   "source": [
    "def plot_loss(history, label, n):\n",
    "    plt.semilogy(history.epoch, history.history['loss'], label='Train ' + label)\n",
    "    plt.semilogy(history.epoch, history.history['val_loss'], label='Val ' + label,\n",
    "               linestyle=\"--\")\n",
    "    plt.xlabel('Epoch')\n",
    "    plt.ylabel('Loss')\n",
    "    plt.legend()\n"
   ]
  },
  {
   "cell_type": "code",
   "execution_count": 43,
   "id": "catholic-turkey",
   "metadata": {
    "execution": {
     "iopub.execute_input": "2021-05-02T10:42:49.697020Z",
     "iopub.status.busy": "2021-05-02T10:42:49.679275Z",
     "iopub.status.idle": "2021-05-02T10:42:50.232409Z",
     "shell.execute_reply": "2021-05-02T10:42:50.232915Z"
    },
    "papermill": {
     "duration": 0.640464,
     "end_time": "2021-05-02T10:42:50.233192",
     "exception": false,
     "start_time": "2021-05-02T10:42:49.592728",
     "status": "completed"
    },
    "tags": []
   },
   "outputs": [
    {
     "data": {
      "image/png": "[encoded data removed]",
      "text/plain": [
       "<Figure size 432x288 with 1 Axes>"
      ]
     },
     "metadata": {},
     "output_type": "display_data"
    }
   ],
   "source": [
    "plot_loss(history, \"set\", 0)"
   ]
  },
  {
   "cell_type": "code",
   "execution_count": 44,
   "id": "noticed-purple",
   "metadata": {
    "execution": {
     "iopub.execute_input": "2021-05-02T10:42:50.402012Z",
     "iopub.status.busy": "2021-05-02T10:42:50.401412Z",
     "iopub.status.idle": "2021-05-02T10:42:50.412805Z",
     "shell.execute_reply": "2021-05-02T10:42:50.412247Z"
    },
    "papermill": {
     "duration": 0.097631,
     "end_time": "2021-05-02T10:42:50.412940",
     "exception": false,
     "start_time": "2021-05-02T10:42:50.315309",
     "status": "completed"
    },
    "tags": []
   },
   "outputs": [],
   "source": [
    "def plot_cm(labels, predictions, p=0.5):\n",
    "    cm = confusion_matrix(labels, predictions > p)\n",
    "    plt.figure(figsize=(5,5))\n",
    "    sns.heatmap(cm, annot=True, fmt=\"d\")\n",
    "    plt.title('Confusion matrix @{:.2f}'.format(p))\n",
    "    plt.ylabel('Actual label')\n",
    "    plt.xlabel('Predicted label')"
   ]
  },
  {
   "cell_type": "code",
   "execution_count": 45,
   "id": "blessed-study",
   "metadata": {
    "execution": {
     "iopub.execute_input": "2021-05-02T10:42:50.584284Z",
     "iopub.status.busy": "2021-05-02T10:42:50.583666Z",
     "iopub.status.idle": "2021-05-02T10:42:51.181956Z",
     "shell.execute_reply": "2021-05-02T10:42:51.180842Z"
    },
    "papermill": {
     "duration": 0.68732,
     "end_time": "2021-05-02T10:42:51.182118",
     "exception": false,
     "start_time": "2021-05-02T10:42:50.494798",
     "status": "completed"
    },
    "tags": []
   },
   "outputs": [
    {
     "data": {
      "text/html": [
       "<div>\n",
       "<style scoped>\n",
       "    .dataframe tbody tr th:only-of-type {\n",
       "        vertical-align: middle;\n",
       "    }\n",
       "\n",
       "    .dataframe tbody tr th {\n",
       "        vertical-align: top;\n",
       "    }\n",
       "\n",
       "    .dataframe thead th {\n",
       "        text-align: right;\n",
       "    }\n",
       "</style>\n",
       "<table border=\"1\" class=\"dataframe\">\n",
       "  <thead>\n",
       "    <tr style=\"text-align: right;\">\n",
       "      <th></th>\n",
       "      <th>Dataset</th>\n",
       "      <th>F1</th>\n",
       "      <th>Accuracy</th>\n",
       "      <th>Recall</th>\n",
       "      <th>Precision</th>\n",
       "      <th>ROC AUC</th>\n",
       "      <th>False Positives (T-I)</th>\n",
       "      <th>False Negatives (T-II)</th>\n",
       "      <th>True Positives</th>\n",
       "      <th>True Negatives</th>\n",
       "    </tr>\n",
       "  </thead>\n",
       "  <tbody>\n",
       "    <tr>\n",
       "      <th>0</th>\n",
       "      <td>Test</td>\n",
       "      <td>0.254181</td>\n",
       "      <td>0.818552</td>\n",
       "      <td>0.513514</td>\n",
       "      <td>0.168889</td>\n",
       "      <td>0.675804</td>\n",
       "      <td>187</td>\n",
       "      <td>36</td>\n",
       "      <td>38</td>\n",
       "      <td>968</td>\n",
       "    </tr>\n",
       "    <tr>\n",
       "      <th>1</th>\n",
       "      <td>Train</td>\n",
       "      <td>0.863275</td>\n",
       "      <td>0.860376</td>\n",
       "      <td>0.881583</td>\n",
       "      <td>0.845713</td>\n",
       "      <td>0.860376</td>\n",
       "      <td>565</td>\n",
       "      <td>416</td>\n",
       "      <td>3097</td>\n",
       "      <td>2948</td>\n",
       "    </tr>\n",
       "  </tbody>\n",
       "</table>\n",
       "</div>"
      ],
      "text/plain": [
       "  Dataset        F1  Accuracy    Recall  Precision   ROC AUC  \\\n",
       "0    Test  0.254181  0.818552  0.513514   0.168889  0.675804   \n",
       "1   Train  0.863275  0.860376  0.881583   0.845713  0.860376   \n",
       "\n",
       "   False Positives (T-I)  False Negatives (T-II)  True Positives  \\\n",
       "0                    187                      36              38   \n",
       "1                    565                     416            3097   \n",
       "\n",
       "   True Negatives  \n",
       "0             968  \n",
       "1            2948  "
      ]
     },
     "metadata": {},
     "output_type": "display_data"
    },
    {
     "data": {
      "image/png": "[encoded data removed]",
      "text/plain": [
       "<Figure size 360x360 with 2 Axes>"
      ]
     },
     "metadata": {},
     "output_type": "display_data"
    }
   ],
   "source": [
    "treshold = 0.5\n",
    "out = model.predict(x_test)\n",
    "test_pred = np.array([0 if p < treshold else 1 for p in out])\n",
    "out = model.predict(x_train_tmp)\n",
    "train_pred = np.array([0 if p < treshold else 1 for p in out])\n",
    "plot_cm(y_test, test_pred)\n",
    "compute_score(y_train_tmp,y_test,train_pred,test_pred)"
   ]
  }
 ],
 "metadata": {
  "kernelspec": {
   "display_name": "Python 3",
   "language": "python",
   "name": "python3"
  },
  "language_info": {
   "codemirror_mode": {
    "name": "ipython",
    "version": 3
   },
   "file_extension": ".py",
   "mimetype": "text/x-python",
   "name": "python",
   "nbconvert_exporter": "python",
   "pygments_lexer": "ipython3",
   "version": "3.7.9"
  },
  "papermill": {
   "default_parameters": {},
   "duration": 468.431965,
   "end_time": "2021-05-02T10:42:52.679292",
   "environment_variables": {},
   "exception": null,
   "input_path": "__notebook__.ipynb",
   "output_path": "__notebook__.ipynb",
   "parameters": {},
   "start_time": "2021-05-02T10:35:04.247327",
   "version": "2.3.2"
  }
 },
 "nbformat": 4,
 "nbformat_minor": 5
}
